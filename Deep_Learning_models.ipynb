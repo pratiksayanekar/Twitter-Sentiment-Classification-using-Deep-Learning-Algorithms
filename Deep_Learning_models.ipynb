{
 "cells": [
  {
   "cell_type": "markdown",
   "metadata": {},
   "source": [
    "***\n",
    "# Name: Pratik Sayanekar | Student ID: 20200161\n",
    "## COMP47650 Deep Learning Project\n",
    "## Dataset -  B1: Twitter Sentiment Classification\n",
    "***"
   ]
  },
  {
   "cell_type": "markdown",
   "metadata": {},
   "source": [
    "<b>This notebook illustrates several modeling strategies for deep neural networks related to tweets.</b>\n",
    "\n",
    "<div class=\"list-group\" id=\"list-tab\" role=\"tablist\">\n",
    "  <h3 class=\"list-group-item list-group-item-action active\" data-toggle=\"list\"  role=\"tab\" aria-controls=\"home\">Table of Contents</h3>\n",
    "  <a class=\"list-group-item list-group-item-action\" data-toggle=\"list\" href=\"#dataset\" role=\"tab\" aria-controls=\"profile\">Reading Preprocessed Data<span class=\"badge badge-primary badge-pill\">1</span></a>\n",
    "  <a class=\"list-group-item list-group-item-action\" data-toggle=\"list\" href=\"#Tokenization\" role=\"tab\" aria-controls=\"messages\">Tokenization and Padding of each tweet<span class=\"badge badge-primary badge-pill\">2</span></a>   \n",
    "  <a class=\"list-group-item list-group-item-action\"  data-toggle=\"list\" href=\"#Word2Vec\" role=\"tab\" aria-controls=\"settings\">Word2Vec Embedding<span class=\"badge badge-primary badge-pill\">3.1</span></a>\n",
    "  <a class=\"list-group-item list-group-item-action\"  data-toggle=\"list\" href=\"#glove\" role=\"tab\" aria-controls=\"settings\">Glove : Pretrained word embedding<span class=\"badge badge-primary badge-pill\">3.2</span></a>\n",
    "  <a class=\"list-group-item list-group-item-action\" data-toggle=\"list\" href=\"#Models\" role=\"tab\" aria-controls=\"settings\">Deep Learning Models<span class=\"badge badge-primary badge-pill\">4</span></a>\n",
    "  <a class=\"list-group-item list-group-item-action\" data-toggle=\"list\" href=\"#cnn\" role=\"tab\" aria-controls=\"settings\">CNN<span class=\"badge badge-primary badge-pill\">4.1</span></a> \n",
    "  <a class=\"list-group-item list-group-item-action\" data-toggle=\"list\" href=\"#cnn2\" role=\"tab\" aria-controls=\"settings\">CNN_v2<span class=\"badge badge-primary badge-pill\">4.2</span></a> \n",
    "  <a class=\"list-group-item list-group-item-action\" data-toggle=\"list\" href=\"#lstm\" role=\"tab\" aria-controls=\"settings\">LSTM<span class=\"badge badge-primary badge-pill\">4.3</span></a> \n",
    "  <a class=\"list-group-item list-group-item-action\" data-toggle=\"list\" href=\"#lstm2\" role=\"tab\" aria-controls=\"settings\">LSTM_v2<span class=\"badge badge-primary badge-pill\">4.4</span></a> \n",
    "  <a class=\"list-group-item list-group-item-action\" data-toggle=\"list\" href=\"#bilstm\" role=\"tab\" aria-controls=\"settings\">Proposed Model: BiLSTM + CNN <span class=\"badge badge-primary badge-pill\">5</span></a> \n",
    "  <a class=\"list-group-item list-group-item-action\" data-toggle=\"list\" href=\"#conclusion\" role=\"tab\" aria-controls=\"settings\">Conclusion <span class=\"badge badge-primary badge-pill\">6</span></a>  \n",
    "    "
   ]
  },
  {
   "cell_type": "markdown",
   "metadata": {
    "id": "hSvj9uTMxqr9"
   },
   "source": [
    "# **Import**"
   ]
  },
  {
   "cell_type": "code",
   "execution_count": 1,
   "metadata": {
    "executionInfo": {
     "elapsed": 4561,
     "status": "ok",
     "timestamp": 1618442562521,
     "user": {
      "displayName": "Pratik Pundlik Sayanekar",
      "photoUrl": "",
      "userId": "12868587701793367447"
     },
     "user_tz": -60
    },
    "id": "KdFoTLXsDESF"
   },
   "outputs": [],
   "source": [
    "! pip install -q scikit-plot"
   ]
  },
  {
   "cell_type": "code",
   "execution_count": 2,
   "metadata": {
    "executionInfo": {
     "elapsed": 4557,
     "status": "ok",
     "timestamp": 1618442562522,
     "user": {
      "displayName": "Pratik Pundlik Sayanekar",
      "photoUrl": "",
      "userId": "12868587701793367447"
     },
     "user_tz": -60
    },
    "id": "1WmEmhR_xjpa"
   },
   "outputs": [],
   "source": [
    "import pandas as pd\n",
    "pd.set_option('display.max_colwidth', None)\n",
    "import string"
   ]
  },
  {
   "cell_type": "code",
   "execution_count": 3,
   "metadata": {
    "executionInfo": {
     "elapsed": 4556,
     "status": "ok",
     "timestamp": 1618442562524,
     "user": {
      "displayName": "Pratik Pundlik Sayanekar",
      "photoUrl": "",
      "userId": "12868587701793367447"
     },
     "user_tz": -60
    },
    "id": "rg7gU6mg9Npu"
   },
   "outputs": [],
   "source": [
    "import sys\n",
    "filePath = '/Users/pratiksayanekar/Documents/DL_20200161'\n",
    "#filePath = '/content/drive/My Drive/DeepLearning'\n",
    "sys.path.append(filePath)"
   ]
  },
  {
   "cell_type": "markdown",
   "metadata": {},
   "source": [
    "### Python custom classes for accessing model specific utilities"
   ]
  },
  {
   "cell_type": "code",
   "execution_count": 4,
   "metadata": {
    "executionInfo": {
     "elapsed": 10327,
     "status": "ok",
     "timestamp": 1618442568296,
     "user": {
      "displayName": "Pratik Pundlik Sayanekar",
      "photoUrl": "",
      "userId": "12868587701793367447"
     },
     "user_tz": -60
    },
    "id": "NMwa3-Yl4LoD"
   },
   "outputs": [
    {
     "name": "stderr",
     "output_type": "stream",
     "text": [
      "/Users/pratiksayanekar/opt/anaconda3/lib/python3.8/site-packages/gensim/similarities/__init__.py:15: UserWarning: The gensim.similarities.levenshtein submodule is disabled, because the optional Levenshtein package <https://pypi.org/project/python-Levenshtein/> is unavailable. Install Levenhstein (e.g. `pip install python-Levenshtein`) to suppress this warning.\n",
      "  warnings.warn(msg)\n"
     ]
    }
   ],
   "source": [
    "from utils.basic_utilities import Utils\n",
    "from models.LSTM_1 import LSTM_Model\n",
    "from models.CNN_1 import CNN_Model\n",
    "from models.Word2Vec_1 import Word2VecModel\n",
    "from models.BiLSTM import BiLSTM_Model"
   ]
  },
  {
   "cell_type": "code",
   "execution_count": 5,
   "metadata": {
    "executionInfo": {
     "elapsed": 10326,
     "status": "ok",
     "timestamp": 1618442568297,
     "user": {
      "displayName": "Pratik Pundlik Sayanekar",
      "photoUrl": "",
      "userId": "12868587701793367447"
     },
     "user_tz": -60
    },
    "id": "fdPZR-STw0WL"
   },
   "outputs": [],
   "source": [
    "from sklearn.metrics import classification_report"
   ]
  },
  {
   "cell_type": "markdown",
   "metadata": {
    "id": "qE2K-FxWxvhc"
   },
   "source": [
    "# <a id= 'dataset'> **1. Reading Preprocessed Data**"
   ]
  },
  {
   "cell_type": "code",
   "execution_count": 6,
   "metadata": {
    "colab": {
     "base_uri": "https://localhost:8080/",
     "height": 306
    },
    "executionInfo": {
     "elapsed": 15999,
     "status": "ok",
     "timestamp": 1618442574059,
     "user": {
      "displayName": "Pratik Pundlik Sayanekar",
      "photoUrl": "",
      "userId": "12868587701793367447"
     },
     "user_tz": -60
    },
    "id": "VJTB3726xu68",
    "outputId": "cc70fcbc-5dac-4d5c-8d69-60c6f941c7dd"
   },
   "outputs": [
    {
     "data": {
      "text/html": [
       "<div>\n",
       "<style scoped>\n",
       "    .dataframe tbody tr th:only-of-type {\n",
       "        vertical-align: middle;\n",
       "    }\n",
       "\n",
       "    .dataframe tbody tr th {\n",
       "        vertical-align: top;\n",
       "    }\n",
       "\n",
       "    .dataframe thead th {\n",
       "        text-align: right;\n",
       "    }\n",
       "</style>\n",
       "<table border=\"1\" class=\"dataframe\">\n",
       "  <thead>\n",
       "    <tr style=\"text-align: right;\">\n",
       "      <th></th>\n",
       "      <th>emotion</th>\n",
       "      <th>text</th>\n",
       "    </tr>\n",
       "  </thead>\n",
       "  <tbody>\n",
       "    <tr>\n",
       "      <th>0</th>\n",
       "      <td>disappointed</td>\n",
       "      <td>oh fuck wrote fil grinning_face_with_sweatnsorry spot isappointed_face</td>\n",
       "    </tr>\n",
       "    <tr>\n",
       "      <th>1</th>\n",
       "      <td>disappointed</td>\n",
       "      <td>feel shamed</td>\n",
       "    </tr>\n",
       "    <tr>\n",
       "      <th>2</th>\n",
       "      <td>disappointed</td>\n",
       "      <td>feeling little bit defeated steps faith need try resolve problem</td>\n",
       "    </tr>\n",
       "    <tr>\n",
       "      <th>3</th>\n",
       "      <td>happy</td>\n",
       "      <td>imagine reaction guy called jj kfc saw man ve started crying lmao</td>\n",
       "    </tr>\n",
       "    <tr>\n",
       "      <th>4</th>\n",
       "      <td>disappointed</td>\n",
       "      <td>wouldnt feel burdened live life testament sacrifice love pure innocent great mighty</td>\n",
       "    </tr>\n",
       "  </tbody>\n",
       "</table>\n",
       "</div>"
      ],
      "text/plain": [
       "        emotion  \\\n",
       "0  disappointed   \n",
       "1  disappointed   \n",
       "2  disappointed   \n",
       "3         happy   \n",
       "4  disappointed   \n",
       "\n",
       "                                                                                  text  \n",
       "0               oh fuck wrote fil grinning_face_with_sweatnsorry spot isappointed_face  \n",
       "1                                                                          feel shamed  \n",
       "2                     feeling little bit defeated steps faith need try resolve problem  \n",
       "3                    imagine reaction guy called jj kfc saw man ve started crying lmao  \n",
       "4  wouldnt feel burdened live life testament sacrifice love pure innocent great mighty  "
      ]
     },
     "execution_count": 6,
     "metadata": {},
     "output_type": "execute_result"
    }
   ],
   "source": [
    "#df = pd.read_csv('/content/drive/MyDrive/DeepLearning/Data/preprocessed_data.csv')\n",
    "df = pd.read_csv('{}/Data/preprocessed_data.csv'.format(filePath))\n",
    "df.head()"
   ]
  },
  {
   "cell_type": "code",
   "execution_count": 7,
   "metadata": {
    "executionInfo": {
     "elapsed": 15998,
     "status": "ok",
     "timestamp": 1618442574060,
     "user": {
      "displayName": "Pratik Pundlik Sayanekar",
      "photoUrl": "",
      "userId": "12868587701793367447"
     },
     "user_tz": -60
    },
    "id": "enPDPec5I2Zu"
   },
   "outputs": [],
   "source": [
    "df.text = df.text.astype(str)"
   ]
  },
  {
   "cell_type": "markdown",
   "metadata": {
    "id": "2tpmE6zCpZ2i"
   },
   "source": [
    "# **Splitting dataset into train(80%) and test(20%)**\n",
    "\n",
    "The total number of tweets are divided into train and test sample in proportion of 80/20 with shuffling manner."
   ]
  },
  {
   "cell_type": "code",
   "execution_count": 8,
   "metadata": {
    "colab": {
     "base_uri": "https://localhost:8080/"
    },
    "executionInfo": {
     "elapsed": 17490,
     "status": "ok",
     "timestamp": 1618442575561,
     "user": {
      "displayName": "Pratik Pundlik Sayanekar",
      "photoUrl": "",
      "userId": "12868587701793367447"
     },
     "user_tz": -60
    },
    "id": "rmbqBr4vwK5_",
    "outputId": "f65a6a5c-fe29-4061-a6e8-2231dad6fe64"
   },
   "outputs": [
    {
     "name": "stdout",
     "output_type": "stream",
     "text": [
      "Initialization of Utilities...\n",
      "The shape of train data:  (733260,)\n",
      "The shape of train target:  (733260,)\n",
      "The shape of test data:  (183315,)\n",
      "The shape of test target:  (183315,)\n"
     ]
    }
   ],
   "source": [
    "util = Utils()\n",
    "X_train, X_test, y_train, y_test = util.split_data(df)\n",
    "print(\"The shape of train data: \",X_train.shape)\n",
    "print(\"The shape of train target: \",y_train.shape)\n",
    "print(\"The shape of test data: \",X_test.shape)\n",
    "print(\"The shape of test target: \",y_test.shape)"
   ]
  },
  {
   "cell_type": "code",
   "execution_count": 9,
   "metadata": {
    "scrolled": true
   },
   "outputs": [
    {
     "data": {
      "text/plain": [
       "disappointed    62743\n",
       "happy           60374\n",
       "angry           60198\n",
       "Name: emotion, dtype: int64"
      ]
     },
     "execution_count": 9,
     "metadata": {},
     "output_type": "execute_result"
    }
   ],
   "source": [
    "y_test.value_counts()"
   ]
  },
  {
   "cell_type": "markdown",
   "metadata": {},
   "source": [
    "<b> The above value count is useful for confusion matrix calculation. </b>"
   ]
  },
  {
   "cell_type": "markdown",
   "metadata": {
    "id": "n5Sqp20Spudj"
   },
   "source": [
    "# <a id= 'Tokenization'> 2. Tokenization and Padding of each tweet\n",
    "    The lenght of padding is evaluated on the basis of maximum word count present in tweets."
   ]
  },
  {
   "cell_type": "code",
   "execution_count": 10,
   "metadata": {
    "colab": {
     "base_uri": "https://localhost:8080/"
    },
    "executionInfo": {
     "elapsed": 18126,
     "status": "ok",
     "timestamp": 1618442576205,
     "user": {
      "displayName": "Pratik Pundlik Sayanekar",
      "photoUrl": "",
      "userId": "12868587701793367447"
     },
     "user_tz": -60
    },
    "id": "YwI5tOD9JcEV",
    "outputId": "2dd40fe3-0493-45cc-9b93-3c44eee28e59"
   },
   "outputs": [
    {
     "name": "stdout",
     "output_type": "stream",
     "text": [
      "Maximum length of tweet: 121\n"
     ]
    }
   ],
   "source": [
    "max_len = util.max_len(df)\n",
    "print(\"Maximum length of tweet:\", max_len)"
   ]
  },
  {
   "cell_type": "code",
   "execution_count": 11,
   "metadata": {
    "colab": {
     "base_uri": "https://localhost:8080/"
    },
    "executionInfo": {
     "elapsed": 47849,
     "status": "ok",
     "timestamp": 1618442605935,
     "user": {
      "displayName": "Pratik Pundlik Sayanekar",
      "photoUrl": "",
      "userId": "12868587701793367447"
     },
     "user_tz": -60
    },
    "id": "ASGy-Q_rFjUL",
    "outputId": "97aa9fd7-84a9-4c63-bbe3-74bbc80ad15e"
   },
   "outputs": [
    {
     "name": "stdout",
     "output_type": "stream",
     "text": [
      "After Tokenization and Padding...\n",
      "The shape of train data:  (733260, 121)\n",
      "The shape of test data:  (183315, 121)\n"
     ]
    }
   ],
   "source": [
    "train_converted, test_converted = util.tokenization_padding(X_train, X_test, max_len)\n",
    "print(\"After Tokenization and Padding...\")\n",
    "print(\"The shape of train data: \", train_converted.shape)\n",
    "print(\"The shape of test data: \", test_converted.shape)"
   ]
  },
  {
   "cell_type": "code",
   "execution_count": 12,
   "metadata": {
    "colab": {
     "base_uri": "https://localhost:8080/"
    },
    "executionInfo": {
     "elapsed": 47843,
     "status": "ok",
     "timestamp": 1618442605936,
     "user": {
      "displayName": "Pratik Pundlik Sayanekar",
      "photoUrl": "",
      "userId": "12868587701793367447"
     },
     "user_tz": -60
    },
    "id": "f-xgFoO7vwzd",
    "outputId": "1c4cd67b-569f-4d5a-bb5d-70ee0f990463"
   },
   "outputs": [
    {
     "name": "stdout",
     "output_type": "stream",
     "text": [
      "After one hot encoding of target variable...\n",
      "The shape of train target:  (733260, 3)\n",
      "The shape of test target:  (183315, 3)\n"
     ]
    }
   ],
   "source": [
    "target_converted_train, target_converted_test = util.one_hot_target_variable(y_train, y_test)\n",
    "print(\"After one hot encoding of target variable...\")\n",
    "print(\"The shape of train target: \", target_converted_train.shape)\n",
    "print(\"The shape of test target: \", target_converted_test.shape)"
   ]
  },
  {
   "cell_type": "markdown",
   "metadata": {},
   "source": [
    "<b> Above padded matrix can be directly provided to neural networks. But we have decided to transform these matrix as embedding weights that is provided to embedding layer of sequential model. </b>"
   ]
  },
  {
   "cell_type": "markdown",
   "metadata": {},
   "source": [
    "#### Embedding matrix can be generated by either Word2Vec or GLoVE pretrained approach. Shape of embedding matrix varies, for glove as we are using glove 100-dimensional, the shape becomes (None, 100) and for Word2Vec the shape will be (None, maximum_word_count)\n",
    "### Execute either 3.1 section or 3.2 section."
   ]
  },
  {
   "cell_type": "markdown",
   "metadata": {
    "id": "vTWn9w2kh8gw"
   },
   "source": [
    "# <a id= 'Word2Vec'> **3.1 Word2Vec Model**"
   ]
  },
  {
   "cell_type": "code",
   "execution_count": 13,
   "metadata": {
    "id": "BT7Cc9c7iAmk"
   },
   "outputs": [
    {
     "name": "stdout",
     "output_type": "stream",
     "text": [
      "Word2Vec Model Initialization...\n"
     ]
    }
   ],
   "source": [
    "word2vec = Word2VecModel()\n",
    "# word2vec_model = word2vec.create_model(X_train)\n",
    "\n",
    "# I have created a seperate class for word2vec model which has functions to create model and embedding matrix, \n",
    "# and it was working perfectly fine until I moved to local machine from colab.\n",
    "# There was some version mismatch issue, \n",
    "# please refer, https://github.com/RaRe-Technologies/gensim/wiki/Migrating-from-Gensim-3.x-to-4\n",
    "# so I have created below additional method which will return the word2vec model."
   ]
  },
  {
   "cell_type": "code",
   "execution_count": 14,
   "metadata": {},
   "outputs": [],
   "source": [
    "import numpy as np\n",
    "from gensim.models import Word2Vec\n",
    "\n",
    "def create_word2vec_model(X_train):\n",
    "    # Creating Word2Vec training dataset.\n",
    "    Word2vec_train_data = list(map(lambda x: x.split(), X_train))\n",
    "\n",
    "    word2vec_model = Word2Vec(sentences = Word2vec_train_data, vector_size=max_len, min_count=5)\n",
    "\n",
    "    print(\"Vocabulary Length:\", len(word2vec_model.wv))\n",
    "    return word2vec_model"
   ]
  },
  {
   "cell_type": "code",
   "execution_count": 15,
   "metadata": {},
   "outputs": [
    {
     "name": "stdout",
     "output_type": "stream",
     "text": [
      "Vocabulary Length: 34746\n"
     ]
    }
   ],
   "source": [
    "word2vec_model = create_word2vec_model(X_train)"
   ]
  },
  {
   "cell_type": "code",
   "execution_count": 16,
   "metadata": {
    "id": "0TAGO-E2iinq"
   },
   "outputs": [
    {
     "name": "stdout",
     "output_type": "stream",
     "text": [
      "After Tokenization and Padding...\n",
      "The shape of train data:  (733260, 121)\n",
      "The shape of test data:  (183315, 121)\n"
     ]
    }
   ],
   "source": [
    "train_converted, test_converted, tokenizer = util.tokenization_padding_oov_token(X_train, X_test, max_len)\n",
    "print(\"After Tokenization and Padding...\")\n",
    "print(\"The shape of train data: \", train_converted.shape)\n",
    "print(\"The shape of test data: \", test_converted.shape)"
   ]
  },
  {
   "cell_type": "code",
   "execution_count": 17,
   "metadata": {
    "id": "qFhdBqhUim8C"
   },
   "outputs": [
    {
     "name": "stdout",
     "output_type": "stream",
     "text": [
      "Embedding Matrix Shape: (159423, 121)\n"
     ]
    }
   ],
   "source": [
    "vocab_length = len(tokenizer.word_index) + 1\n",
    "embedding_matrix = word2vec.create_embedding_matrix(vocab_length, tokenizer, word2vec_model, max_len)"
   ]
  },
  {
   "cell_type": "markdown",
   "metadata": {},
   "source": [
    "# <a id = 'glove'> 3.2 Glove : Pretrained word embedding"
   ]
  },
  {
   "cell_type": "code",
   "execution_count": 18,
   "metadata": {},
   "outputs": [
    {
     "name": "stdout",
     "output_type": "stream",
     "text": [
      "Found 400000 word vectors.\n",
      "Embedding Matrix Shape: (159423, 100)\n"
     ]
    }
   ],
   "source": [
    "path_to_glove_file = '{}/Data/glove.6B.100d.txt'.format(filePath)\n",
    "\n",
    "embeddings_index = {}\n",
    "with open(path_to_glove_file) as f:\n",
    "    for line in f:\n",
    "        word, coefs = line.split(maxsplit=1)\n",
    "        coefs = np.fromstring(coefs, \"f\", sep=\" \")\n",
    "        embeddings_index[word] = coefs\n",
    "\n",
    "print(\"Found %s word vectors.\" % len(embeddings_index))\n",
    "\n",
    "hits = 0\n",
    "misses = 0\n",
    "max_len = 100 # this is only for Glove embedding, please replace this to 'max_len = util.max_len(df)'\n",
    "\n",
    "# Prepare embedding matrix\n",
    "embedding_matrix = np.zeros((vocab_length, 100))\n",
    "for word, token in tokenizer.word_index.items():\n",
    "    embedding_vector = embeddings_index.get(word)\n",
    "    if embedding_vector is not None:\n",
    "        # Words not found in embedding index will be all-zeros.\n",
    "        # This includes the representation for \"padding\" and \"OOV\"\n",
    "        embedding_matrix[token] = embedding_vector\n",
    "        hits += 1\n",
    "    else:\n",
    "        misses += 1\n",
    "        \n",
    "print(\"Embedding Matrix Shape:\", embedding_matrix.shape)"
   ]
  },
  {
   "cell_type": "markdown",
   "metadata": {
    "id": "7yz5IFdw3B3R"
   },
   "source": [
    "# <a id= 'Models'> **4. Deep Learning Models**"
   ]
  },
  {
   "cell_type": "code",
   "execution_count": 19,
   "metadata": {
    "executionInfo": {
     "elapsed": 47842,
     "status": "ok",
     "timestamp": 1618442605937,
     "user": {
      "displayName": "Pratik Pundlik Sayanekar",
      "photoUrl": "",
      "userId": "12868587701793367447"
     },
     "user_tz": -60
    },
    "id": "KYmEV5EL3BS3"
   },
   "outputs": [],
   "source": [
    "EPOCH = 10\n",
    "BATCH_SIZE = 2048 # 1024"
   ]
  },
  {
   "cell_type": "markdown",
   "metadata": {
    "id": "M81GzKxtFqFI"
   },
   "source": [
    "# <a id= 'cnn'>**4.1 CNN Model** : Sequential information"
   ]
  },
  {
   "cell_type": "code",
   "execution_count": 20,
   "metadata": {
    "colab": {
     "base_uri": "https://localhost:8080/"
    },
    "executionInfo": {
     "elapsed": 48305,
     "status": "ok",
     "timestamp": 1618442606406,
     "user": {
      "displayName": "Pratik Pundlik Sayanekar",
      "photoUrl": "",
      "userId": "12868587701793367447"
     },
     "user_tz": -60
    },
    "id": "Op2cjQkaHM8p",
    "outputId": "ddbbb69c-e203-4c62-92a1-e588429710c3"
   },
   "outputs": [],
   "source": [
    "# Below method is commented as now for embedding layer some weight matrix is also provided as input.\n",
    "\n",
    "# cnn = CNN_Model()\n",
    "# model = cnn.create_model(embed_dim = 100, num_filters = 128, \n",
    "#                           input_len = train_converted.shape[1], feature = 200000, \n",
    "#                           drop_out = 0.5, num_words=4)\n",
    "# model.summary()"
   ]
  },
  {
   "cell_type": "code",
   "execution_count": 21,
   "metadata": {
    "scrolled": true
   },
   "outputs": [
    {
     "name": "stdout",
     "output_type": "stream",
     "text": [
      "CNN Model Initialization...\n",
      "Model Created Successfully...\n",
      "Model: \"sequential\"\n",
      "_________________________________________________________________\n",
      "Layer (type)                 Output Shape              Param #   \n",
      "=================================================================\n",
      "embedding (Embedding)        (None, 121, 100)          15942300  \n",
      "_________________________________________________________________\n",
      "spatial_dropout1d (SpatialDr (None, 121, 100)          0         \n",
      "_________________________________________________________________\n",
      "conv1d (Conv1D)              (None, 118, 128)          51328     \n",
      "_________________________________________________________________\n",
      "global_max_pooling1d (Global (None, 128)               0         \n",
      "_________________________________________________________________\n",
      "dense (Dense)                (None, 3)                 387       \n",
      "=================================================================\n",
      "Total params: 15,994,015\n",
      "Trainable params: 15,994,015\n",
      "Non-trainable params: 0\n",
      "_________________________________________________________________\n"
     ]
    }
   ],
   "source": [
    "cnn = CNN_Model()\n",
    "model = cnn.create_model(embed_dim = max_len, num_filters = 128, \n",
    "                          input_len = train_converted.shape[1], feature = vocab_length, \n",
    "                          drop_out = 0.5, num_words=4, embedding_matrix = embedding_matrix)\n",
    "model.summary()"
   ]
  },
  {
   "cell_type": "markdown",
   "metadata": {},
   "source": [
    "<b> Above neural network is implemented using sequential model in Keras. It contains the series of layers as shown above. <br>\n",
    "    <li>Embedding layer, embeds the input as per specified weights as embedding matrix. <br>\n",
    "    <li>Dropout layer, disable the less correlated neurons, the dropout rate is set to 0.5. <br>\n",
    "    <li>Convolution layer covolutes as per number of filters and number of words as kernel size. CNN stores the sequential information. <br>\n",
    "    <li>pooling layer, vectorize the input and\n",
    "    <li>dense layer uses activation function as softmax to predict the probability of each target class. <br>\n",
    "    <li>The output shape of each layer is as described in model summary.\n",
    "</b>"
   ]
  },
  {
   "cell_type": "code",
   "execution_count": 22,
   "metadata": {
    "colab": {
     "base_uri": "https://localhost:8080/"
    },
    "executionInfo": {
     "elapsed": 6985483,
     "status": "ok",
     "timestamp": 1618449543592,
     "user": {
      "displayName": "Pratik Pundlik Sayanekar",
      "photoUrl": "",
      "userId": "12868587701793367447"
     },
     "user_tz": -60
    },
    "id": "3e32dCWnHyiL",
    "outputId": "496f83b0-7492-414d-c38d-b064c9f4a22b"
   },
   "outputs": [
    {
     "name": "stdout",
     "output_type": "stream",
     "text": [
      "Epoch 1/10\n",
      "287/287 [==============================] - 179s 622ms/step - loss: 0.8401 - acc: 0.5978 - val_loss: 0.2820 - val_acc: 0.8774\n",
      "\n",
      "Epoch 00001: val_loss improved from inf to 0.28205, saving model to /Users/pratiksayanekar/Documents/DL_20200161/checkpoints/CNN/\n",
      "INFO:tensorflow:Assets written to: /Users/pratiksayanekar/Documents/DL_20200161/checkpoints/CNN/assets\n",
      "Epoch 2/10\n",
      "287/287 [==============================] - 169s 589ms/step - loss: 0.3178 - acc: 0.8651 - val_loss: 0.2565 - val_acc: 0.8879\n",
      "\n",
      "Epoch 00002: val_loss improved from 0.28205 to 0.25649, saving model to /Users/pratiksayanekar/Documents/DL_20200161/checkpoints/CNN/\n",
      "INFO:tensorflow:Assets written to: /Users/pratiksayanekar/Documents/DL_20200161/checkpoints/CNN/assets\n",
      "Epoch 3/10\n",
      "287/287 [==============================] - 169s 588ms/step - loss: 0.2801 - acc: 0.8796 - val_loss: 0.2476 - val_acc: 0.8919\n",
      "\n",
      "Epoch 00003: val_loss improved from 0.25649 to 0.24764, saving model to /Users/pratiksayanekar/Documents/DL_20200161/checkpoints/CNN/\n",
      "INFO:tensorflow:Assets written to: /Users/pratiksayanekar/Documents/DL_20200161/checkpoints/CNN/assets\n",
      "Epoch 4/10\n",
      "287/287 [==============================] - 180s 626ms/step - loss: 0.2609 - acc: 0.8886 - val_loss: 0.2430 - val_acc: 0.8943\n",
      "\n",
      "Epoch 00004: val_loss improved from 0.24764 to 0.24301, saving model to /Users/pratiksayanekar/Documents/DL_20200161/checkpoints/CNN/\n",
      "INFO:tensorflow:Assets written to: /Users/pratiksayanekar/Documents/DL_20200161/checkpoints/CNN/assets\n",
      "Epoch 5/10\n",
      "287/287 [==============================] - 237s 826ms/step - loss: 0.2487 - acc: 0.8938 - val_loss: 0.2365 - val_acc: 0.8970\n",
      "\n",
      "Epoch 00005: val_loss improved from 0.24301 to 0.23645, saving model to /Users/pratiksayanekar/Documents/DL_20200161/checkpoints/CNN/\n",
      "INFO:tensorflow:Assets written to: /Users/pratiksayanekar/Documents/DL_20200161/checkpoints/CNN/assets\n",
      "Epoch 6/10\n",
      "287/287 [==============================] - 192s 668ms/step - loss: 0.2386 - acc: 0.8996 - val_loss: 0.2344 - val_acc: 0.8986\n",
      "\n",
      "Epoch 00006: val_loss improved from 0.23645 to 0.23445, saving model to /Users/pratiksayanekar/Documents/DL_20200161/checkpoints/CNN/\n",
      "INFO:tensorflow:Assets written to: /Users/pratiksayanekar/Documents/DL_20200161/checkpoints/CNN/assets\n",
      "Epoch 7/10\n",
      "287/287 [==============================] - 159s 553ms/step - loss: 0.2279 - acc: 0.9050 - val_loss: 0.2314 - val_acc: 0.9002\n",
      "\n",
      "Epoch 00007: val_loss improved from 0.23445 to 0.23137, saving model to /Users/pratiksayanekar/Documents/DL_20200161/checkpoints/CNN/\n",
      "INFO:tensorflow:Assets written to: /Users/pratiksayanekar/Documents/DL_20200161/checkpoints/CNN/assets\n",
      "Epoch 8/10\n",
      "287/287 [==============================] - 158s 551ms/step - loss: 0.2199 - acc: 0.9078 - val_loss: 0.2319 - val_acc: 0.8992\n",
      "\n",
      "Epoch 00008: val_loss did not improve from 0.23137\n",
      "Epoch 9/10\n",
      "287/287 [==============================] - 156s 542ms/step - loss: 0.2111 - acc: 0.9125 - val_loss: 0.2306 - val_acc: 0.9002\n",
      "\n",
      "Epoch 00009: val_loss improved from 0.23137 to 0.23060, saving model to /Users/pratiksayanekar/Documents/DL_20200161/checkpoints/CNN/\n",
      "INFO:tensorflow:Assets written to: /Users/pratiksayanekar/Documents/DL_20200161/checkpoints/CNN/assets\n",
      "Epoch 10/10\n",
      "287/287 [==============================] - 159s 552ms/step - loss: 0.2023 - acc: 0.9164 - val_loss: 0.2306 - val_acc: 0.9006\n",
      "\n",
      "Epoch 00010: val_loss improved from 0.23060 to 0.23057, saving model to /Users/pratiksayanekar/Documents/DL_20200161/checkpoints/CNN/\n",
      "INFO:tensorflow:Assets written to: /Users/pratiksayanekar/Documents/DL_20200161/checkpoints/CNN/assets\n"
     ]
    }
   ],
   "source": [
    "history = model.fit(train_converted, target_converted_train, epochs = EPOCH, \n",
    "                    batch_size=BATCH_SIZE, validation_split=0.2,\n",
    "                    callbacks=cnn.callbacks)"
   ]
  },
  {
   "cell_type": "code",
   "execution_count": 23,
   "metadata": {
    "colab": {
     "base_uri": "https://localhost:8080/",
     "height": 500
    },
    "executionInfo": {
     "elapsed": 6986568,
     "status": "ok",
     "timestamp": 1618449544684,
     "user": {
      "displayName": "Pratik Pundlik Sayanekar",
      "photoUrl": "",
      "userId": "12868587701793367447"
     },
     "user_tz": -60
    },
    "id": "q2StIg9PIP2a",
    "outputId": "0766073a-0b29-420e-df8d-51a4e02e55e6"
   },
   "outputs": [
    {
     "data": {
      "image/png": "[encoded data removed]",
      "text/plain": [
       "<Figure size 1080x576 with 2 Axes>"
      ]
     },
     "metadata": {},
     "output_type": "display_data"
    }
   ],
   "source": [
    "util.plot_accuracy_loss(history, 'CNN')"
   ]
  },
  {
   "cell_type": "markdown",
   "metadata": {},
   "source": [
    "<b>As per above execution, model of EPOCH 10 is saved as best model, the validation loss is intersected training loss on around 6th EPOCH and seems settled near 0.23. Let's check how it performs for unseen data, if the accuracy of unseen data is aligning with validation accuracy then there is no trace of overfitting.</b>"
   ]
  },
  {
   "cell_type": "markdown",
   "metadata": {
    "id": "CVxZwJc6IP2Z"
   },
   "source": [
    "# **Evaluation**"
   ]
  },
  {
   "cell_type": "code",
   "execution_count": 24,
   "metadata": {
    "colab": {
     "base_uri": "https://localhost:8080/"
    },
    "executionInfo": {
     "elapsed": 6987901,
     "status": "ok",
     "timestamp": 1618449546025,
     "user": {
      "displayName": "Pratik Pundlik Sayanekar",
      "photoUrl": "",
      "userId": "12868587701793367447"
     },
     "user_tz": -60
    },
    "id": "_kAjaJGf4Amw",
    "outputId": "ef46c290-7c68-4378-f54e-d4f1374c610b"
   },
   "outputs": [
    {
     "name": "stdout",
     "output_type": "stream",
     "text": [
      "Model: \"sequential\"\n",
      "_________________________________________________________________\n",
      "Layer (type)                 Output Shape              Param #   \n",
      "=================================================================\n",
      "embedding (Embedding)        (None, 121, 100)          15942300  \n",
      "_________________________________________________________________\n",
      "spatial_dropout1d (SpatialDr (None, 121, 100)          0         \n",
      "_________________________________________________________________\n",
      "conv1d (Conv1D)              (None, 118, 128)          51328     \n",
      "_________________________________________________________________\n",
      "global_max_pooling1d (Global (None, 128)               0         \n",
      "_________________________________________________________________\n",
      "dense (Dense)                (None, 3)                 387       \n",
      "=================================================================\n",
      "Total params: 15,994,015\n",
      "Trainable params: 15,994,015\n",
      "Non-trainable params: 0\n",
      "_________________________________________________________________\n"
     ]
    }
   ],
   "source": [
    "model = cnn.load_saved_model()\n",
    "model.summary()"
   ]
  },
  {
   "cell_type": "code",
   "execution_count": 25,
   "metadata": {
    "colab": {
     "base_uri": "https://localhost:8080/"
    },
    "executionInfo": {
     "elapsed": 7007786,
     "status": "ok",
     "timestamp": 1618449565918,
     "user": {
      "displayName": "Pratik Pundlik Sayanekar",
      "photoUrl": "",
      "userId": "12868587701793367447"
     },
     "user_tz": -60
    },
    "id": "QEmqzr9q-1uk",
    "outputId": "021dcc3d-6850-452e-eccc-f1e160928617",
    "scrolled": true
   },
   "outputs": [
    {
     "name": "stdout",
     "output_type": "stream",
     "text": [
      "90/90 - 11s - loss: 0.2319 - acc: 0.8998\n",
      "The loss of this model: 0.23\n",
      "The accuracy of this model: 0.90\n"
     ]
    }
   ],
   "source": [
    "score, acc = model.evaluate(test_converted, target_converted_test, verbose = 2, batch_size = BATCH_SIZE)\n",
    "print(\"The loss of this model: %.2f\" % (score))\n",
    "print(\"The accuracy of this model: %.2f\" % (acc))"
   ]
  },
  {
   "cell_type": "markdown",
   "metadata": {},
   "source": [
    "#### The testing accuracy is aligning with validation accuracy, shows no overfitting."
   ]
  },
  {
   "cell_type": "markdown",
   "metadata": {},
   "source": [
    "# Prediction"
   ]
  },
  {
   "cell_type": "code",
   "execution_count": 26,
   "metadata": {
    "executionInfo": {
     "elapsed": 7031188,
     "status": "ok",
     "timestamp": 1618449589321,
     "user": {
      "displayName": "Pratik Pundlik Sayanekar",
      "photoUrl": "",
      "userId": "12868587701793367447"
     },
     "user_tz": -60
    },
    "id": "lAfloiyAIP2b"
   },
   "outputs": [],
   "source": [
    "y_pred = model.predict(test_converted)"
   ]
  },
  {
   "cell_type": "code",
   "execution_count": 27,
   "metadata": {
    "colab": {
     "base_uri": "https://localhost:8080/",
     "height": 459
    },
    "executionInfo": {
     "elapsed": 7031763,
     "status": "ok",
     "timestamp": 1618449589903,
     "user": {
      "displayName": "Pratik Pundlik Sayanekar",
      "photoUrl": "",
      "userId": "12868587701793367447"
     },
     "user_tz": -60
    },
    "id": "GYn-D1DmIP2b",
    "outputId": "3226f6ed-8e8c-40a1-a659-e696d8a2eda2"
   },
   "outputs": [
    {
     "name": "stdout",
     "output_type": "stream",
     "text": [
      "Confusion Matrix: \n",
      " [[54447  8029  2548]\n",
      " [ 5265 54141  1463]\n",
      " [  486   573 56363]]\n"
     ]
    },
    {
     "data": {
      "image/png": "[encoded data removed]",
      "text/plain": [
       "<Figure size 864x432 with 2 Axes>"
      ]
     },
     "metadata": {},
     "output_type": "display_data"
    }
   ],
   "source": [
    "test,pred = util.plot_confusion_matrix(y_pred, target_converted_test, 'CNN')"
   ]
  },
  {
   "cell_type": "code",
   "execution_count": 28,
   "metadata": {
    "colab": {
     "base_uri": "https://localhost:8080/"
    },
    "executionInfo": {
     "elapsed": 7032172,
     "status": "ok",
     "timestamp": 1618449590321,
     "user": {
      "displayName": "Pratik Pundlik Sayanekar",
      "photoUrl": "",
      "userId": "12868587701793367447"
     },
     "user_tz": -60
    },
    "id": "7qVr0JGRIP2c",
    "outputId": "d44eda2a-ce81-437a-f364-77a75eb4c0ab"
   },
   "outputs": [
    {
     "name": "stdout",
     "output_type": "stream",
     "text": [
      "Classification Report:                precision    recall  f1-score   support\n",
      "\n",
      "           0       0.90      0.84      0.87     65024\n",
      "           1       0.86      0.89      0.88     60869\n",
      "           2       0.93      0.98      0.96     57422\n",
      "\n",
      "    accuracy                           0.90    183315\n",
      "   macro avg       0.90      0.90      0.90    183315\n",
      "weighted avg       0.90      0.90      0.90    183315\n",
      "\n"
     ]
    }
   ],
   "source": [
    "print(\"Classification Report: \", classification_report(test, pred))"
   ]
  },
  {
   "cell_type": "markdown",
   "metadata": {
    "id": "d_FML8qirR1Y"
   },
   "source": [
    "# <a id= 'cnn2'>**4.2 CNN_v2**"
   ]
  },
  {
   "cell_type": "code",
   "execution_count": 29,
   "metadata": {
    "colab": {
     "base_uri": "https://localhost:8080/"
    },
    "executionInfo": {
     "elapsed": 7032386,
     "status": "ok",
     "timestamp": 1618449590543,
     "user": {
      "displayName": "Pratik Pundlik Sayanekar",
      "photoUrl": "",
      "userId": "12868587701793367447"
     },
     "user_tz": -60
    },
    "id": "OUhvdEdSrP_W",
    "outputId": "0a6edc53-b005-4cfa-b5ca-b2679f59503e"
   },
   "outputs": [],
   "source": [
    "# Below method is commented as now for embedding layer some weight matrix is also provided as input.\n",
    "\n",
    "# cnn = CNN_Model()\n",
    "# model = cnn.create_model_v2(embed_dim = 100, num_filters = 128, \n",
    "#                           input_len = train_converted.shape[1], feature = 200000, \n",
    "#                           drop_out = 0.8, num_words=4)\n",
    "# model.summary()"
   ]
  },
  {
   "cell_type": "code",
   "execution_count": 30,
   "metadata": {
    "scrolled": false
   },
   "outputs": [
    {
     "name": "stdout",
     "output_type": "stream",
     "text": [
      "CNN Model Initialization...\n",
      "Model Created Successfully...\n",
      "Model: \"sequential_1\"\n",
      "_________________________________________________________________\n",
      "Layer (type)                 Output Shape              Param #   \n",
      "=================================================================\n",
      "embedding_1 (Embedding)      (None, 121, 100)          15942300  \n",
      "_________________________________________________________________\n",
      "spatial_dropout1d_1 (Spatial (None, 121, 100)          0         \n",
      "_________________________________________________________________\n",
      "conv1d_1 (Conv1D)            (None, 121, 128)          51328     \n",
      "_________________________________________________________________\n",
      "conv1d_2 (Conv1D)            (None, 121, 128)          65664     \n",
      "_________________________________________________________________\n",
      "spatial_dropout1d_2 (Spatial (None, 121, 128)          0         \n",
      "_________________________________________________________________\n",
      "global_max_pooling1d_1 (Glob (None, 128)               0         \n",
      "_________________________________________________________________\n",
      "dense_1 (Dense)              (None, 64)                8256      \n",
      "_________________________________________________________________\n",
      "dense_2 (Dense)              (None, 3)                 195       \n",
      "=================================================================\n",
      "Total params: 16,067,743\n",
      "Trainable params: 16,067,743\n",
      "Non-trainable params: 0\n",
      "_________________________________________________________________\n"
     ]
    }
   ],
   "source": [
    "cnn = CNN_Model()\n",
    "model = cnn.create_model_v2(embed_dim = max_len, num_filters = 128, \n",
    "                          input_len = train_converted.shape[1], feature = vocab_length, \n",
    "                          drop_out = 0.5, num_words=4, embedding_matrix = embedding_matrix )\n",
    "model.summary()"
   ]
  },
  {
   "cell_type": "markdown",
   "metadata": {},
   "source": [
    "<b> Above neural network is implemented using sequential model in Keras. It contains the series of layers as shown above. <br>\n",
    "    <li>Embedding layer, embeds the input as per specified weights as embedding matrix. <br>\n",
    "    <li>Dropout layer, disable the less correlated neurons, the dropout rate is set to 0.5. One more dropout layer is added after convolution to minimize the neurons. <br>\n",
    "    <li>Convolution layer covolutes as per number of filters and number of words as kernel size. Here two convolution layers are added which convolutes the input. CNN stores the sequential information.<br>\n",
    "    <li>pooling layer, vectorizes the input.<br>\n",
    "    <li>dense layer uses activation function as softmax to predict the probability of each target class. Multiple dense layers gradually decreases the dimension. <br>\n",
    "    <li>The output shape of each layer is as described in model summary.\n",
    "</b>"
   ]
  },
  {
   "cell_type": "code",
   "execution_count": 31,
   "metadata": {
    "colab": {
     "base_uri": "https://localhost:8080/"
    },
    "executionInfo": {
     "elapsed": 24138192,
     "status": "ok",
     "timestamp": 1618466696356,
     "user": {
      "displayName": "Pratik Pundlik Sayanekar",
      "photoUrl": "",
      "userId": "12868587701793367447"
     },
     "user_tz": -60
    },
    "id": "p5cIHTdIrzue",
    "outputId": "6fb2514d-490d-41f7-8ea7-cd5f8db95063"
   },
   "outputs": [
    {
     "name": "stdout",
     "output_type": "stream",
     "text": [
      "Epoch 1/10\n",
      "287/287 [==============================] - 328s 1s/step - loss: 0.8644 - acc: 0.5686 - val_loss: 0.2780 - val_acc: 0.8789\n",
      "\n",
      "Epoch 00001: val_loss improved from inf to 0.27799, saving model to /Users/pratiksayanekar/Documents/DL_20200161/checkpoints/CNN_v2/\n",
      "INFO:tensorflow:Assets written to: /Users/pratiksayanekar/Documents/DL_20200161/checkpoints/CNN_v2/assets\n",
      "Epoch 2/10\n",
      "287/287 [==============================] - 307s 1s/step - loss: 0.3168 - acc: 0.8651 - val_loss: 0.2529 - val_acc: 0.8890\n",
      "\n",
      "Epoch 00002: val_loss improved from 0.27799 to 0.25290, saving model to /Users/pratiksayanekar/Documents/DL_20200161/checkpoints/CNN_v2/\n",
      "INFO:tensorflow:Assets written to: /Users/pratiksayanekar/Documents/DL_20200161/checkpoints/CNN_v2/assets\n",
      "Epoch 3/10\n",
      "287/287 [==============================] - 309s 1s/step - loss: 0.2757 - acc: 0.8828 - val_loss: 0.2432 - val_acc: 0.8936\n",
      "\n",
      "Epoch 00003: val_loss improved from 0.25290 to 0.24316, saving model to /Users/pratiksayanekar/Documents/DL_20200161/checkpoints/CNN_v2/\n",
      "INFO:tensorflow:Assets written to: /Users/pratiksayanekar/Documents/DL_20200161/checkpoints/CNN_v2/assets\n",
      "Epoch 4/10\n",
      "287/287 [==============================] - 306s 1s/step - loss: 0.2542 - acc: 0.8909 - val_loss: 0.2371 - val_acc: 0.8970\n",
      "\n",
      "Epoch 00004: val_loss improved from 0.24316 to 0.23715, saving model to /Users/pratiksayanekar/Documents/DL_20200161/checkpoints/CNN_v2/\n",
      "INFO:tensorflow:Assets written to: /Users/pratiksayanekar/Documents/DL_20200161/checkpoints/CNN_v2/assets\n",
      "Epoch 5/10\n",
      "287/287 [==============================] - 308s 1s/step - loss: 0.2384 - acc: 0.8983 - val_loss: 0.2352 - val_acc: 0.8973\n",
      "\n",
      "Epoch 00005: val_loss improved from 0.23715 to 0.23520, saving model to /Users/pratiksayanekar/Documents/DL_20200161/checkpoints/CNN_v2/\n",
      "INFO:tensorflow:Assets written to: /Users/pratiksayanekar/Documents/DL_20200161/checkpoints/CNN_v2/assets\n",
      "Epoch 6/10\n",
      "287/287 [==============================] - 310s 1s/step - loss: 0.2271 - acc: 0.9033 - val_loss: 0.2322 - val_acc: 0.8993\n",
      "\n",
      "Epoch 00006: val_loss improved from 0.23520 to 0.23216, saving model to /Users/pratiksayanekar/Documents/DL_20200161/checkpoints/CNN_v2/\n",
      "INFO:tensorflow:Assets written to: /Users/pratiksayanekar/Documents/DL_20200161/checkpoints/CNN_v2/assets\n",
      "Epoch 7/10\n",
      "287/287 [==============================] - 334s 1s/step - loss: 0.2186 - acc: 0.9071 - val_loss: 0.2334 - val_acc: 0.9001\n",
      "\n",
      "Epoch 00007: val_loss did not improve from 0.23216\n",
      "Epoch 8/10\n",
      "287/287 [==============================] - 317s 1s/step - loss: 0.2087 - acc: 0.9113 - val_loss: 0.2335 - val_acc: 0.9001\n",
      "\n",
      "Epoch 00008: val_loss did not improve from 0.23216\n",
      "Epoch 9/10\n",
      "287/287 [==============================] - 314s 1s/step - loss: 0.2021 - acc: 0.9145 - val_loss: 0.2323 - val_acc: 0.9008\n",
      "\n",
      "Epoch 00009: val_loss did not improve from 0.23216\n",
      "Epoch 10/10\n",
      "287/287 [==============================] - 312s 1s/step - loss: 0.1964 - acc: 0.9161 - val_loss: 0.2368 - val_acc: 0.9002\n",
      "\n",
      "Epoch 00010: val_loss did not improve from 0.23216\n"
     ]
    }
   ],
   "source": [
    "history = model.fit(train_converted, target_converted_train, epochs = EPOCH, \n",
    "                    batch_size=BATCH_SIZE, validation_split=0.2,\n",
    "                    callbacks=cnn.callbacks_v2)"
   ]
  },
  {
   "cell_type": "code",
   "execution_count": 32,
   "metadata": {
    "colab": {
     "base_uri": "https://localhost:8080/",
     "height": 500
    },
    "executionInfo": {
     "elapsed": 24138759,
     "status": "ok",
     "timestamp": 1618466696931,
     "user": {
      "displayName": "Pratik Pundlik Sayanekar",
      "photoUrl": "",
      "userId": "12868587701793367447"
     },
     "user_tz": -60
    },
    "id": "X4_T_vIgr_0V",
    "outputId": "975bedf7-8d2a-49d3-d582-145a58238417"
   },
   "outputs": [
    {
     "data": {
      "image/png": "[encoded data removed]",
      "text/plain": [
       "<Figure size 1080x576 with 2 Axes>"
      ]
     },
     "metadata": {},
     "output_type": "display_data"
    }
   ],
   "source": [
    "util.plot_accuracy_loss(history, 'CNN_v2')"
   ]
  },
  {
   "cell_type": "markdown",
   "metadata": {},
   "source": [
    "<b>As per above execution, model of EPOCH 6 is saved as best model, the validation loss is intersects training loss and showing platue. Let's check how it performs for unseen data, if the accuracy of unseen data is aligning with validation accuracy then there is no trace of overfitting.</b>"
   ]
  },
  {
   "cell_type": "markdown",
   "metadata": {
    "id": "DPimGiSh9Zfs"
   },
   "source": [
    "# **Evaluation**"
   ]
  },
  {
   "cell_type": "code",
   "execution_count": 33,
   "metadata": {
    "colab": {
     "base_uri": "https://localhost:8080/"
    },
    "executionInfo": {
     "elapsed": 24140324,
     "status": "ok",
     "timestamp": 1618466698505,
     "user": {
      "displayName": "Pratik Pundlik Sayanekar",
      "photoUrl": "",
      "userId": "12868587701793367447"
     },
     "user_tz": -60
    },
    "id": "xRo5KFPqsBUM",
    "outputId": "a9cd946c-c46c-4d2b-90a1-2166a74cd11d"
   },
   "outputs": [
    {
     "name": "stdout",
     "output_type": "stream",
     "text": [
      "Model: \"sequential_1\"\n",
      "_________________________________________________________________\n",
      "Layer (type)                 Output Shape              Param #   \n",
      "=================================================================\n",
      "embedding_1 (Embedding)      (None, 121, 100)          15942300  \n",
      "_________________________________________________________________\n",
      "spatial_dropout1d_1 (Spatial (None, 121, 100)          0         \n",
      "_________________________________________________________________\n",
      "conv1d_1 (Conv1D)            (None, 121, 128)          51328     \n",
      "_________________________________________________________________\n",
      "conv1d_2 (Conv1D)            (None, 121, 128)          65664     \n",
      "_________________________________________________________________\n",
      "spatial_dropout1d_2 (Spatial (None, 121, 128)          0         \n",
      "_________________________________________________________________\n",
      "global_max_pooling1d_1 (Glob (None, 128)               0         \n",
      "_________________________________________________________________\n",
      "dense_1 (Dense)              (None, 64)                8256      \n",
      "_________________________________________________________________\n",
      "dense_2 (Dense)              (None, 3)                 195       \n",
      "=================================================================\n",
      "Total params: 16,067,743\n",
      "Trainable params: 16,067,743\n",
      "Non-trainable params: 0\n",
      "_________________________________________________________________\n"
     ]
    }
   ],
   "source": [
    "model = cnn.load_saved_model_v2()\n",
    "model.summary()"
   ]
  },
  {
   "cell_type": "code",
   "execution_count": 34,
   "metadata": {
    "colab": {
     "base_uri": "https://localhost:8080/"
    },
    "executionInfo": {
     "elapsed": 24184615,
     "status": "ok",
     "timestamp": 1618466742803,
     "user": {
      "displayName": "Pratik Pundlik Sayanekar",
      "photoUrl": "",
      "userId": "12868587701793367447"
     },
     "user_tz": -60
    },
    "id": "gc7emMNpsQ__",
    "outputId": "4ca3b2d7-4111-4a27-cbc7-e2385584219d",
    "scrolled": true
   },
   "outputs": [
    {
     "name": "stdout",
     "output_type": "stream",
     "text": [
      "90/90 - 23s - loss: 0.2341 - acc: 0.8989\n",
      "The loss of this model: 0.23\n",
      "The accuracy of this model: 0.90\n"
     ]
    }
   ],
   "source": [
    "score, acc = model.evaluate(test_converted, target_converted_test, verbose = 2, batch_size = BATCH_SIZE)\n",
    "print(\"The loss of this model: %.2f\" % (score))\n",
    "print(\"The accuracy of this model: %.2f\" % (acc))"
   ]
  },
  {
   "cell_type": "markdown",
   "metadata": {},
   "source": [
    "#### The testing accuracy is aligning with validation accuracy, shows no overfitting."
   ]
  },
  {
   "cell_type": "markdown",
   "metadata": {},
   "source": [
    "# Prediction"
   ]
  },
  {
   "cell_type": "code",
   "execution_count": 35,
   "metadata": {
    "executionInfo": {
     "elapsed": 24232581,
     "status": "ok",
     "timestamp": 1618466790771,
     "user": {
      "displayName": "Pratik Pundlik Sayanekar",
      "photoUrl": "",
      "userId": "12868587701793367447"
     },
     "user_tz": -60
    },
    "id": "SkL9F626sRAB"
   },
   "outputs": [],
   "source": [
    "y_pred = model.predict(test_converted)"
   ]
  },
  {
   "cell_type": "code",
   "execution_count": 36,
   "metadata": {
    "colab": {
     "base_uri": "https://localhost:8080/",
     "height": 459
    },
    "executionInfo": {
     "elapsed": 24233717,
     "status": "ok",
     "timestamp": 1618466791916,
     "user": {
      "displayName": "Pratik Pundlik Sayanekar",
      "photoUrl": "",
      "userId": "12868587701793367447"
     },
     "user_tz": -60
    },
    "id": "bWjpnfGPsRAB",
    "outputId": "0a3842f9-fbc2-446f-e95c-c1832caae31a"
   },
   "outputs": [
    {
     "name": "stdout",
     "output_type": "stream",
     "text": [
      "Confusion Matrix: \n",
      " [[53855  7556  2457]\n",
      " [ 5906 54623  1613]\n",
      " [  437   564 56304]]\n"
     ]
    },
    {
     "data": {
      "image/png": "[encoded data removed]",
      "text/plain": [
       "<Figure size 864x432 with 2 Axes>"
      ]
     },
     "metadata": {},
     "output_type": "display_data"
    }
   ],
   "source": [
    "test,pred = util.plot_confusion_matrix(y_pred, target_converted_test, 'CNN_v2')"
   ]
  },
  {
   "cell_type": "code",
   "execution_count": 37,
   "metadata": {
    "colab": {
     "base_uri": "https://localhost:8080/"
    },
    "executionInfo": {
     "elapsed": 24233711,
     "status": "ok",
     "timestamp": 1618466791918,
     "user": {
      "displayName": "Pratik Pundlik Sayanekar",
      "photoUrl": "",
      "userId": "12868587701793367447"
     },
     "user_tz": -60
    },
    "id": "5xcnVVUYsRAB",
    "outputId": "a25aa9df-3946-4f58-ab84-ee04f904f4b1"
   },
   "outputs": [
    {
     "name": "stdout",
     "output_type": "stream",
     "text": [
      "Classification Report:                precision    recall  f1-score   support\n",
      "\n",
      "           0       0.89      0.84      0.87     63868\n",
      "           1       0.87      0.88      0.87     62142\n",
      "           2       0.93      0.98      0.96     57305\n",
      "\n",
      "    accuracy                           0.90    183315\n",
      "   macro avg       0.90      0.90      0.90    183315\n",
      "weighted avg       0.90      0.90      0.90    183315\n",
      "\n"
     ]
    }
   ],
   "source": [
    "print(\"Classification Report: \", classification_report(test, pred))"
   ]
  },
  {
   "cell_type": "markdown",
   "metadata": {
    "id": "jeX4ONuCr0te"
   },
   "source": [
    "# <a id= 'lstm'>**4.3 LSTM Model : Long Short Term Memory**"
   ]
  },
  {
   "cell_type": "code",
   "execution_count": 38,
   "metadata": {
    "colab": {
     "base_uri": "https://localhost:8080/"
    },
    "executionInfo": {
     "elapsed": 24233704,
     "status": "ok",
     "timestamp": 1618466791918,
     "user": {
      "displayName": "Pratik Pundlik Sayanekar",
      "photoUrl": "",
      "userId": "12868587701793367447"
     },
     "user_tz": -60
    },
    "id": "qtdsIMLMJLTo",
    "outputId": "04b62176-5b96-425e-84d2-0e17e97ed456"
   },
   "outputs": [],
   "source": [
    "# Below method is commented as now for embedding layer some weight matrix is also provided as input.\n",
    "\n",
    "# lstm = LSTM_Model()\n",
    "# model = lstm.create_model(embed_dim = 100, lstm_out = 64, \n",
    "#                           input_len = train_converted.shape[1], feature = 200000, \n",
    "#                           drop_out = 0.8)\n",
    "# model.summary()"
   ]
  },
  {
   "cell_type": "code",
   "execution_count": 39,
   "metadata": {},
   "outputs": [
    {
     "name": "stdout",
     "output_type": "stream",
     "text": [
      "LSTM Model Initialization...\n",
      "Model Created Successfully...\n",
      "Model: \"sequential_2\"\n",
      "_________________________________________________________________\n",
      "Layer (type)                 Output Shape              Param #   \n",
      "=================================================================\n",
      "embedding_2 (Embedding)      (None, 121, 100)          15942300  \n",
      "_________________________________________________________________\n",
      "spatial_dropout1d_3 (Spatial (None, 121, 100)          0         \n",
      "_________________________________________________________________\n",
      "lstm (LSTM)                  (None, 64)                42240     \n",
      "_________________________________________________________________\n",
      "dense_3 (Dense)              (None, 3)                 195       \n",
      "=================================================================\n",
      "Total params: 15,984,735\n",
      "Trainable params: 15,984,735\n",
      "Non-trainable params: 0\n",
      "_________________________________________________________________\n"
     ]
    }
   ],
   "source": [
    "lstm = LSTM_Model()\n",
    "model = lstm.create_model(embed_dim = max_len, lstm_out = 64, \n",
    "                          input_len = train_converted.shape[1], feature = vocab_length, \n",
    "                          drop_out = 0.5, embedding_matrix = embedding_matrix)\n",
    "model.summary()"
   ]
  },
  {
   "cell_type": "markdown",
   "metadata": {},
   "source": [
    "<b> Above neural network is implemented using sequential model in Keras. It contains the series of layers as shown above. <br>\n",
    "    <li>Embedding layer, embeds the input as per specified weights as embedding matrix. <br>\n",
    "    <li>Dropout layer, disable the less correlated neurons, the dropout rate is set to 0.5. One more dropout layer is added after convolution to minimize the neurons. <br>\n",
    "    <li>LSTM is known for keeping the information of recurrent features in one direction.<br>\n",
    "    <li>dense layer uses activation function as softmax to predict the probability of each target class. <br>\n",
    "    <li>The output shape of each layer is as described in model summary.\n",
    "</b>"
   ]
  },
  {
   "cell_type": "code",
   "execution_count": 40,
   "metadata": {
    "colab": {
     "base_uri": "https://localhost:8080/"
    },
    "id": "h_o_bHJemMGO",
    "outputId": "830ade26-0172-46f4-8796-f8956e88ed1e"
   },
   "outputs": [
    {
     "name": "stdout",
     "output_type": "stream",
     "text": [
      "Epoch 1/10\n",
      "287/287 [==============================] - 453s 2s/step - loss: 0.8958 - acc: 0.5593 - val_loss: 0.3269 - val_acc: 0.8647\n",
      "\n",
      "Epoch 00001: val_loss improved from inf to 0.32686, saving model to /Users/pratiksayanekar/Documents/DL_20200161/checkpoints/LSTM/\n",
      "INFO:tensorflow:Assets written to: /Users/pratiksayanekar/Documents/DL_20200161/checkpoints/LSTM/assets\n",
      "Epoch 2/10\n",
      "287/287 [==============================] - 454s 2s/step - loss: 0.3838 - acc: 0.8414 - val_loss: 0.2591 - val_acc: 0.8874\n",
      "\n",
      "Epoch 00002: val_loss improved from 0.32686 to 0.25910, saving model to /Users/pratiksayanekar/Documents/DL_20200161/checkpoints/LSTM/\n",
      "INFO:tensorflow:Assets written to: /Users/pratiksayanekar/Documents/DL_20200161/checkpoints/LSTM/assets\n",
      "Epoch 3/10\n",
      "287/287 [==============================] - 453s 2s/step - loss: 0.2968 - acc: 0.8739 - val_loss: 0.2443 - val_acc: 0.8935\n",
      "\n",
      "Epoch 00003: val_loss improved from 0.25910 to 0.24430, saving model to /Users/pratiksayanekar/Documents/DL_20200161/checkpoints/LSTM/\n",
      "INFO:tensorflow:Assets written to: /Users/pratiksayanekar/Documents/DL_20200161/checkpoints/LSTM/assets\n",
      "Epoch 4/10\n",
      "287/287 [==============================] - 455s 2s/step - loss: 0.2709 - acc: 0.8842 - val_loss: 0.2364 - val_acc: 0.8968\n",
      "\n",
      "Epoch 00004: val_loss improved from 0.24430 to 0.23643, saving model to /Users/pratiksayanekar/Documents/DL_20200161/checkpoints/LSTM/\n",
      "INFO:tensorflow:Assets written to: /Users/pratiksayanekar/Documents/DL_20200161/checkpoints/LSTM/assets\n",
      "Epoch 5/10\n",
      "287/287 [==============================] - 455s 2s/step - loss: 0.2544 - acc: 0.8915 - val_loss: 0.2316 - val_acc: 0.8981\n",
      "\n",
      "Epoch 00005: val_loss improved from 0.23643 to 0.23162, saving model to /Users/pratiksayanekar/Documents/DL_20200161/checkpoints/LSTM/\n",
      "INFO:tensorflow:Assets written to: /Users/pratiksayanekar/Documents/DL_20200161/checkpoints/LSTM/assets\n",
      "Epoch 6/10\n",
      "287/287 [==============================] - 487s 2s/step - loss: 0.2405 - acc: 0.8975 - val_loss: 0.2283 - val_acc: 0.9001\n",
      "\n",
      "Epoch 00006: val_loss improved from 0.23162 to 0.22828, saving model to /Users/pratiksayanekar/Documents/DL_20200161/checkpoints/LSTM/\n",
      "INFO:tensorflow:Assets written to: /Users/pratiksayanekar/Documents/DL_20200161/checkpoints/LSTM/assets\n",
      "Epoch 7/10\n",
      "287/287 [==============================] - 485s 2s/step - loss: 0.2305 - acc: 0.9024 - val_loss: 0.2277 - val_acc: 0.9001\n",
      "\n",
      "Epoch 00007: val_loss improved from 0.22828 to 0.22766, saving model to /Users/pratiksayanekar/Documents/DL_20200161/checkpoints/LSTM/\n",
      "INFO:tensorflow:Assets written to: /Users/pratiksayanekar/Documents/DL_20200161/checkpoints/LSTM/assets\n",
      "Epoch 8/10\n",
      "287/287 [==============================] - 479s 2s/step - loss: 0.2231 - acc: 0.9056 - val_loss: 0.2259 - val_acc: 0.9017\n",
      "\n",
      "Epoch 00008: val_loss improved from 0.22766 to 0.22591, saving model to /Users/pratiksayanekar/Documents/DL_20200161/checkpoints/LSTM/\n",
      "INFO:tensorflow:Assets written to: /Users/pratiksayanekar/Documents/DL_20200161/checkpoints/LSTM/assets\n",
      "Epoch 9/10\n",
      "287/287 [==============================] - 500s 2s/step - loss: 0.2152 - acc: 0.9090 - val_loss: 0.2266 - val_acc: 0.9016\n",
      "\n",
      "Epoch 00009: val_loss did not improve from 0.22591\n",
      "Epoch 10/10\n",
      "287/287 [==============================] - 482s 2s/step - loss: 0.2099 - acc: 0.9111 - val_loss: 0.2263 - val_acc: 0.9028\n",
      "\n",
      "Epoch 00010: val_loss did not improve from 0.22591\n"
     ]
    }
   ],
   "source": [
    "history = model.fit(train_converted, target_converted_train, epochs = EPOCH, \n",
    "                    batch_size= BATCH_SIZE, validation_split=0.2,\n",
    "                    callbacks=lstm.callbacks)"
   ]
  },
  {
   "cell_type": "code",
   "execution_count": 41,
   "metadata": {
    "id": "NbLq3sA-wc1Q"
   },
   "outputs": [
    {
     "data": {
      "image/png": "[encoded data removed]",
      "text/plain": [
       "<Figure size 1080x576 with 2 Axes>"
      ]
     },
     "metadata": {},
     "output_type": "display_data"
    }
   ],
   "source": [
    "util.plot_accuracy_loss(history, 'LSTM')"
   ]
  },
  {
   "cell_type": "markdown",
   "metadata": {},
   "source": [
    "<b>As per above execution, model of EPOCH 8 is saved as best model, the validation loss converges to training loss. Let's check how it performs for unseen data, if the accuracy of unseen data is aligning with validation accuracy then there is no trace of overfitting.</b>"
   ]
  },
  {
   "cell_type": "markdown",
   "metadata": {
    "id": "lROmCZ7-DfI5"
   },
   "source": [
    "# **Evaluation**"
   ]
  },
  {
   "cell_type": "code",
   "execution_count": 42,
   "metadata": {
    "id": "L5udYJGy3sC9"
   },
   "outputs": [
    {
     "name": "stdout",
     "output_type": "stream",
     "text": [
      "Model: \"sequential_2\"\n",
      "_________________________________________________________________\n",
      "Layer (type)                 Output Shape              Param #   \n",
      "=================================================================\n",
      "embedding_2 (Embedding)      (None, 121, 100)          15942300  \n",
      "_________________________________________________________________\n",
      "spatial_dropout1d_3 (Spatial (None, 121, 100)          0         \n",
      "_________________________________________________________________\n",
      "lstm (LSTM)                  (None, 64)                42240     \n",
      "_________________________________________________________________\n",
      "dense_3 (Dense)              (None, 3)                 195       \n",
      "=================================================================\n",
      "Total params: 15,984,735\n",
      "Trainable params: 15,984,735\n",
      "Non-trainable params: 0\n",
      "_________________________________________________________________\n"
     ]
    }
   ],
   "source": [
    "model = lstm.load_saved_model()\n",
    "model.summary()"
   ]
  },
  {
   "cell_type": "code",
   "execution_count": 43,
   "metadata": {
    "id": "7jOGYHNf-uTy",
    "scrolled": true
   },
   "outputs": [
    {
     "name": "stdout",
     "output_type": "stream",
     "text": [
      "90/90 - 29s - loss: 0.2285 - acc: 0.9012\n",
      "The loss of this model: 0.23\n",
      "The accuracy of this model: 0.90\n"
     ]
    }
   ],
   "source": [
    "score, acc = model.evaluate(test_converted, target_converted_test, verbose = 2, batch_size = BATCH_SIZE)\n",
    "print(\"The loss of this model: %.2f\" % (score))\n",
    "print(\"The accuracy of this model: %.2f\" % (acc))"
   ]
  },
  {
   "cell_type": "markdown",
   "metadata": {},
   "source": [
    "#### The testing accuracy is aligning with validation accuracy, shows no overfitting."
   ]
  },
  {
   "cell_type": "markdown",
   "metadata": {},
   "source": [
    "# Prediction"
   ]
  },
  {
   "cell_type": "code",
   "execution_count": 44,
   "metadata": {
    "id": "xP5XoLfv5F-x"
   },
   "outputs": [],
   "source": [
    "y_pred = model.predict(test_converted)"
   ]
  },
  {
   "cell_type": "code",
   "execution_count": 45,
   "metadata": {
    "id": "ZaFfjVJu-IJa"
   },
   "outputs": [
    {
     "name": "stdout",
     "output_type": "stream",
     "text": [
      "Confusion Matrix: \n",
      " [[54141  7497  2387]\n",
      " [ 5650 54615  1548]\n",
      " [  407   631 56439]]\n"
     ]
    },
    {
     "data": {
      "image/png": "[encoded data removed]",
      "text/plain": [
       "<Figure size 864x432 with 2 Axes>"
      ]
     },
     "metadata": {},
     "output_type": "display_data"
    }
   ],
   "source": [
    "test, pred = util.plot_confusion_matrix(y_pred, target_converted_test, 'LSTM')"
   ]
  },
  {
   "cell_type": "code",
   "execution_count": 46,
   "metadata": {
    "id": "WHkQdn6295MF"
   },
   "outputs": [
    {
     "name": "stdout",
     "output_type": "stream",
     "text": [
      "Classification Report:                precision    recall  f1-score   support\n",
      "\n",
      "           0       0.90      0.85      0.87     64025\n",
      "           1       0.87      0.88      0.88     61813\n",
      "           2       0.93      0.98      0.96     57477\n",
      "\n",
      "    accuracy                           0.90    183315\n",
      "   macro avg       0.90      0.90      0.90    183315\n",
      "weighted avg       0.90      0.90      0.90    183315\n",
      "\n"
     ]
    }
   ],
   "source": [
    "print(\"Classification Report: \", classification_report(test, pred))"
   ]
  },
  {
   "cell_type": "markdown",
   "metadata": {
    "id": "xhgHasz59Sf4"
   },
   "source": [
    "# <a id= 'lstm2'>**4.4 LSTM_v2**"
   ]
  },
  {
   "cell_type": "code",
   "execution_count": 47,
   "metadata": {
    "id": "DsxYTS099QDi",
    "scrolled": true
   },
   "outputs": [],
   "source": [
    "# Below method is commented as now for embedding layer, embedded weight matrix is also provided as input.\n",
    "\n",
    "# lstm = LSTM_Model()\n",
    "# model = lstm.create_model_v2(embed_dim = 100, lstm_out = 64, \n",
    "#                           input_len = train_converted.shape[1], feature = 200000, \n",
    "#                           drop_out = 0.8)\n",
    "# model.summary()"
   ]
  },
  {
   "cell_type": "code",
   "execution_count": 48,
   "metadata": {},
   "outputs": [
    {
     "name": "stdout",
     "output_type": "stream",
     "text": [
      "LSTM Model Initialization...\n",
      "Model Created Successfully...\n",
      "Model: \"sequential_3\"\n",
      "_________________________________________________________________\n",
      "Layer (type)                 Output Shape              Param #   \n",
      "=================================================================\n",
      "embedding_3 (Embedding)      (None, 121, 100)          15942300  \n",
      "_________________________________________________________________\n",
      "spatial_dropout1d_4 (Spatial (None, 121, 100)          0         \n",
      "_________________________________________________________________\n",
      "lstm_1 (LSTM)                (None, 121, 64)           42240     \n",
      "_________________________________________________________________\n",
      "spatial_dropout1d_5 (Spatial (None, 121, 64)           0         \n",
      "_________________________________________________________________\n",
      "lstm_2 (LSTM)                (None, 121, 64)           33024     \n",
      "_________________________________________________________________\n",
      "global_max_pooling1d_2 (Glob (None, 64)                0         \n",
      "_________________________________________________________________\n",
      "dense_4 (Dense)              (None, 64)                4160      \n",
      "_________________________________________________________________\n",
      "dense_5 (Dense)              (None, 3)                 195       \n",
      "=================================================================\n",
      "Total params: 16,021,919\n",
      "Trainable params: 16,021,919\n",
      "Non-trainable params: 0\n",
      "_________________________________________________________________\n"
     ]
    }
   ],
   "source": [
    "lstm = LSTM_Model()\n",
    "model = lstm.create_model_v2(embed_dim = max_len, lstm_out = 64, \n",
    "                          input_len = train_converted.shape[1], feature = vocab_length, \n",
    "                          drop_out = 0.5, embedding_matrix = embedding_matrix )\n",
    "model.summary()"
   ]
  },
  {
   "cell_type": "markdown",
   "metadata": {},
   "source": [
    "<b> Above neural network is implemented using sequential model in Keras. It contains the series of layers as shown above. <br>\n",
    "    <li>Embedding layer, embeds the input as per specified weights as embedding matrix. <br>\n",
    "    <li>Dropout layer, disable the less correlated neurons, the dropout rate is set to 0.5. One more dropout layer is added after convolution to minimize the neurons. <br>\n",
    "    <li>LSTM is known for keeping the information of recurrent features in one direction. Here multiple LSTM layers are used. As per provided input to LSTM as lstm_out that is 64 here, the output will vary.<br>\n",
    "    <li>dense layer uses activation function as softmax to predict the probability of each target class. <br>\n",
    "    <li>The output shape of each layer is as described in model summary.\n",
    "</b>"
   ]
  },
  {
   "cell_type": "code",
   "execution_count": 49,
   "metadata": {
    "id": "1Vy9ybbX9QDw"
   },
   "outputs": [
    {
     "name": "stdout",
     "output_type": "stream",
     "text": [
      "Epoch 1/10\n",
      "287/287 [==============================] - 1233s 4s/step - loss: 0.9546 - acc: 0.5014 - val_loss: 0.3153 - val_acc: 0.8659\n",
      "\n",
      "Epoch 00001: val_loss improved from inf to 0.31535, saving model to /Users/pratiksayanekar/Documents/DL_20200161/checkpoints/LSTM_v2/\n",
      "INFO:tensorflow:Assets written to: /Users/pratiksayanekar/Documents/DL_20200161/checkpoints/LSTM_v2/assets\n",
      "Epoch 2/10\n",
      "287/287 [==============================] - 1248s 4s/step - loss: 0.3929 - acc: 0.8338 - val_loss: 0.2745 - val_acc: 0.8825\n",
      "\n",
      "Epoch 00002: val_loss improved from 0.31535 to 0.27452, saving model to /Users/pratiksayanekar/Documents/DL_20200161/checkpoints/LSTM_v2/\n",
      "INFO:tensorflow:Assets written to: /Users/pratiksayanekar/Documents/DL_20200161/checkpoints/LSTM_v2/assets\n",
      "Epoch 3/10\n",
      "287/287 [==============================] - 1205s 4s/step - loss: 0.3197 - acc: 0.8622 - val_loss: 0.2613 - val_acc: 0.8880\n",
      "\n",
      "Epoch 00003: val_loss improved from 0.27452 to 0.26130, saving model to /Users/pratiksayanekar/Documents/DL_20200161/checkpoints/LSTM_v2/\n",
      "INFO:tensorflow:Assets written to: /Users/pratiksayanekar/Documents/DL_20200161/checkpoints/LSTM_v2/assets\n",
      "Epoch 4/10\n",
      "287/287 [==============================] - 1142s 4s/step - loss: 0.2936 - acc: 0.8717 - val_loss: 0.2506 - val_acc: 0.8919\n",
      "\n",
      "Epoch 00004: val_loss improved from 0.26130 to 0.25057, saving model to /Users/pratiksayanekar/Documents/DL_20200161/checkpoints/LSTM_v2/\n",
      "INFO:tensorflow:Assets written to: /Users/pratiksayanekar/Documents/DL_20200161/checkpoints/LSTM_v2/assets\n",
      "Epoch 5/10\n",
      "287/287 [==============================] - 1125s 4s/step - loss: 0.2773 - acc: 0.8796 - val_loss: 0.2433 - val_acc: 0.8948\n",
      "\n",
      "Epoch 00005: val_loss improved from 0.25057 to 0.24330, saving model to /Users/pratiksayanekar/Documents/DL_20200161/checkpoints/LSTM_v2/\n",
      "INFO:tensorflow:Assets written to: /Users/pratiksayanekar/Documents/DL_20200161/checkpoints/LSTM_v2/assets\n",
      "Epoch 6/10\n",
      "287/287 [==============================] - 1092s 4s/step - loss: 0.2670 - acc: 0.8839 - val_loss: 0.2389 - val_acc: 0.8960\n",
      "\n",
      "Epoch 00006: val_loss improved from 0.24330 to 0.23890, saving model to /Users/pratiksayanekar/Documents/DL_20200161/checkpoints/LSTM_v2/\n",
      "INFO:tensorflow:Assets written to: /Users/pratiksayanekar/Documents/DL_20200161/checkpoints/LSTM_v2/assets\n",
      "Epoch 7/10\n",
      "287/287 [==============================] - 1101s 4s/step - loss: 0.2584 - acc: 0.8883 - val_loss: 0.2358 - val_acc: 0.8960\n",
      "\n",
      "Epoch 00007: val_loss improved from 0.23890 to 0.23581, saving model to /Users/pratiksayanekar/Documents/DL_20200161/checkpoints/LSTM_v2/\n",
      "INFO:tensorflow:Assets written to: /Users/pratiksayanekar/Documents/DL_20200161/checkpoints/LSTM_v2/assets\n",
      "Epoch 8/10\n",
      "287/287 [==============================] - 1073s 4s/step - loss: 0.2492 - acc: 0.8928 - val_loss: 0.2321 - val_acc: 0.8984\n",
      "\n",
      "Epoch 00008: val_loss improved from 0.23581 to 0.23212, saving model to /Users/pratiksayanekar/Documents/DL_20200161/checkpoints/LSTM_v2/\n",
      "INFO:tensorflow:Assets written to: /Users/pratiksayanekar/Documents/DL_20200161/checkpoints/LSTM_v2/assets\n",
      "Epoch 9/10\n",
      "287/287 [==============================] - 1178s 4s/step - loss: 0.2426 - acc: 0.8961 - val_loss: 0.2316 - val_acc: 0.8979\n",
      "\n",
      "Epoch 00009: val_loss improved from 0.23212 to 0.23161, saving model to /Users/pratiksayanekar/Documents/DL_20200161/checkpoints/LSTM_v2/\n",
      "INFO:tensorflow:Assets written to: /Users/pratiksayanekar/Documents/DL_20200161/checkpoints/LSTM_v2/assets\n",
      "Epoch 10/10\n",
      "287/287 [==============================] - 1260s 4s/step - loss: 0.2362 - acc: 0.8991 - val_loss: 0.2282 - val_acc: 0.9006\n",
      "\n",
      "Epoch 00010: val_loss improved from 0.23161 to 0.22818, saving model to /Users/pratiksayanekar/Documents/DL_20200161/checkpoints/LSTM_v2/\n",
      "INFO:tensorflow:Assets written to: /Users/pratiksayanekar/Documents/DL_20200161/checkpoints/LSTM_v2/assets\n"
     ]
    }
   ],
   "source": [
    "history = model.fit(train_converted, target_converted_train, epochs = EPOCH, \n",
    "                    batch_size= BATCH_SIZE, validation_split=0.2,\n",
    "                    callbacks=lstm.callbacks_v2)"
   ]
  },
  {
   "cell_type": "code",
   "execution_count": 50,
   "metadata": {
    "id": "bjjufKwC9QDx"
   },
   "outputs": [
    {
     "data": {
      "image/png": "[encoded data removed]",
      "text/plain": [
       "<Figure size 1080x576 with 2 Axes>"
      ]
     },
     "metadata": {},
     "output_type": "display_data"
    }
   ],
   "source": [
    "util.plot_accuracy_loss(history, 'LSTM_v2')"
   ]
  },
  {
   "cell_type": "markdown",
   "metadata": {},
   "source": [
    "<b>As per above execution, model of EPOCH 10 is saved as best model, the validation loss is less than training loss. Let's check how it performs for unseen data, if the accuracy of unseen data is aligning with validation accuracy then there is no trace of overfitting.</b>"
   ]
  },
  {
   "cell_type": "markdown",
   "metadata": {
    "id": "mXanGrbP9QDy"
   },
   "source": [
    "# **Evaluation**"
   ]
  },
  {
   "cell_type": "code",
   "execution_count": 51,
   "metadata": {
    "id": "kq_WqUiv9QDy"
   },
   "outputs": [
    {
     "name": "stdout",
     "output_type": "stream",
     "text": [
      "Model: \"sequential_3\"\n",
      "_________________________________________________________________\n",
      "Layer (type)                 Output Shape              Param #   \n",
      "=================================================================\n",
      "embedding_3 (Embedding)      (None, 121, 100)          15942300  \n",
      "_________________________________________________________________\n",
      "spatial_dropout1d_4 (Spatial (None, 121, 100)          0         \n",
      "_________________________________________________________________\n",
      "lstm_1 (LSTM)                (None, 121, 64)           42240     \n",
      "_________________________________________________________________\n",
      "spatial_dropout1d_5 (Spatial (None, 121, 64)           0         \n",
      "_________________________________________________________________\n",
      "lstm_2 (LSTM)                (None, 121, 64)           33024     \n",
      "_________________________________________________________________\n",
      "global_max_pooling1d_2 (Glob (None, 64)                0         \n",
      "_________________________________________________________________\n",
      "dense_4 (Dense)              (None, 64)                4160      \n",
      "_________________________________________________________________\n",
      "dense_5 (Dense)              (None, 3)                 195       \n",
      "=================================================================\n",
      "Total params: 16,021,919\n",
      "Trainable params: 16,021,919\n",
      "Non-trainable params: 0\n",
      "_________________________________________________________________\n"
     ]
    }
   ],
   "source": [
    "model = lstm.load_saved_model_v2()\n",
    "model.summary()"
   ]
  },
  {
   "cell_type": "code",
   "execution_count": 52,
   "metadata": {
    "id": "l9tvfbI69QDy"
   },
   "outputs": [
    {
     "name": "stdout",
     "output_type": "stream",
     "text": [
      "90/90 - 55s - loss: 0.2317 - acc: 0.8997\n",
      "The loss of this model: 0.23\n",
      "The accuracy of this model: 0.90\n"
     ]
    }
   ],
   "source": [
    "score, acc = model.evaluate(test_converted, target_converted_test, verbose = 2, batch_size = BATCH_SIZE)\n",
    "print(\"The loss of this model: %.2f\" % (score))\n",
    "print(\"The accuracy of this model: %.2f\" % (acc))"
   ]
  },
  {
   "cell_type": "markdown",
   "metadata": {},
   "source": [
    "#### The testing accuracy is aligning with validation accuracy, shows no overfitting."
   ]
  },
  {
   "cell_type": "markdown",
   "metadata": {},
   "source": [
    "# Prediction"
   ]
  },
  {
   "cell_type": "code",
   "execution_count": 53,
   "metadata": {
    "id": "Xj-IRUZt9QDy"
   },
   "outputs": [],
   "source": [
    "y_pred = model.predict(test_converted)"
   ]
  },
  {
   "cell_type": "code",
   "execution_count": 54,
   "metadata": {
    "id": "vzocGMug9QDz"
   },
   "outputs": [
    {
     "name": "stdout",
     "output_type": "stream",
     "text": [
      "Confusion Matrix: \n",
      " [[54112  7697  2418]\n",
      " [ 5839 54578  1713]\n",
      " [  247   468 56243]]\n"
     ]
    },
    {
     "data": {
      "image/png": "[encoded data removed]",
      "text/plain": [
       "<Figure size 864x432 with 2 Axes>"
      ]
     },
     "metadata": {},
     "output_type": "display_data"
    }
   ],
   "source": [
    "test, pred = util.plot_confusion_matrix(y_pred, target_converted_test, 'LSTM_v2')"
   ]
  },
  {
   "cell_type": "code",
   "execution_count": 55,
   "metadata": {
    "id": "gexV8tUB9QDz"
   },
   "outputs": [
    {
     "name": "stdout",
     "output_type": "stream",
     "text": [
      "Classification Report:                precision    recall  f1-score   support\n",
      "\n",
      "           0       0.90      0.84      0.87     64227\n",
      "           1       0.87      0.88      0.87     62130\n",
      "           2       0.93      0.99      0.96     56958\n",
      "\n",
      "    accuracy                           0.90    183315\n",
      "   macro avg       0.90      0.90      0.90    183315\n",
      "weighted avg       0.90      0.90      0.90    183315\n",
      "\n"
     ]
    }
   ],
   "source": [
    "print(\"Classification Report: \", classification_report(test, pred))"
   ]
  },
  {
   "cell_type": "markdown",
   "metadata": {
    "id": "70X3KiMtw0-E"
   },
   "source": [
    "# <a id= 'bilstm'> **5. Proposed Model: BiLSTM+CNN**\n",
    "    \n",
    "    Here, the advantage of both BiLSTM and CNN is utilised to predict the target class.\n",
    "    BiLSTM is bidirectional LSTM, will store information of recurrent features. \n",
    "    CNN will process features in sequential manner as per privided kernel size.\n",
    "    "
   ]
  },
  {
   "cell_type": "code",
   "execution_count": 56,
   "metadata": {
    "id": "iuFYQwNfiqGI"
   },
   "outputs": [
    {
     "name": "stdout",
     "output_type": "stream",
     "text": [
      "BiLSTM Model Initialization...\n",
      "Model Created Successfully...\n",
      "Model: \"sequential_4\"\n",
      "_________________________________________________________________\n",
      "Layer (type)                 Output Shape              Param #   \n",
      "=================================================================\n",
      "embedding_4 (Embedding)      (None, 121, 100)          15942300  \n",
      "_________________________________________________________________\n",
      "bidirectional (Bidirectional (None, 121, 200)          160800    \n",
      "_________________________________________________________________\n",
      "spatial_dropout1d_6 (Spatial (None, 121, 200)          0         \n",
      "_________________________________________________________________\n",
      "bidirectional_1 (Bidirection (None, 121, 200)          240800    \n",
      "_________________________________________________________________\n",
      "conv1d_3 (Conv1D)            (None, 117, 100)          100100    \n",
      "_________________________________________________________________\n",
      "global_max_pooling1d_3 (Glob (None, 100)               0         \n",
      "_________________________________________________________________\n",
      "dense_6 (Dense)              (None, 16)                1616      \n",
      "_________________________________________________________________\n",
      "dense_7 (Dense)              (None, 3)                 51        \n",
      "=================================================================\n",
      "Total params: 16,445,667\n",
      "Trainable params: 16,445,667\n",
      "Non-trainable params: 0\n",
      "_________________________________________________________________\n"
     ]
    }
   ],
   "source": [
    "bi_lstm = BiLSTM_Model()\n",
    "model = bi_lstm.create_model(embed_dim = max_len, lstm_out = 100, input_len = train_converted.shape[1], \n",
    "                             feature = vocab_length, drop_out = 0.5, embedding_matrix = embedding_matrix)\n",
    "model.summary()"
   ]
  },
  {
   "cell_type": "markdown",
   "metadata": {},
   "source": [
    "<b> Above neural network is implemented using sequential model in Keras. It contains the series of layers as shown above. <br>\n",
    "    <li>Embedding layer, embeds the input as per specified weights as embedding matrix. <br>\n",
    "    <li>Dropout layer, disable the less correlated neurons, the dropout rate is set to 0.5. One more dropout layer is added after convolution to minimize the neurons. <br>\n",
    "    <li>BiLSTM applies the LSTM in both direction that doubles the output.<br>\n",
    "    <li>CNN layer, as discussed above convolutes the spatial information.<br>\n",
    "    <li>dense layer uses activation function as softmax to predict the probability of each target class. <br>\n",
    "    <li>The output shape of each layer is as described in model summary.\n",
    "</b>"
   ]
  },
  {
   "cell_type": "code",
   "execution_count": 57,
   "metadata": {
    "id": "e_VNKixm0DqM",
    "scrolled": false
   },
   "outputs": [
    {
     "name": "stdout",
     "output_type": "stream",
     "text": [
      "Epoch 1/10\n",
      "287/287 [==============================] - 3556s 12s/step - loss: 0.7722 - acc: 0.6346 - val_loss: 0.2690 - val_acc: 0.8835\n"
     ]
    },
    {
     "name": "stderr",
     "output_type": "stream",
     "text": [
      "WARNING:absl:Found untraced functions such as lstm_cell_7_layer_call_fn, lstm_cell_7_layer_call_and_return_conditional_losses, lstm_cell_8_layer_call_fn, lstm_cell_8_layer_call_and_return_conditional_losses, lstm_cell_10_layer_call_fn while saving (showing 5 of 20). These functions will not be directly callable after loading.\n",
      "WARNING:absl:Found untraced functions such as lstm_cell_7_layer_call_fn, lstm_cell_7_layer_call_and_return_conditional_losses, lstm_cell_8_layer_call_fn, lstm_cell_8_layer_call_and_return_conditional_losses, lstm_cell_10_layer_call_fn while saving (showing 5 of 20). These functions will not be directly callable after loading.\n"
     ]
    },
    {
     "name": "stdout",
     "output_type": "stream",
     "text": [
      "INFO:tensorflow:Assets written to: /Users/pratiksayanekar/Documents/DL_20200161/checkpoints/BiLSTM/assets\n"
     ]
    },
    {
     "name": "stderr",
     "output_type": "stream",
     "text": [
      "INFO:tensorflow:Assets written to: /Users/pratiksayanekar/Documents/DL_20200161/checkpoints/BiLSTM/assets\n"
     ]
    },
    {
     "name": "stdout",
     "output_type": "stream",
     "text": [
      "Epoch 2/10\n",
      "287/287 [==============================] - 3254s 11s/step - loss: 0.2849 - acc: 0.8790 - val_loss: 0.2402 - val_acc: 0.8951\n"
     ]
    },
    {
     "name": "stderr",
     "output_type": "stream",
     "text": [
      "WARNING:absl:Found untraced functions such as lstm_cell_7_layer_call_fn, lstm_cell_7_layer_call_and_return_conditional_losses, lstm_cell_8_layer_call_fn, lstm_cell_8_layer_call_and_return_conditional_losses, lstm_cell_10_layer_call_fn while saving (showing 5 of 20). These functions will not be directly callable after loading.\n",
      "WARNING:absl:Found untraced functions such as lstm_cell_7_layer_call_fn, lstm_cell_7_layer_call_and_return_conditional_losses, lstm_cell_8_layer_call_fn, lstm_cell_8_layer_call_and_return_conditional_losses, lstm_cell_10_layer_call_fn while saving (showing 5 of 20). These functions will not be directly callable after loading.\n"
     ]
    },
    {
     "name": "stdout",
     "output_type": "stream",
     "text": [
      "INFO:tensorflow:Assets written to: /Users/pratiksayanekar/Documents/DL_20200161/checkpoints/BiLSTM/assets\n"
     ]
    },
    {
     "name": "stderr",
     "output_type": "stream",
     "text": [
      "INFO:tensorflow:Assets written to: /Users/pratiksayanekar/Documents/DL_20200161/checkpoints/BiLSTM/assets\n"
     ]
    },
    {
     "name": "stdout",
     "output_type": "stream",
     "text": [
      "Epoch 3/10\n",
      "287/287 [==============================] - 3725s 13s/step - loss: 0.2443 - acc: 0.8964 - val_loss: 0.2327 - val_acc: 0.8978\n"
     ]
    },
    {
     "name": "stderr",
     "output_type": "stream",
     "text": [
      "WARNING:absl:Found untraced functions such as lstm_cell_7_layer_call_fn, lstm_cell_7_layer_call_and_return_conditional_losses, lstm_cell_8_layer_call_fn, lstm_cell_8_layer_call_and_return_conditional_losses, lstm_cell_10_layer_call_fn while saving (showing 5 of 20). These functions will not be directly callable after loading.\n",
      "WARNING:absl:Found untraced functions such as lstm_cell_7_layer_call_fn, lstm_cell_7_layer_call_and_return_conditional_losses, lstm_cell_8_layer_call_fn, lstm_cell_8_layer_call_and_return_conditional_losses, lstm_cell_10_layer_call_fn while saving (showing 5 of 20). These functions will not be directly callable after loading.\n"
     ]
    },
    {
     "name": "stdout",
     "output_type": "stream",
     "text": [
      "INFO:tensorflow:Assets written to: /Users/pratiksayanekar/Documents/DL_20200161/checkpoints/BiLSTM/assets\n"
     ]
    },
    {
     "name": "stderr",
     "output_type": "stream",
     "text": [
      "INFO:tensorflow:Assets written to: /Users/pratiksayanekar/Documents/DL_20200161/checkpoints/BiLSTM/assets\n"
     ]
    },
    {
     "name": "stdout",
     "output_type": "stream",
     "text": [
      "Epoch 4/10\n",
      "287/287 [==============================] - 4053s 14s/step - loss: 0.2222 - acc: 0.9062 - val_loss: 0.2321 - val_acc: 0.9002\n"
     ]
    },
    {
     "name": "stderr",
     "output_type": "stream",
     "text": [
      "WARNING:absl:Found untraced functions such as lstm_cell_7_layer_call_fn, lstm_cell_7_layer_call_and_return_conditional_losses, lstm_cell_8_layer_call_fn, lstm_cell_8_layer_call_and_return_conditional_losses, lstm_cell_10_layer_call_fn while saving (showing 5 of 20). These functions will not be directly callable after loading.\n",
      "WARNING:absl:Found untraced functions such as lstm_cell_7_layer_call_fn, lstm_cell_7_layer_call_and_return_conditional_losses, lstm_cell_8_layer_call_fn, lstm_cell_8_layer_call_and_return_conditional_losses, lstm_cell_10_layer_call_fn while saving (showing 5 of 20). These functions will not be directly callable after loading.\n"
     ]
    },
    {
     "name": "stdout",
     "output_type": "stream",
     "text": [
      "INFO:tensorflow:Assets written to: /Users/pratiksayanekar/Documents/DL_20200161/checkpoints/BiLSTM/assets\n"
     ]
    },
    {
     "name": "stderr",
     "output_type": "stream",
     "text": [
      "INFO:tensorflow:Assets written to: /Users/pratiksayanekar/Documents/DL_20200161/checkpoints/BiLSTM/assets\n"
     ]
    },
    {
     "name": "stdout",
     "output_type": "stream",
     "text": [
      "Epoch 5/10\n",
      "287/287 [==============================] - 3932s 14s/step - loss: 0.2075 - acc: 0.9118 - val_loss: 0.2307 - val_acc: 0.8986\n"
     ]
    },
    {
     "name": "stderr",
     "output_type": "stream",
     "text": [
      "WARNING:absl:Found untraced functions such as lstm_cell_7_layer_call_fn, lstm_cell_7_layer_call_and_return_conditional_losses, lstm_cell_8_layer_call_fn, lstm_cell_8_layer_call_and_return_conditional_losses, lstm_cell_10_layer_call_fn while saving (showing 5 of 20). These functions will not be directly callable after loading.\n",
      "WARNING:absl:Found untraced functions such as lstm_cell_7_layer_call_fn, lstm_cell_7_layer_call_and_return_conditional_losses, lstm_cell_8_layer_call_fn, lstm_cell_8_layer_call_and_return_conditional_losses, lstm_cell_10_layer_call_fn while saving (showing 5 of 20). These functions will not be directly callable after loading.\n"
     ]
    },
    {
     "name": "stdout",
     "output_type": "stream",
     "text": [
      "INFO:tensorflow:Assets written to: /Users/pratiksayanekar/Documents/DL_20200161/checkpoints/BiLSTM/assets\n"
     ]
    },
    {
     "name": "stderr",
     "output_type": "stream",
     "text": [
      "INFO:tensorflow:Assets written to: /Users/pratiksayanekar/Documents/DL_20200161/checkpoints/BiLSTM/assets\n"
     ]
    },
    {
     "name": "stdout",
     "output_type": "stream",
     "text": [
      "Epoch 6/10\n",
      "287/287 [==============================] - 3112s 11s/step - loss: 0.1944 - acc: 0.9178 - val_loss: 0.2293 - val_acc: 0.9028\n"
     ]
    },
    {
     "name": "stderr",
     "output_type": "stream",
     "text": [
      "WARNING:absl:Found untraced functions such as lstm_cell_7_layer_call_fn, lstm_cell_7_layer_call_and_return_conditional_losses, lstm_cell_8_layer_call_fn, lstm_cell_8_layer_call_and_return_conditional_losses, lstm_cell_10_layer_call_fn while saving (showing 5 of 20). These functions will not be directly callable after loading.\n",
      "WARNING:absl:Found untraced functions such as lstm_cell_7_layer_call_fn, lstm_cell_7_layer_call_and_return_conditional_losses, lstm_cell_8_layer_call_fn, lstm_cell_8_layer_call_and_return_conditional_losses, lstm_cell_10_layer_call_fn while saving (showing 5 of 20). These functions will not be directly callable after loading.\n"
     ]
    },
    {
     "name": "stdout",
     "output_type": "stream",
     "text": [
      "INFO:tensorflow:Assets written to: /Users/pratiksayanekar/Documents/DL_20200161/checkpoints/BiLSTM/assets\n"
     ]
    },
    {
     "name": "stderr",
     "output_type": "stream",
     "text": [
      "INFO:tensorflow:Assets written to: /Users/pratiksayanekar/Documents/DL_20200161/checkpoints/BiLSTM/assets\n"
     ]
    },
    {
     "name": "stdout",
     "output_type": "stream",
     "text": [
      "Epoch 7/10\n",
      "287/287 [==============================] - 3050s 11s/step - loss: 0.1847 - acc: 0.9216 - val_loss: 0.2342 - val_acc: 0.9029\n",
      "Epoch 8/10\n",
      "287/287 [==============================] - 3039s 11s/step - loss: 0.1778 - acc: 0.9239 - val_loss: 0.2386 - val_acc: 0.9023\n",
      "Epoch 9/10\n",
      "287/287 [==============================] - 3031s 11s/step - loss: 0.1713 - acc: 0.9262 - val_loss: 0.2429 - val_acc: 0.9028\n",
      "Epoch 10/10\n",
      "287/287 [==============================] - 3028s 11s/step - loss: 0.1658 - acc: 0.9285 - val_loss: 0.2453 - val_acc: 0.9026\n"
     ]
    }
   ],
   "source": [
    "history = model.fit(train_converted, target_converted_train, batch_size=BATCH_SIZE, epochs=EPOCH,\n",
    "                    validation_split=0.2, callbacks=bi_lstm.callbacks)"
   ]
  },
  {
   "cell_type": "markdown",
   "metadata": {},
   "source": [
    "<b>As per above execution, model of EPOCH 6 is saved as best model, the validation loss is intersects training loss and showing platue. Let's check how it performs for unseen data, if the accuracy of unseen data is aligning with validation accuracy then there is no trace of overfitting.</b>"
   ]
  },
  {
   "cell_type": "code",
   "execution_count": 60,
   "metadata": {
    "id": "WU8XVaL_2Ghs"
   },
   "outputs": [
    {
     "data": {
      "image/png": "[encoded data removed]",
      "text/plain": [
       "<Figure size 1080x576 with 2 Axes>"
      ]
     },
     "metadata": {},
     "output_type": "display_data"
    }
   ],
   "source": [
    "util.plot_accuracy_loss(history, 'BiLSTM')"
   ]
  },
  {
   "cell_type": "markdown",
   "metadata": {
    "id": "WDDfiF1m2Ghr"
   },
   "source": [
    "# **Evaluation**"
   ]
  },
  {
   "cell_type": "code",
   "execution_count": 58,
   "metadata": {
    "id": "_nwt8aYA2cqX"
   },
   "outputs": [
    {
     "name": "stdout",
     "output_type": "stream",
     "text": [
      "Model: \"sequential_4\"\n",
      "_________________________________________________________________\n",
      "Layer (type)                 Output Shape              Param #   \n",
      "=================================================================\n",
      "embedding_4 (Embedding)      (None, 121, 100)          15942300  \n",
      "_________________________________________________________________\n",
      "bidirectional (Bidirectional (None, 121, 200)          160800    \n",
      "_________________________________________________________________\n",
      "spatial_dropout1d_6 (Spatial (None, 121, 200)          0         \n",
      "_________________________________________________________________\n",
      "bidirectional_1 (Bidirection (None, 121, 200)          240800    \n",
      "_________________________________________________________________\n",
      "conv1d_3 (Conv1D)            (None, 117, 100)          100100    \n",
      "_________________________________________________________________\n",
      "global_max_pooling1d_3 (Glob (None, 100)               0         \n",
      "_________________________________________________________________\n",
      "dense_6 (Dense)              (None, 16)                1616      \n",
      "_________________________________________________________________\n",
      "dense_7 (Dense)              (None, 3)                 51        \n",
      "=================================================================\n",
      "Total params: 16,445,667\n",
      "Trainable params: 16,445,667\n",
      "Non-trainable params: 0\n",
      "_________________________________________________________________\n",
      "None\n"
     ]
    }
   ],
   "source": [
    "model = bi_lstm.load_saved_model()\n",
    "print(model.summary())"
   ]
  },
  {
   "cell_type": "code",
   "execution_count": 59,
   "metadata": {
    "id": "V6hePvUv8F77"
   },
   "outputs": [
    {
     "name": "stdout",
     "output_type": "stream",
     "text": [
      "90/90 - 210s - loss: 0.2307 - acc: 0.9019\n",
      "The loss of this model: 0.23\n",
      "The accuracy of this model: 0.90\n"
     ]
    }
   ],
   "source": [
    "score, acc = model.evaluate(test_converted, target_converted_test, verbose = 2, batch_size = BATCH_SIZE)\n",
    "print(\"The loss of this model: %.2f\" % (score))\n",
    "print(\"The accuracy of this model: %.2f\" % (acc))"
   ]
  },
  {
   "cell_type": "markdown",
   "metadata": {},
   "source": [
    "#### The testing accuracy is aligning with validation accuracy, shows no overfitting."
   ]
  },
  {
   "cell_type": "markdown",
   "metadata": {
    "id": "QCDslDeU2YyX"
   },
   "source": [
    "# **Prediction** "
   ]
  },
  {
   "cell_type": "code",
   "execution_count": 61,
   "metadata": {
    "id": "p0ESOLwC2YyY"
   },
   "outputs": [],
   "source": [
    "y_pred = model.predict(test_converted)"
   ]
  },
  {
   "cell_type": "code",
   "execution_count": 62,
   "metadata": {
    "id": "q5qmWSKY2YyZ"
   },
   "outputs": [
    {
     "name": "stdout",
     "output_type": "stream",
     "text": [
      "Confusion Matrix: \n",
      " [[54285  7693  2271]\n",
      " [ 5247 54355  1420]\n",
      " [  666   695 56683]]\n"
     ]
    },
    {
     "data": {
      "image/png": "[encoded data removed]",
      "text/plain": [
       "<Figure size 864x432 with 2 Axes>"
      ]
     },
     "metadata": {},
     "output_type": "display_data"
    }
   ],
   "source": [
    "test, pred = util.plot_confusion_matrix(y_pred, target_converted_test, 'BiLSTM')"
   ]
  },
  {
   "cell_type": "code",
   "execution_count": 63,
   "metadata": {
    "id": "7svgO38x2Yya",
    "scrolled": false
   },
   "outputs": [
    {
     "name": "stdout",
     "output_type": "stream",
     "text": [
      "Classification Report:                precision    recall  f1-score   support\n",
      "\n",
      "           0       0.90      0.84      0.87     64249\n",
      "           1       0.87      0.89      0.88     61022\n",
      "           2       0.94      0.98      0.96     58044\n",
      "\n",
      "    accuracy                           0.90    183315\n",
      "   macro avg       0.90      0.90      0.90    183315\n",
      "weighted avg       0.90      0.90      0.90    183315\n",
      "\n"
     ]
    }
   ],
   "source": [
    "print(\"Classification Report: \", classification_report(test, pred))"
   ]
  },
  {
   "cell_type": "markdown",
   "metadata": {},
   "source": [
    " # <a id='conclusion'> Conclusion:\n",
    " <b>   <li>The testing accuracy of above model is 90%, the accuracy of angry and disappointed is comparatively less as model is perfectly distinguishing tweets with happy emotion.</li>\n",
    "    <li>The loss of training and validation curve shows no overfitting, provided that the accuracy on unseen data matches the accuracy of validation data.</li>\n",
    "    <li>Model is performing poor, not actually poor but less efficient while predicting between 'angry' and 'disappointed' tweets. The confusion matrix of all models shows similar results.</li>\n",
    "    <li>The execution time of epochs can be reduced by adding several layers of dropout but this is avoided as it results in increase of loss.</li>\n",
    "    <li>The batch size can be increase more than 1024. for example in last saved notebook by increasing batch size to 2048 reduces the number of steps to run one epoch, 587776 samples were trained in 287 steps. On CPU one epoch of BiLSTM takes almost an hour to execute.</li>\n",
    "    <li>Due to Google collab time limit exhaustion, the latest run is executed on Macbook pro CPU with increased batch size.</li>\n",
    "</b>    "
   ]
  },
  {
   "cell_type": "code",
   "execution_count": null,
   "metadata": {},
   "outputs": [],
   "source": []
  }
 ],
 "metadata": {
  "accelerator": "GPU",
  "colab": {
   "authorship_tag": "ABX9TyMu9jkCBbp3LzKHr2ENmGGn",
   "collapsed_sections": [],
   "mount_file_id": "1sFa-J96f-q8Vl2x8CBoXoYbM4j7pczd9",
   "name": "Deep_Learning_models.ipynb",
   "provenance": []
  },
  "kernelspec": {
   "display_name": "Python 3",
   "language": "python",
   "name": "python3"
  },
  "language_info": {
   "codemirror_mode": {
    "name": "ipython",
    "version": 3
   },
   "file_extension": ".py",
   "mimetype": "text/x-python",
   "name": "python",
   "nbconvert_exporter": "python",
   "pygments_lexer": "ipython3",
   "version": "3.8.3"
  }
 },
 "nbformat": 4,
 "nbformat_minor": 1
}
