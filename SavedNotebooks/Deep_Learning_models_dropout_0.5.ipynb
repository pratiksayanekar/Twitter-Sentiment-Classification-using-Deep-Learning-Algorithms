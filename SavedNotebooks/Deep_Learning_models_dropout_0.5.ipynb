{
 "cells": [
  {
   "cell_type": "code",
   "execution_count": 1,
   "metadata": {
    "executionInfo": {
     "elapsed": 4561,
     "status": "ok",
     "timestamp": 1618442562521,
     "user": {
      "displayName": "Pratik Pundlik Sayanekar",
      "photoUrl": "",
      "userId": "12868587701793367447"
     },
     "user_tz": -60
    },
    "id": "KdFoTLXsDESF"
   },
   "outputs": [],
   "source": [
    "! pip install -q scikit-plot"
   ]
  },
  {
   "cell_type": "markdown",
   "metadata": {
    "id": "hSvj9uTMxqr9"
   },
   "source": [
    "# **Import**"
   ]
  },
  {
   "cell_type": "code",
   "execution_count": 2,
   "metadata": {
    "executionInfo": {
     "elapsed": 4557,
     "status": "ok",
     "timestamp": 1618442562522,
     "user": {
      "displayName": "Pratik Pundlik Sayanekar",
      "photoUrl": "",
      "userId": "12868587701793367447"
     },
     "user_tz": -60
    },
    "id": "1WmEmhR_xjpa"
   },
   "outputs": [],
   "source": [
    "import pandas as pd\n",
    "pd.set_option('display.max_colwidth', None)\n",
    "import string"
   ]
  },
  {
   "cell_type": "code",
   "execution_count": 3,
   "metadata": {
    "executionInfo": {
     "elapsed": 4556,
     "status": "ok",
     "timestamp": 1618442562524,
     "user": {
      "displayName": "Pratik Pundlik Sayanekar",
      "photoUrl": "",
      "userId": "12868587701793367447"
     },
     "user_tz": -60
    },
    "id": "rg7gU6mg9Npu"
   },
   "outputs": [],
   "source": [
    "import sys\n",
    "filePath = '/Users/pratiksayanekar/Documents/DL_20200161'\n",
    "#filePath = '/content/drive/My Drive/DeepLearning'\n",
    "sys.path.append(filePath)"
   ]
  },
  {
   "cell_type": "code",
   "execution_count": 4,
   "metadata": {
    "executionInfo": {
     "elapsed": 10327,
     "status": "ok",
     "timestamp": 1618442568296,
     "user": {
      "displayName": "Pratik Pundlik Sayanekar",
      "photoUrl": "",
      "userId": "12868587701793367447"
     },
     "user_tz": -60
    },
    "id": "NMwa3-Yl4LoD"
   },
   "outputs": [
    {
     "name": "stderr",
     "output_type": "stream",
     "text": [
      "/Users/pratiksayanekar/opt/anaconda3/lib/python3.8/site-packages/gensim/similarities/__init__.py:15: UserWarning: The gensim.similarities.levenshtein submodule is disabled, because the optional Levenshtein package <https://pypi.org/project/python-Levenshtein/> is unavailable. Install Levenhstein (e.g. `pip install python-Levenshtein`) to suppress this warning.\n",
      "  warnings.warn(msg)\n"
     ]
    }
   ],
   "source": [
    "from utils.basic_utilities import Utils\n",
    "from models.LSTM_1 import LSTM_Model\n",
    "from models.CNN_1 import CNN_Model\n",
    "from models.Word2Vec_1 import Word2VecModel\n",
    "from models.BiLSTM import BiLSTM_Model"
   ]
  },
  {
   "cell_type": "code",
   "execution_count": 5,
   "metadata": {
    "executionInfo": {
     "elapsed": 10326,
     "status": "ok",
     "timestamp": 1618442568297,
     "user": {
      "displayName": "Pratik Pundlik Sayanekar",
      "photoUrl": "",
      "userId": "12868587701793367447"
     },
     "user_tz": -60
    },
    "id": "fdPZR-STw0WL"
   },
   "outputs": [],
   "source": [
    "from sklearn.metrics import classification_report"
   ]
  },
  {
   "cell_type": "markdown",
   "metadata": {
    "id": "qE2K-FxWxvhc"
   },
   "source": [
    "# **Reading Preprocessed Data**"
   ]
  },
  {
   "cell_type": "code",
   "execution_count": 6,
   "metadata": {
    "colab": {
     "base_uri": "https://localhost:8080/",
     "height": 306
    },
    "executionInfo": {
     "elapsed": 15999,
     "status": "ok",
     "timestamp": 1618442574059,
     "user": {
      "displayName": "Pratik Pundlik Sayanekar",
      "photoUrl": "",
      "userId": "12868587701793367447"
     },
     "user_tz": -60
    },
    "id": "VJTB3726xu68",
    "outputId": "cc70fcbc-5dac-4d5c-8d69-60c6f941c7dd"
   },
   "outputs": [
    {
     "data": {
      "text/html": [
       "<div>\n",
       "<style scoped>\n",
       "    .dataframe tbody tr th:only-of-type {\n",
       "        vertical-align: middle;\n",
       "    }\n",
       "\n",
       "    .dataframe tbody tr th {\n",
       "        vertical-align: top;\n",
       "    }\n",
       "\n",
       "    .dataframe thead th {\n",
       "        text-align: right;\n",
       "    }\n",
       "</style>\n",
       "<table border=\"1\" class=\"dataframe\">\n",
       "  <thead>\n",
       "    <tr style=\"text-align: right;\">\n",
       "      <th></th>\n",
       "      <th>emotion</th>\n",
       "      <th>content</th>\n",
       "      <th>original_content</th>\n",
       "      <th>text</th>\n",
       "    </tr>\n",
       "  </thead>\n",
       "  <tbody>\n",
       "    <tr>\n",
       "      <th>0</th>\n",
       "      <td>disappointed</td>\n",
       "      <td>oh fuck did i wrote fil grinningfacewithsweat nsorry spot disappointedface</td>\n",
       "      <td>b'RT @Davbingodav: @mcrackins Oh fuck.... did I wrote Fil ??? :grinning_face_with_sweat:\\nSorry Spot. :disappointed_face:'</td>\n",
       "      <td>rt oh fuck wrote fil grinning_face_with_sweatnsorry spot isappointed_face</td>\n",
       "    </tr>\n",
       "    <tr>\n",
       "      <th>1</th>\n",
       "      <td>disappointed</td>\n",
       "      <td>i feel nor am i shamed by it</td>\n",
       "      <td>i feel nor am i shamed by it</td>\n",
       "      <td>feel shamed</td>\n",
       "    </tr>\n",
       "    <tr>\n",
       "      <th>2</th>\n",
       "      <td>disappointed</td>\n",
       "      <td>i had been feeling a little bit defeated by the step of faith we would need to take to try to resolve our problem</td>\n",
       "      <td>i had been feeling a little bit defeated by the steps of faith we would need to take to try to resolve our problem</td>\n",
       "      <td>feeling little bit defeated steps faith need try resolve problem</td>\n",
       "    </tr>\n",
       "    <tr>\n",
       "      <th>3</th>\n",
       "      <td>happy</td>\n",
       "      <td>imagine if that reaction guy that called jj kfc saw this my man would ve started cry lmao</td>\n",
       "      <td>b\"@KSIOlajidebt imagine if that reaction guy that called JJ KFC saw this. my man would've started crying lmao \"</td>\n",
       "      <td>imagine reaction guy called jj kfc saw man ve started crying lmao</td>\n",
       "    </tr>\n",
       "    <tr>\n",
       "      <th>4</th>\n",
       "      <td>disappointed</td>\n",
       "      <td>i wouldnt feel burdened so that i would live my life a a testament to his sacrifice that wa out of a love so pure and innocent yet so great and mighty</td>\n",
       "      <td>i wouldnt feel burdened so that i would live my life as a testament to his sacrifice that was out of a love so pure and innocent yet so great and mighty</td>\n",
       "      <td>wouldnt feel burdened live life testament sacrifice love pure innocent great mighty</td>\n",
       "    </tr>\n",
       "  </tbody>\n",
       "</table>\n",
       "</div>"
      ],
      "text/plain": [
       "        emotion  \\\n",
       "0  disappointed   \n",
       "1  disappointed   \n",
       "2  disappointed   \n",
       "3         happy   \n",
       "4  disappointed   \n",
       "\n",
       "                                                                                                                                                  content  \\\n",
       "0                                                                              oh fuck did i wrote fil grinningfacewithsweat nsorry spot disappointedface   \n",
       "1                                                                                                                            i feel nor am i shamed by it   \n",
       "2                                       i had been feeling a little bit defeated by the step of faith we would need to take to try to resolve our problem   \n",
       "3                                                               imagine if that reaction guy that called jj kfc saw this my man would ve started cry lmao   \n",
       "4  i wouldnt feel burdened so that i would live my life a a testament to his sacrifice that wa out of a love so pure and innocent yet so great and mighty   \n",
       "\n",
       "                                                                                                                                           original_content  \\\n",
       "0                                b'RT @Davbingodav: @mcrackins Oh fuck.... did I wrote Fil ??? :grinning_face_with_sweat:\\nSorry Spot. :disappointed_face:'   \n",
       "1                                                                                                                              i feel nor am i shamed by it   \n",
       "2                                        i had been feeling a little bit defeated by the steps of faith we would need to take to try to resolve our problem   \n",
       "3                                           b\"@KSIOlajidebt imagine if that reaction guy that called JJ KFC saw this. my man would've started crying lmao \"   \n",
       "4  i wouldnt feel burdened so that i would live my life as a testament to his sacrifice that was out of a love so pure and innocent yet so great and mighty   \n",
       "\n",
       "                                                                                  text  \n",
       "0            rt oh fuck wrote fil grinning_face_with_sweatnsorry spot isappointed_face  \n",
       "1                                                                          feel shamed  \n",
       "2                     feeling little bit defeated steps faith need try resolve problem  \n",
       "3                    imagine reaction guy called jj kfc saw man ve started crying lmao  \n",
       "4  wouldnt feel burdened live life testament sacrifice love pure innocent great mighty  "
      ]
     },
     "execution_count": 6,
     "metadata": {},
     "output_type": "execute_result"
    }
   ],
   "source": [
    "#df = pd.read_csv('/content/drive/MyDrive/DeepLearning/Data/preprocessed_data.csv')\n",
    "df = pd.read_csv('{}/Data/preprocessed_data.csv'.format(filePath))\n",
    "df.head()"
   ]
  },
  {
   "cell_type": "code",
   "execution_count": 7,
   "metadata": {
    "executionInfo": {
     "elapsed": 15998,
     "status": "ok",
     "timestamp": 1618442574060,
     "user": {
      "displayName": "Pratik Pundlik Sayanekar",
      "photoUrl": "",
      "userId": "12868587701793367447"
     },
     "user_tz": -60
    },
    "id": "enPDPec5I2Zu"
   },
   "outputs": [],
   "source": [
    "df.text = df.text.astype(str)"
   ]
  },
  {
   "cell_type": "markdown",
   "metadata": {
    "id": "2tpmE6zCpZ2i"
   },
   "source": [
    "# **Splitting dataset into train(80%) and test(20%)**"
   ]
  },
  {
   "cell_type": "code",
   "execution_count": 8,
   "metadata": {
    "colab": {
     "base_uri": "https://localhost:8080/"
    },
    "executionInfo": {
     "elapsed": 17490,
     "status": "ok",
     "timestamp": 1618442575561,
     "user": {
      "displayName": "Pratik Pundlik Sayanekar",
      "photoUrl": "",
      "userId": "12868587701793367447"
     },
     "user_tz": -60
    },
    "id": "rmbqBr4vwK5_",
    "outputId": "f65a6a5c-fe29-4061-a6e8-2231dad6fe64"
   },
   "outputs": [
    {
     "name": "stdout",
     "output_type": "stream",
     "text": [
      "Initialization of Utilities...\n",
      "The shape of train data:  (733260,)\n",
      "The shape of train target:  (733260,)\n",
      "The shape of test data:  (183315,)\n",
      "The shape of test target:  (183315,)\n"
     ]
    }
   ],
   "source": [
    "util = Utils()\n",
    "X_train, X_test, y_train, y_test = util.split_data(df)\n",
    "print(\"The shape of train data: \",X_train.shape)\n",
    "print(\"The shape of train target: \",y_train.shape)\n",
    "print(\"The shape of test data: \",X_test.shape)\n",
    "print(\"The shape of test target: \",y_test.shape)"
   ]
  },
  {
   "cell_type": "code",
   "execution_count": 9,
   "metadata": {},
   "outputs": [
    {
     "data": {
      "text/plain": [
       "disappointed    62743\n",
       "happy           60374\n",
       "angry           60198\n",
       "Name: emotion, dtype: int64"
      ]
     },
     "execution_count": 9,
     "metadata": {},
     "output_type": "execute_result"
    }
   ],
   "source": [
    "y_test.value_counts()"
   ]
  },
  {
   "cell_type": "markdown",
   "metadata": {
    "id": "n5Sqp20Spudj"
   },
   "source": [
    "# **Tokenization and Padding of each tweet**"
   ]
  },
  {
   "cell_type": "code",
   "execution_count": 10,
   "metadata": {
    "colab": {
     "base_uri": "https://localhost:8080/"
    },
    "executionInfo": {
     "elapsed": 18126,
     "status": "ok",
     "timestamp": 1618442576205,
     "user": {
      "displayName": "Pratik Pundlik Sayanekar",
      "photoUrl": "",
      "userId": "12868587701793367447"
     },
     "user_tz": -60
    },
    "id": "YwI5tOD9JcEV",
    "outputId": "2dd40fe3-0493-45cc-9b93-3c44eee28e59"
   },
   "outputs": [
    {
     "name": "stdout",
     "output_type": "stream",
     "text": [
      "Maximum length of tweet: 122\n"
     ]
    }
   ],
   "source": [
    "max_len = util.max_len(df)\n",
    "print(\"Maximum length of tweet:\", max_len)"
   ]
  },
  {
   "cell_type": "code",
   "execution_count": 11,
   "metadata": {
    "colab": {
     "base_uri": "https://localhost:8080/"
    },
    "executionInfo": {
     "elapsed": 47849,
     "status": "ok",
     "timestamp": 1618442605935,
     "user": {
      "displayName": "Pratik Pundlik Sayanekar",
      "photoUrl": "",
      "userId": "12868587701793367447"
     },
     "user_tz": -60
    },
    "id": "ASGy-Q_rFjUL",
    "outputId": "97aa9fd7-84a9-4c63-bbe3-74bbc80ad15e"
   },
   "outputs": [
    {
     "name": "stdout",
     "output_type": "stream",
     "text": [
      "After Tokenization and Padding...\n",
      "The shape of train data:  (733260, 122)\n",
      "The shape of test data:  (183315, 122)\n"
     ]
    }
   ],
   "source": [
    "train_converted, test_converted = util.tokenization_padding(X_train, X_test, max_len)\n",
    "print(\"After Tokenization and Padding...\")\n",
    "print(\"The shape of train data: \", train_converted.shape)\n",
    "print(\"The shape of test data: \", test_converted.shape)"
   ]
  },
  {
   "cell_type": "code",
   "execution_count": 12,
   "metadata": {
    "colab": {
     "base_uri": "https://localhost:8080/"
    },
    "executionInfo": {
     "elapsed": 47843,
     "status": "ok",
     "timestamp": 1618442605936,
     "user": {
      "displayName": "Pratik Pundlik Sayanekar",
      "photoUrl": "",
      "userId": "12868587701793367447"
     },
     "user_tz": -60
    },
    "id": "f-xgFoO7vwzd",
    "outputId": "1c4cd67b-569f-4d5a-bb5d-70ee0f990463"
   },
   "outputs": [
    {
     "name": "stdout",
     "output_type": "stream",
     "text": [
      "After one hot encoding of target variable...\n",
      "The shape of train target:  (733260, 3)\n",
      "The shape of test target:  (183315, 3)\n"
     ]
    }
   ],
   "source": [
    "target_converted_train, target_converted_test = util.one_hot_target_variable(y_train, y_test)\n",
    "print(\"After one hot encoding of target variable...\")\n",
    "print(\"The shape of train target: \", target_converted_train.shape)\n",
    "print(\"The shape of test target: \", target_converted_test.shape)"
   ]
  },
  {
   "cell_type": "markdown",
   "metadata": {
    "id": "vTWn9w2kh8gw"
   },
   "source": [
    "# **Word2Vec Model**"
   ]
  },
  {
   "cell_type": "code",
   "execution_count": 13,
   "metadata": {
    "id": "BT7Cc9c7iAmk"
   },
   "outputs": [
    {
     "name": "stdout",
     "output_type": "stream",
     "text": [
      "Word2Vec Model Initialization...\n"
     ]
    }
   ],
   "source": [
    "word2vec = Word2VecModel()\n",
    "# word2vec_model = word2vec.create_model(X_train)\n",
    "\n",
    "# I have created a seperate class for word2vec model which has functions to create model and embedding matrix, \n",
    "# and it was working perfectly fine until I moved to local machine from colab.\n",
    "# There was some version mismatch issue, \n",
    "# please refer, https://github.com/RaRe-Technologies/gensim/wiki/Migrating-from-Gensim-3.x-to-4\n",
    "# so I have created below additional method which will return the word2vec model."
   ]
  },
  {
   "cell_type": "code",
   "execution_count": 14,
   "metadata": {},
   "outputs": [],
   "source": [
    "import numpy as np\n",
    "from gensim.models import Word2Vec\n",
    "\n",
    "def create_word2vec_model(X_train):\n",
    "    # Creating Word2Vec training dataset.\n",
    "    Word2vec_train_data = list(map(lambda x: x.split(), X_train))\n",
    "\n",
    "    word2vec_model = Word2Vec(sentences = Word2vec_train_data, vector_size=max_len, min_count=5)\n",
    "\n",
    "    print(\"Vocabulary Length:\", len(word2vec_model.wv))\n",
    "    return word2vec_model"
   ]
  },
  {
   "cell_type": "code",
   "execution_count": 15,
   "metadata": {},
   "outputs": [
    {
     "name": "stdout",
     "output_type": "stream",
     "text": [
      "Vocabulary Length: 34749\n"
     ]
    }
   ],
   "source": [
    "word2vec_model = create_word2vec_model(X_train)"
   ]
  },
  {
   "cell_type": "code",
   "execution_count": 16,
   "metadata": {
    "id": "0TAGO-E2iinq"
   },
   "outputs": [
    {
     "name": "stdout",
     "output_type": "stream",
     "text": [
      "After Tokenization and Padding...\n",
      "The shape of train data:  (733260, 122)\n",
      "The shape of test data:  (183315, 122)\n"
     ]
    }
   ],
   "source": [
    "train_converted, test_converted, tokenizer = util.tokenization_padding_oov_token(X_train, X_test, max_len)\n",
    "print(\"After Tokenization and Padding...\")\n",
    "print(\"The shape of train data: \", train_converted.shape)\n",
    "print(\"The shape of test data: \", test_converted.shape)"
   ]
  },
  {
   "cell_type": "code",
   "execution_count": 17,
   "metadata": {
    "id": "qFhdBqhUim8C"
   },
   "outputs": [
    {
     "name": "stdout",
     "output_type": "stream",
     "text": [
      "Embedding Matrix Shape: (159426, 122)\n"
     ]
    }
   ],
   "source": [
    "vocab_length = len(tokenizer.word_index) + 1\n",
    "embedding_matrix = word2vec.create_embedding_matrix(vocab_length, tokenizer, word2vec_model, max_len)"
   ]
  },
  {
   "cell_type": "markdown",
   "metadata": {
    "id": "7yz5IFdw3B3R"
   },
   "source": [
    "# **Deep Learning Models**"
   ]
  },
  {
   "cell_type": "code",
   "execution_count": 18,
   "metadata": {
    "executionInfo": {
     "elapsed": 47842,
     "status": "ok",
     "timestamp": 1618442605937,
     "user": {
      "displayName": "Pratik Pundlik Sayanekar",
      "photoUrl": "",
      "userId": "12868587701793367447"
     },
     "user_tz": -60
    },
    "id": "KYmEV5EL3BS3"
   },
   "outputs": [],
   "source": [
    "EPOCH = 10\n",
    "BATCH_SIZE = 2048 # 1024"
   ]
  },
  {
   "cell_type": "markdown",
   "metadata": {
    "id": "M81GzKxtFqFI"
   },
   "source": [
    "# **CNN Model**"
   ]
  },
  {
   "cell_type": "code",
   "execution_count": 19,
   "metadata": {
    "colab": {
     "base_uri": "https://localhost:8080/"
    },
    "executionInfo": {
     "elapsed": 48305,
     "status": "ok",
     "timestamp": 1618442606406,
     "user": {
      "displayName": "Pratik Pundlik Sayanekar",
      "photoUrl": "",
      "userId": "12868587701793367447"
     },
     "user_tz": -60
    },
    "id": "Op2cjQkaHM8p",
    "outputId": "ddbbb69c-e203-4c62-92a1-e588429710c3"
   },
   "outputs": [],
   "source": [
    "# Below method is commented as now for embedding layer some weight matrix is also provided as input.\n",
    "\n",
    "# cnn = CNN_Model()\n",
    "# model = cnn.create_model(embed_dim = 100, num_filters = 128, \n",
    "#                           input_len = train_converted.shape[1], feature = 200000, \n",
    "#                           drop_out = 0.5, num_words=4)\n",
    "# model.summary()"
   ]
  },
  {
   "cell_type": "code",
   "execution_count": 20,
   "metadata": {},
   "outputs": [
    {
     "name": "stdout",
     "output_type": "stream",
     "text": [
      "CNN Model Initialization...\n",
      "Model Created Successfully...\n",
      "Model: \"sequential\"\n",
      "_________________________________________________________________\n",
      "Layer (type)                 Output Shape              Param #   \n",
      "=================================================================\n",
      "embedding (Embedding)        (None, 122, 122)          19449972  \n",
      "_________________________________________________________________\n",
      "spatial_dropout1d (SpatialDr (None, 122, 122)          0         \n",
      "_________________________________________________________________\n",
      "conv1d (Conv1D)              (None, 119, 128)          62592     \n",
      "_________________________________________________________________\n",
      "global_max_pooling1d (Global (None, 128)               0         \n",
      "_________________________________________________________________\n",
      "dense (Dense)                (None, 3)                 387       \n",
      "=================================================================\n",
      "Total params: 19,512,951\n",
      "Trainable params: 19,512,951\n",
      "Non-trainable params: 0\n",
      "_________________________________________________________________\n"
     ]
    }
   ],
   "source": [
    "cnn = CNN_Model()\n",
    "model = cnn.create_model(embed_dim = max_len, num_filters = 128, \n",
    "                          input_len = train_converted.shape[1], feature = vocab_length, \n",
    "                          drop_out = 0.5, num_words=4, embedding_matrix = embedding_matrix)\n",
    "model.summary()"
   ]
  },
  {
   "cell_type": "code",
   "execution_count": 21,
   "metadata": {
    "colab": {
     "base_uri": "https://localhost:8080/"
    },
    "executionInfo": {
     "elapsed": 6985483,
     "status": "ok",
     "timestamp": 1618449543592,
     "user": {
      "displayName": "Pratik Pundlik Sayanekar",
      "photoUrl": "",
      "userId": "12868587701793367447"
     },
     "user_tz": -60
    },
    "id": "3e32dCWnHyiL",
    "outputId": "496f83b0-7492-414d-c38d-b064c9f4a22b"
   },
   "outputs": [
    {
     "name": "stdout",
     "output_type": "stream",
     "text": [
      "Epoch 1/10\n",
      "287/287 [==============================] - 187s 652ms/step - loss: 0.6331 - acc: 0.7234 - val_loss: 0.2722 - val_acc: 0.8839\n",
      "\n",
      "Epoch 00001: val_loss improved from inf to 0.27225, saving model to /Users/pratiksayanekar/Documents/DL_20200161/checkpoints/CNN/\n",
      "INFO:tensorflow:Assets written to: /Users/pratiksayanekar/Documents/DL_20200161/checkpoints/CNN/assets\n",
      "Epoch 2/10\n",
      "287/287 [==============================] - 184s 640ms/step - loss: 0.3113 - acc: 0.8696 - val_loss: 0.2507 - val_acc: 0.8903\n",
      "\n",
      "Epoch 00002: val_loss improved from 0.27225 to 0.25074, saving model to /Users/pratiksayanekar/Documents/DL_20200161/checkpoints/CNN/\n",
      "INFO:tensorflow:Assets written to: /Users/pratiksayanekar/Documents/DL_20200161/checkpoints/CNN/assets\n",
      "Epoch 3/10\n",
      "287/287 [==============================] - 184s 642ms/step - loss: 0.2763 - acc: 0.8829 - val_loss: 0.2413 - val_acc: 0.8943\n",
      "\n",
      "Epoch 00003: val_loss improved from 0.25074 to 0.24133, saving model to /Users/pratiksayanekar/Documents/DL_20200161/checkpoints/CNN/\n",
      "INFO:tensorflow:Assets written to: /Users/pratiksayanekar/Documents/DL_20200161/checkpoints/CNN/assets\n",
      "Epoch 4/10\n",
      "287/287 [==============================] - 183s 638ms/step - loss: 0.2607 - acc: 0.8890 - val_loss: 0.2360 - val_acc: 0.8962\n",
      "\n",
      "Epoch 00004: val_loss improved from 0.24133 to 0.23604, saving model to /Users/pratiksayanekar/Documents/DL_20200161/checkpoints/CNN/\n",
      "INFO:tensorflow:Assets written to: /Users/pratiksayanekar/Documents/DL_20200161/checkpoints/CNN/assets\n",
      "Epoch 5/10\n",
      "287/287 [==============================] - 183s 638ms/step - loss: 0.2489 - acc: 0.8942 - val_loss: 0.2319 - val_acc: 0.8985\n",
      "\n",
      "Epoch 00005: val_loss improved from 0.23604 to 0.23192, saving model to /Users/pratiksayanekar/Documents/DL_20200161/checkpoints/CNN/\n",
      "INFO:tensorflow:Assets written to: /Users/pratiksayanekar/Documents/DL_20200161/checkpoints/CNN/assets\n",
      "Epoch 6/10\n",
      "287/287 [==============================] - 184s 641ms/step - loss: 0.2359 - acc: 0.9000 - val_loss: 0.2284 - val_acc: 0.9003\n",
      "\n",
      "Epoch 00006: val_loss improved from 0.23192 to 0.22841, saving model to /Users/pratiksayanekar/Documents/DL_20200161/checkpoints/CNN/\n",
      "INFO:tensorflow:Assets written to: /Users/pratiksayanekar/Documents/DL_20200161/checkpoints/CNN/assets\n",
      "Epoch 7/10\n",
      "287/287 [==============================] - 183s 639ms/step - loss: 0.2266 - acc: 0.9062 - val_loss: 0.2281 - val_acc: 0.9011\n",
      "\n",
      "Epoch 00007: val_loss improved from 0.22841 to 0.22812, saving model to /Users/pratiksayanekar/Documents/DL_20200161/checkpoints/CNN/\n",
      "INFO:tensorflow:Assets written to: /Users/pratiksayanekar/Documents/DL_20200161/checkpoints/CNN/assets\n",
      "Epoch 8/10\n",
      "287/287 [==============================] - 184s 643ms/step - loss: 0.2139 - acc: 0.9121 - val_loss: 0.2279 - val_acc: 0.9012\n",
      "\n",
      "Epoch 00008: val_loss improved from 0.22812 to 0.22790, saving model to /Users/pratiksayanekar/Documents/DL_20200161/checkpoints/CNN/\n",
      "INFO:tensorflow:Assets written to: /Users/pratiksayanekar/Documents/DL_20200161/checkpoints/CNN/assets\n",
      "Epoch 9/10\n",
      "287/287 [==============================] - 184s 641ms/step - loss: 0.2025 - acc: 0.9179 - val_loss: 0.2272 - val_acc: 0.9016\n",
      "\n",
      "Epoch 00009: val_loss improved from 0.22790 to 0.22716, saving model to /Users/pratiksayanekar/Documents/DL_20200161/checkpoints/CNN/\n",
      "INFO:tensorflow:Assets written to: /Users/pratiksayanekar/Documents/DL_20200161/checkpoints/CNN/assets\n",
      "Epoch 10/10\n",
      "287/287 [==============================] - 184s 640ms/step - loss: 0.1906 - acc: 0.9232 - val_loss: 0.2292 - val_acc: 0.9012\n",
      "\n",
      "Epoch 00010: val_loss did not improve from 0.22716\n"
     ]
    }
   ],
   "source": [
    "history = model.fit(train_converted, target_converted_train, epochs = EPOCH, \n",
    "                    batch_size=BATCH_SIZE, validation_split=0.2,\n",
    "                    callbacks=cnn.callbacks)"
   ]
  },
  {
   "cell_type": "code",
   "execution_count": 22,
   "metadata": {
    "colab": {
     "base_uri": "https://localhost:8080/",
     "height": 500
    },
    "executionInfo": {
     "elapsed": 6986568,
     "status": "ok",
     "timestamp": 1618449544684,
     "user": {
      "displayName": "Pratik Pundlik Sayanekar",
      "photoUrl": "",
      "userId": "12868587701793367447"
     },
     "user_tz": -60
    },
    "id": "q2StIg9PIP2a",
    "outputId": "0766073a-0b29-420e-df8d-51a4e02e55e6"
   },
   "outputs": [
    {
     "data": {
      "image/png": "[encoded data removed]",
      "text/plain": [
       "<Figure size 1080x576 with 2 Axes>"
      ]
     },
     "metadata": {},
     "output_type": "display_data"
    }
   ],
   "source": [
    "util.plot_accuracy_loss(history, 'CNN')"
   ]
  },
  {
   "cell_type": "markdown",
   "metadata": {
    "id": "CVxZwJc6IP2Z"
   },
   "source": [
    "# **Evaluation**"
   ]
  },
  {
   "cell_type": "code",
   "execution_count": 23,
   "metadata": {
    "colab": {
     "base_uri": "https://localhost:8080/"
    },
    "executionInfo": {
     "elapsed": 6987901,
     "status": "ok",
     "timestamp": 1618449546025,
     "user": {
      "displayName": "Pratik Pundlik Sayanekar",
      "photoUrl": "",
      "userId": "12868587701793367447"
     },
     "user_tz": -60
    },
    "id": "_kAjaJGf4Amw",
    "outputId": "ef46c290-7c68-4378-f54e-d4f1374c610b"
   },
   "outputs": [
    {
     "name": "stdout",
     "output_type": "stream",
     "text": [
      "Model: \"sequential\"\n",
      "_________________________________________________________________\n",
      "Layer (type)                 Output Shape              Param #   \n",
      "=================================================================\n",
      "embedding (Embedding)        (None, 122, 122)          19449972  \n",
      "_________________________________________________________________\n",
      "spatial_dropout1d (SpatialDr (None, 122, 122)          0         \n",
      "_________________________________________________________________\n",
      "conv1d (Conv1D)              (None, 119, 128)          62592     \n",
      "_________________________________________________________________\n",
      "global_max_pooling1d (Global (None, 128)               0         \n",
      "_________________________________________________________________\n",
      "dense (Dense)                (None, 3)                 387       \n",
      "=================================================================\n",
      "Total params: 19,512,951\n",
      "Trainable params: 19,512,951\n",
      "Non-trainable params: 0\n",
      "_________________________________________________________________\n"
     ]
    }
   ],
   "source": [
    "model = cnn.load_saved_model()\n",
    "model.summary()"
   ]
  },
  {
   "cell_type": "code",
   "execution_count": 24,
   "metadata": {
    "colab": {
     "base_uri": "https://localhost:8080/"
    },
    "executionInfo": {
     "elapsed": 7007786,
     "status": "ok",
     "timestamp": 1618449565918,
     "user": {
      "displayName": "Pratik Pundlik Sayanekar",
      "photoUrl": "",
      "userId": "12868587701793367447"
     },
     "user_tz": -60
    },
    "id": "QEmqzr9q-1uk",
    "outputId": "021dcc3d-6850-452e-eccc-f1e160928617"
   },
   "outputs": [
    {
     "name": "stdout",
     "output_type": "stream",
     "text": [
      "90/90 - 12s - loss: 0.2298 - acc: 0.9005\n",
      "The loss of this model: 0.23\n",
      "The accuracy of this model: 0.90\n"
     ]
    }
   ],
   "source": [
    "score, acc = model.evaluate(test_converted, target_converted_test, verbose = 2, batch_size = BATCH_SIZE)\n",
    "print(\"The loss of this model: %.2f\" % (score))\n",
    "print(\"The accuracy of this model: %.2f\" % (acc))"
   ]
  },
  {
   "cell_type": "code",
   "execution_count": 25,
   "metadata": {
    "executionInfo": {
     "elapsed": 7031188,
     "status": "ok",
     "timestamp": 1618449589321,
     "user": {
      "displayName": "Pratik Pundlik Sayanekar",
      "photoUrl": "",
      "userId": "12868587701793367447"
     },
     "user_tz": -60
    },
    "id": "lAfloiyAIP2b"
   },
   "outputs": [],
   "source": [
    "y_pred = model.predict(test_converted)"
   ]
  },
  {
   "cell_type": "code",
   "execution_count": 26,
   "metadata": {
    "colab": {
     "base_uri": "https://localhost:8080/",
     "height": 459
    },
    "executionInfo": {
     "elapsed": 7031763,
     "status": "ok",
     "timestamp": 1618449589903,
     "user": {
      "displayName": "Pratik Pundlik Sayanekar",
      "photoUrl": "",
      "userId": "12868587701793367447"
     },
     "user_tz": -60
    },
    "id": "GYn-D1DmIP2b",
    "outputId": "3226f6ed-8e8c-40a1-a659-e696d8a2eda2"
   },
   "outputs": [
    {
     "name": "stdout",
     "output_type": "stream",
     "text": [
      "Confusion Matrix: \n",
      " [[55139  8639  2638]\n",
      " [ 4614 53454  1245]\n",
      " [  445   650 56491]]\n"
     ]
    },
    {
     "data": {
      "image/png": "[encoded data removed]",
      "text/plain": [
       "<Figure size 864x432 with 2 Axes>"
      ]
     },
     "metadata": {},
     "output_type": "display_data"
    }
   ],
   "source": [
    "test,pred = util.plot_confusion_matrix(y_pred, target_converted_test, 'CNN')"
   ]
  },
  {
   "cell_type": "code",
   "execution_count": 27,
   "metadata": {
    "colab": {
     "base_uri": "https://localhost:8080/"
    },
    "executionInfo": {
     "elapsed": 7032172,
     "status": "ok",
     "timestamp": 1618449590321,
     "user": {
      "displayName": "Pratik Pundlik Sayanekar",
      "photoUrl": "",
      "userId": "12868587701793367447"
     },
     "user_tz": -60
    },
    "id": "7qVr0JGRIP2c",
    "outputId": "d44eda2a-ce81-437a-f364-77a75eb4c0ab"
   },
   "outputs": [
    {
     "name": "stdout",
     "output_type": "stream",
     "text": [
      "Classification Report:                precision    recall  f1-score   support\n",
      "\n",
      "           0       0.92      0.83      0.87     66416\n",
      "           1       0.85      0.90      0.88     59313\n",
      "           2       0.94      0.98      0.96     57586\n",
      "\n",
      "    accuracy                           0.90    183315\n",
      "   macro avg       0.90      0.90      0.90    183315\n",
      "weighted avg       0.90      0.90      0.90    183315\n",
      "\n"
     ]
    }
   ],
   "source": [
    "print(\"Classification Report: \", classification_report(test, pred))"
   ]
  },
  {
   "cell_type": "markdown",
   "metadata": {
    "id": "d_FML8qirR1Y"
   },
   "source": [
    "# **CNN_v2**"
   ]
  },
  {
   "cell_type": "code",
   "execution_count": 28,
   "metadata": {
    "colab": {
     "base_uri": "https://localhost:8080/"
    },
    "executionInfo": {
     "elapsed": 7032386,
     "status": "ok",
     "timestamp": 1618449590543,
     "user": {
      "displayName": "Pratik Pundlik Sayanekar",
      "photoUrl": "",
      "userId": "12868587701793367447"
     },
     "user_tz": -60
    },
    "id": "OUhvdEdSrP_W",
    "outputId": "0a6edc53-b005-4cfa-b5ca-b2679f59503e"
   },
   "outputs": [],
   "source": [
    "# Below method is commented as now for embedding layer some weight matrix is also provided as input.\n",
    "\n",
    "# cnn = CNN_Model()\n",
    "# model = cnn.create_model_v2(embed_dim = 100, num_filters = 128, \n",
    "#                           input_len = train_converted.shape[1], feature = 200000, \n",
    "#                           drop_out = 0.8, num_words=4)\n",
    "# model.summary()"
   ]
  },
  {
   "cell_type": "code",
   "execution_count": 29,
   "metadata": {},
   "outputs": [
    {
     "name": "stdout",
     "output_type": "stream",
     "text": [
      "CNN Model Initialization...\n",
      "Model Created Successfully...\n",
      "Model: \"sequential_1\"\n",
      "_________________________________________________________________\n",
      "Layer (type)                 Output Shape              Param #   \n",
      "=================================================================\n",
      "embedding_1 (Embedding)      (None, 122, 122)          19449972  \n",
      "_________________________________________________________________\n",
      "spatial_dropout1d_1 (Spatial (None, 122, 122)          0         \n",
      "_________________________________________________________________\n",
      "conv1d_1 (Conv1D)            (None, 122, 128)          62592     \n",
      "_________________________________________________________________\n",
      "conv1d_2 (Conv1D)            (None, 122, 128)          65664     \n",
      "_________________________________________________________________\n",
      "spatial_dropout1d_2 (Spatial (None, 122, 128)          0         \n",
      "_________________________________________________________________\n",
      "global_max_pooling1d_1 (Glob (None, 128)               0         \n",
      "_________________________________________________________________\n",
      "dense_1 (Dense)              (None, 64)                8256      \n",
      "_________________________________________________________________\n",
      "dense_2 (Dense)              (None, 3)                 195       \n",
      "=================================================================\n",
      "Total params: 19,586,679\n",
      "Trainable params: 19,586,679\n",
      "Non-trainable params: 0\n",
      "_________________________________________________________________\n"
     ]
    }
   ],
   "source": [
    "cnn = CNN_Model()\n",
    "model = cnn.create_model_v2(embed_dim = max_len, num_filters = 128, \n",
    "                          input_len = train_converted.shape[1], feature = vocab_length, \n",
    "                          drop_out = 0.5, num_words=4, embedding_matrix = embedding_matrix )\n",
    "model.summary()"
   ]
  },
  {
   "cell_type": "code",
   "execution_count": 30,
   "metadata": {
    "colab": {
     "base_uri": "https://localhost:8080/"
    },
    "executionInfo": {
     "elapsed": 24138192,
     "status": "ok",
     "timestamp": 1618466696356,
     "user": {
      "displayName": "Pratik Pundlik Sayanekar",
      "photoUrl": "",
      "userId": "12868587701793367447"
     },
     "user_tz": -60
    },
    "id": "p5cIHTdIrzue",
    "outputId": "6fb2514d-490d-41f7-8ea7-cd5f8db95063"
   },
   "outputs": [
    {
     "name": "stdout",
     "output_type": "stream",
     "text": [
      "Epoch 1/10\n",
      "287/287 [==============================] - 347s 1s/step - loss: 0.6597 - acc: 0.7069 - val_loss: 0.2594 - val_acc: 0.8857\n",
      "\n",
      "Epoch 00001: val_loss improved from inf to 0.25943, saving model to /Users/pratiksayanekar/Documents/DL_20200161/checkpoints/CNN_v2/\n",
      "INFO:tensorflow:Assets written to: /Users/pratiksayanekar/Documents/DL_20200161/checkpoints/CNN_v2/assets\n",
      "Epoch 2/10\n",
      "287/287 [==============================] - 344s 1s/step - loss: 0.2984 - acc: 0.8730 - val_loss: 0.2423 - val_acc: 0.8939\n",
      "\n",
      "Epoch 00002: val_loss improved from 0.25943 to 0.24233, saving model to /Users/pratiksayanekar/Documents/DL_20200161/checkpoints/CNN_v2/\n",
      "INFO:tensorflow:Assets written to: /Users/pratiksayanekar/Documents/DL_20200161/checkpoints/CNN_v2/assets\n",
      "Epoch 3/10\n",
      "287/287 [==============================] - 344s 1s/step - loss: 0.2668 - acc: 0.8854 - val_loss: 0.2341 - val_acc: 0.8975\n",
      "\n",
      "Epoch 00003: val_loss improved from 0.24233 to 0.23405, saving model to /Users/pratiksayanekar/Documents/DL_20200161/checkpoints/CNN_v2/\n",
      "INFO:tensorflow:Assets written to: /Users/pratiksayanekar/Documents/DL_20200161/checkpoints/CNN_v2/assets\n",
      "Epoch 4/10\n",
      "287/287 [==============================] - 344s 1s/step - loss: 0.2521 - acc: 0.8921 - val_loss: 0.2289 - val_acc: 0.8991\n",
      "\n",
      "Epoch 00004: val_loss improved from 0.23405 to 0.22888, saving model to /Users/pratiksayanekar/Documents/DL_20200161/checkpoints/CNN_v2/\n",
      "INFO:tensorflow:Assets written to: /Users/pratiksayanekar/Documents/DL_20200161/checkpoints/CNN_v2/assets\n",
      "Epoch 5/10\n",
      "287/287 [==============================] - 346s 1s/step - loss: 0.2382 - acc: 0.8988 - val_loss: 0.2282 - val_acc: 0.9008\n",
      "\n",
      "Epoch 00005: val_loss improved from 0.22888 to 0.22817, saving model to /Users/pratiksayanekar/Documents/DL_20200161/checkpoints/CNN_v2/\n",
      "INFO:tensorflow:Assets written to: /Users/pratiksayanekar/Documents/DL_20200161/checkpoints/CNN_v2/assets\n",
      "Epoch 6/10\n",
      "287/287 [==============================] - 368s 1s/step - loss: 0.2260 - acc: 0.9054 - val_loss: 0.2292 - val_acc: 0.9014\n",
      "\n",
      "Epoch 00006: val_loss did not improve from 0.22817\n",
      "Epoch 7/10\n",
      "287/287 [==============================] - 381s 1s/step - loss: 0.2125 - acc: 0.9103 - val_loss: 0.2307 - val_acc: 0.9007\n",
      "\n",
      "Epoch 00007: val_loss did not improve from 0.22817\n",
      "Epoch 8/10\n",
      "287/287 [==============================] - 377s 1s/step - loss: 0.1989 - acc: 0.9163 - val_loss: 0.2402 - val_acc: 0.8985\n",
      "\n",
      "Epoch 00008: val_loss did not improve from 0.22817\n",
      "Epoch 9/10\n",
      "287/287 [==============================] - 381s 1s/step - loss: 0.1879 - acc: 0.9209 - val_loss: 0.2431 - val_acc: 0.9004\n",
      "\n",
      "Epoch 00009: val_loss did not improve from 0.22817\n",
      "Epoch 10/10\n",
      "287/287 [==============================] - 380s 1s/step - loss: 0.1799 - acc: 0.9236 - val_loss: 0.2494 - val_acc: 0.8973\n",
      "\n",
      "Epoch 00010: val_loss did not improve from 0.22817\n"
     ]
    }
   ],
   "source": [
    "history = model.fit(train_converted, target_converted_train, epochs = EPOCH, \n",
    "                    batch_size=BATCH_SIZE, validation_split=0.2,\n",
    "                    callbacks=cnn.callbacks_v2)"
   ]
  },
  {
   "cell_type": "code",
   "execution_count": 31,
   "metadata": {
    "colab": {
     "base_uri": "https://localhost:8080/",
     "height": 500
    },
    "executionInfo": {
     "elapsed": 24138759,
     "status": "ok",
     "timestamp": 1618466696931,
     "user": {
      "displayName": "Pratik Pundlik Sayanekar",
      "photoUrl": "",
      "userId": "12868587701793367447"
     },
     "user_tz": -60
    },
    "id": "X4_T_vIgr_0V",
    "outputId": "975bedf7-8d2a-49d3-d582-145a58238417"
   },
   "outputs": [
    {
     "data": {
      "image/png": "[encoded data removed]",
      "text/plain": [
       "<Figure size 1080x576 with 2 Axes>"
      ]
     },
     "metadata": {},
     "output_type": "display_data"
    }
   ],
   "source": [
    "util.plot_accuracy_loss(history, 'CNN_v2')"
   ]
  },
  {
   "cell_type": "markdown",
   "metadata": {
    "id": "DPimGiSh9Zfs"
   },
   "source": [
    "# **Evaluation**"
   ]
  },
  {
   "cell_type": "code",
   "execution_count": 32,
   "metadata": {
    "colab": {
     "base_uri": "https://localhost:8080/"
    },
    "executionInfo": {
     "elapsed": 24140324,
     "status": "ok",
     "timestamp": 1618466698505,
     "user": {
      "displayName": "Pratik Pundlik Sayanekar",
      "photoUrl": "",
      "userId": "12868587701793367447"
     },
     "user_tz": -60
    },
    "id": "xRo5KFPqsBUM",
    "outputId": "a9cd946c-c46c-4d2b-90a1-2166a74cd11d"
   },
   "outputs": [
    {
     "name": "stdout",
     "output_type": "stream",
     "text": [
      "Model: \"sequential_1\"\n",
      "_________________________________________________________________\n",
      "Layer (type)                 Output Shape              Param #   \n",
      "=================================================================\n",
      "embedding_1 (Embedding)      (None, 122, 122)          19449972  \n",
      "_________________________________________________________________\n",
      "spatial_dropout1d_1 (Spatial (None, 122, 122)          0         \n",
      "_________________________________________________________________\n",
      "conv1d_1 (Conv1D)            (None, 122, 128)          62592     \n",
      "_________________________________________________________________\n",
      "conv1d_2 (Conv1D)            (None, 122, 128)          65664     \n",
      "_________________________________________________________________\n",
      "spatial_dropout1d_2 (Spatial (None, 122, 128)          0         \n",
      "_________________________________________________________________\n",
      "global_max_pooling1d_1 (Glob (None, 128)               0         \n",
      "_________________________________________________________________\n",
      "dense_1 (Dense)              (None, 64)                8256      \n",
      "_________________________________________________________________\n",
      "dense_2 (Dense)              (None, 3)                 195       \n",
      "=================================================================\n",
      "Total params: 19,586,679\n",
      "Trainable params: 19,586,679\n",
      "Non-trainable params: 0\n",
      "_________________________________________________________________\n"
     ]
    }
   ],
   "source": [
    "model = cnn.load_saved_model_v2()\n",
    "model.summary()"
   ]
  },
  {
   "cell_type": "code",
   "execution_count": 33,
   "metadata": {
    "colab": {
     "base_uri": "https://localhost:8080/"
    },
    "executionInfo": {
     "elapsed": 24184615,
     "status": "ok",
     "timestamp": 1618466742803,
     "user": {
      "displayName": "Pratik Pundlik Sayanekar",
      "photoUrl": "",
      "userId": "12868587701793367447"
     },
     "user_tz": -60
    },
    "id": "gc7emMNpsQ__",
    "outputId": "4ca3b2d7-4111-4a27-cbc7-e2385584219d"
   },
   "outputs": [
    {
     "name": "stdout",
     "output_type": "stream",
     "text": [
      "90/90 - 29s - loss: 0.2317 - acc: 0.8997\n",
      "The loss of this model: 0.23\n",
      "The accuracy of this model: 0.90\n"
     ]
    }
   ],
   "source": [
    "score, acc = model.evaluate(test_converted, target_converted_test, verbose = 2, batch_size = BATCH_SIZE)\n",
    "print(\"The loss of this model: %.2f\" % (score))\n",
    "print(\"The accuracy of this model: %.2f\" % (acc))"
   ]
  },
  {
   "cell_type": "code",
   "execution_count": 34,
   "metadata": {
    "executionInfo": {
     "elapsed": 24232581,
     "status": "ok",
     "timestamp": 1618466790771,
     "user": {
      "displayName": "Pratik Pundlik Sayanekar",
      "photoUrl": "",
      "userId": "12868587701793367447"
     },
     "user_tz": -60
    },
    "id": "SkL9F626sRAB"
   },
   "outputs": [],
   "source": [
    "y_pred = model.predict(test_converted)"
   ]
  },
  {
   "cell_type": "code",
   "execution_count": 35,
   "metadata": {
    "colab": {
     "base_uri": "https://localhost:8080/",
     "height": 459
    },
    "executionInfo": {
     "elapsed": 24233717,
     "status": "ok",
     "timestamp": 1618466791916,
     "user": {
      "displayName": "Pratik Pundlik Sayanekar",
      "photoUrl": "",
      "userId": "12868587701793367447"
     },
     "user_tz": -60
    },
    "id": "bWjpnfGPsRAB",
    "outputId": "0a3842f9-fbc2-446f-e95c-c1832caae31a"
   },
   "outputs": [
    {
     "name": "stdout",
     "output_type": "stream",
     "text": [
      "Confusion Matrix: \n",
      " [[54223  7806  2548]\n",
      " [ 5556 54257  1386]\n",
      " [  419   680 56440]]\n"
     ]
    },
    {
     "data": {
      "image/png": "[encoded data removed]",
      "text/plain": [
       "<Figure size 864x432 with 2 Axes>"
      ]
     },
     "metadata": {},
     "output_type": "display_data"
    }
   ],
   "source": [
    "test,pred = util.plot_confusion_matrix(y_pred, target_converted_test, 'CNN_v2')"
   ]
  },
  {
   "cell_type": "code",
   "execution_count": 36,
   "metadata": {
    "colab": {
     "base_uri": "https://localhost:8080/"
    },
    "executionInfo": {
     "elapsed": 24233711,
     "status": "ok",
     "timestamp": 1618466791918,
     "user": {
      "displayName": "Pratik Pundlik Sayanekar",
      "photoUrl": "",
      "userId": "12868587701793367447"
     },
     "user_tz": -60
    },
    "id": "5xcnVVUYsRAB",
    "outputId": "a25aa9df-3946-4f58-ab84-ee04f904f4b1"
   },
   "outputs": [
    {
     "name": "stdout",
     "output_type": "stream",
     "text": [
      "Classification Report:                precision    recall  f1-score   support\n",
      "\n",
      "           0       0.90      0.84      0.87     64577\n",
      "           1       0.86      0.89      0.88     61199\n",
      "           2       0.93      0.98      0.96     57539\n",
      "\n",
      "    accuracy                           0.90    183315\n",
      "   macro avg       0.90      0.90      0.90    183315\n",
      "weighted avg       0.90      0.90      0.90    183315\n",
      "\n"
     ]
    }
   ],
   "source": [
    "print(\"Classification Report: \", classification_report(test, pred))"
   ]
  },
  {
   "cell_type": "markdown",
   "metadata": {
    "id": "jeX4ONuCr0te"
   },
   "source": [
    "# **LSTM Model**"
   ]
  },
  {
   "cell_type": "code",
   "execution_count": 37,
   "metadata": {
    "colab": {
     "base_uri": "https://localhost:8080/"
    },
    "executionInfo": {
     "elapsed": 24233704,
     "status": "ok",
     "timestamp": 1618466791918,
     "user": {
      "displayName": "Pratik Pundlik Sayanekar",
      "photoUrl": "",
      "userId": "12868587701793367447"
     },
     "user_tz": -60
    },
    "id": "qtdsIMLMJLTo",
    "outputId": "04b62176-5b96-425e-84d2-0e17e97ed456"
   },
   "outputs": [],
   "source": [
    "# Below method is commented as now for embedding layer some weight matrix is also provided as input.\n",
    "\n",
    "# lstm = LSTM_Model()\n",
    "# model = lstm.create_model(embed_dim = 100, lstm_out = 64, \n",
    "#                           input_len = train_converted.shape[1], feature = 200000, \n",
    "#                           drop_out = 0.8)\n",
    "# model.summary()"
   ]
  },
  {
   "cell_type": "code",
   "execution_count": 38,
   "metadata": {},
   "outputs": [
    {
     "name": "stdout",
     "output_type": "stream",
     "text": [
      "LSTM Model Initialization...\n",
      "Model Created Successfully...\n",
      "Model: \"sequential_2\"\n",
      "_________________________________________________________________\n",
      "Layer (type)                 Output Shape              Param #   \n",
      "=================================================================\n",
      "embedding_2 (Embedding)      (None, 122, 122)          19449972  \n",
      "_________________________________________________________________\n",
      "spatial_dropout1d_3 (Spatial (None, 122, 122)          0         \n",
      "_________________________________________________________________\n",
      "lstm (LSTM)                  (None, 64)                47872     \n",
      "_________________________________________________________________\n",
      "dense_3 (Dense)              (None, 3)                 195       \n",
      "=================================================================\n",
      "Total params: 19,498,039\n",
      "Trainable params: 19,498,039\n",
      "Non-trainable params: 0\n",
      "_________________________________________________________________\n"
     ]
    }
   ],
   "source": [
    "lstm = LSTM_Model()\n",
    "model = lstm.create_model(embed_dim = max_len, lstm_out = 64, \n",
    "                          input_len = train_converted.shape[1], feature = vocab_length, \n",
    "                          drop_out = 0.5, embedding_matrix = embedding_matrix)\n",
    "model.summary()"
   ]
  },
  {
   "cell_type": "code",
   "execution_count": 39,
   "metadata": {
    "colab": {
     "base_uri": "https://localhost:8080/"
    },
    "id": "h_o_bHJemMGO",
    "outputId": "830ade26-0172-46f4-8796-f8956e88ed1e"
   },
   "outputs": [
    {
     "name": "stdout",
     "output_type": "stream",
     "text": [
      "Epoch 1/10\n",
      "287/287 [==============================] - 633s 2s/step - loss: 0.7177 - acc: 0.6748 - val_loss: 0.3133 - val_acc: 0.8716\n",
      "\n",
      "Epoch 00001: val_loss improved from inf to 0.31331, saving model to /Users/pratiksayanekar/Documents/DL_20200161/checkpoints/LSTM/\n",
      "INFO:tensorflow:Assets written to: /Users/pratiksayanekar/Documents/DL_20200161/checkpoints/LSTM/assets\n",
      "Epoch 2/10\n",
      "287/287 [==============================] - 640s 2s/step - loss: 0.3762 - acc: 0.8448 - val_loss: 0.2515 - val_acc: 0.8890\n",
      "\n",
      "Epoch 00002: val_loss improved from 0.31331 to 0.25149, saving model to /Users/pratiksayanekar/Documents/DL_20200161/checkpoints/LSTM/\n",
      "INFO:tensorflow:Assets written to: /Users/pratiksayanekar/Documents/DL_20200161/checkpoints/LSTM/assets\n",
      "Epoch 3/10\n",
      "287/287 [==============================] - 639s 2s/step - loss: 0.2919 - acc: 0.8760 - val_loss: 0.2373 - val_acc: 0.8958\n",
      "\n",
      "Epoch 00003: val_loss improved from 0.25149 to 0.23730, saving model to /Users/pratiksayanekar/Documents/DL_20200161/checkpoints/LSTM/\n",
      "INFO:tensorflow:Assets written to: /Users/pratiksayanekar/Documents/DL_20200161/checkpoints/LSTM/assets\n",
      "Epoch 4/10\n",
      "287/287 [==============================] - 662s 2s/step - loss: 0.2650 - acc: 0.8865 - val_loss: 0.2307 - val_acc: 0.8989\n",
      "\n",
      "Epoch 00004: val_loss improved from 0.23730 to 0.23065, saving model to /Users/pratiksayanekar/Documents/DL_20200161/checkpoints/LSTM/\n",
      "INFO:tensorflow:Assets written to: /Users/pratiksayanekar/Documents/DL_20200161/checkpoints/LSTM/assets\n",
      "Epoch 5/10\n",
      "287/287 [==============================] - 664s 2s/step - loss: 0.2485 - acc: 0.8947 - val_loss: 0.2252 - val_acc: 0.9017\n",
      "\n",
      "Epoch 00005: val_loss improved from 0.23065 to 0.22515, saving model to /Users/pratiksayanekar/Documents/DL_20200161/checkpoints/LSTM/\n",
      "INFO:tensorflow:Assets written to: /Users/pratiksayanekar/Documents/DL_20200161/checkpoints/LSTM/assets\n",
      "Epoch 6/10\n",
      "287/287 [==============================] - 581s 2s/step - loss: 0.2322 - acc: 0.9029 - val_loss: 0.2265 - val_acc: 0.8990\n",
      "\n",
      "Epoch 00006: val_loss did not improve from 0.22515\n",
      "Epoch 7/10\n",
      "287/287 [==============================] - 597s 2s/step - loss: 0.2183 - acc: 0.9091 - val_loss: 0.2234 - val_acc: 0.9024\n",
      "\n",
      "Epoch 00007: val_loss improved from 0.22515 to 0.22342, saving model to /Users/pratiksayanekar/Documents/DL_20200161/checkpoints/LSTM/\n",
      "INFO:tensorflow:Assets written to: /Users/pratiksayanekar/Documents/DL_20200161/checkpoints/LSTM/assets\n",
      "Epoch 8/10\n",
      "287/287 [==============================] - 653s 2s/step - loss: 0.2051 - acc: 0.9144 - val_loss: 0.2253 - val_acc: 0.9023\n",
      "\n",
      "Epoch 00008: val_loss did not improve from 0.22342\n",
      "Epoch 9/10\n",
      "287/287 [==============================] - 643s 2s/step - loss: 0.1943 - acc: 0.9185 - val_loss: 0.2287 - val_acc: 0.9012\n",
      "\n",
      "Epoch 00009: val_loss did not improve from 0.22342\n",
      "Epoch 10/10\n",
      "287/287 [==============================] - 597s 2s/step - loss: 0.1861 - acc: 0.9218 - val_loss: 0.2304 - val_acc: 0.9010\n",
      "\n",
      "Epoch 00010: val_loss did not improve from 0.22342\n"
     ]
    }
   ],
   "source": [
    "history = model.fit(train_converted, target_converted_train, epochs = EPOCH, \n",
    "                    batch_size= BATCH_SIZE, validation_split=0.2,\n",
    "                    callbacks=lstm.callbacks)"
   ]
  },
  {
   "cell_type": "code",
   "execution_count": 40,
   "metadata": {
    "id": "NbLq3sA-wc1Q"
   },
   "outputs": [
    {
     "data": {
      "image/png": "[encoded data removed]",
      "text/plain": [
       "<Figure size 1080x576 with 2 Axes>"
      ]
     },
     "metadata": {},
     "output_type": "display_data"
    }
   ],
   "source": [
    "util.plot_accuracy_loss(history, 'LSTM')"
   ]
  },
  {
   "cell_type": "markdown",
   "metadata": {
    "id": "lROmCZ7-DfI5"
   },
   "source": [
    "# **Evaluation**"
   ]
  },
  {
   "cell_type": "code",
   "execution_count": 41,
   "metadata": {
    "id": "L5udYJGy3sC9"
   },
   "outputs": [
    {
     "name": "stdout",
     "output_type": "stream",
     "text": [
      "Model: \"sequential_2\"\n",
      "_________________________________________________________________\n",
      "Layer (type)                 Output Shape              Param #   \n",
      "=================================================================\n",
      "embedding_2 (Embedding)      (None, 122, 122)          19449972  \n",
      "_________________________________________________________________\n",
      "spatial_dropout1d_3 (Spatial (None, 122, 122)          0         \n",
      "_________________________________________________________________\n",
      "lstm (LSTM)                  (None, 64)                47872     \n",
      "_________________________________________________________________\n",
      "dense_3 (Dense)              (None, 3)                 195       \n",
      "=================================================================\n",
      "Total params: 19,498,039\n",
      "Trainable params: 19,498,039\n",
      "Non-trainable params: 0\n",
      "_________________________________________________________________\n"
     ]
    }
   ],
   "source": [
    "model = lstm.load_saved_model()\n",
    "model.summary()"
   ]
  },
  {
   "cell_type": "code",
   "execution_count": 42,
   "metadata": {
    "id": "7jOGYHNf-uTy"
   },
   "outputs": [
    {
     "name": "stdout",
     "output_type": "stream",
     "text": [
      "90/90 - 36s - loss: 0.2256 - acc: 0.9021\n",
      "The loss of this model: 0.23\n",
      "The accuracy of this model: 0.90\n"
     ]
    }
   ],
   "source": [
    "score, acc = model.evaluate(test_converted, target_converted_test, verbose = 2, batch_size = BATCH_SIZE)\n",
    "print(\"The loss of this model: %.2f\" % (score))\n",
    "print(\"The accuracy of this model: %.2f\" % (acc))"
   ]
  },
  {
   "cell_type": "code",
   "execution_count": 43,
   "metadata": {
    "id": "xP5XoLfv5F-x"
   },
   "outputs": [],
   "source": [
    "y_pred = model.predict(test_converted)"
   ]
  },
  {
   "cell_type": "code",
   "execution_count": 44,
   "metadata": {
    "id": "ZaFfjVJu-IJa"
   },
   "outputs": [
    {
     "name": "stdout",
     "output_type": "stream",
     "text": [
      "Confusion Matrix: \n",
      " [[54249  7589  2351]\n",
      " [ 5525 54610  1513]\n",
      " [  424   544 56510]]\n"
     ]
    },
    {
     "data": {
      "image/png": "[encoded data removed]",
      "text/plain": [
       "<Figure size 864x432 with 2 Axes>"
      ]
     },
     "metadata": {},
     "output_type": "display_data"
    }
   ],
   "source": [
    "test, pred = util.plot_confusion_matrix(y_pred, target_converted_test, 'LSTM')"
   ]
  },
  {
   "cell_type": "code",
   "execution_count": 45,
   "metadata": {
    "id": "WHkQdn6295MF"
   },
   "outputs": [
    {
     "name": "stdout",
     "output_type": "stream",
     "text": [
      "Classification Report:                precision    recall  f1-score   support\n",
      "\n",
      "           0       0.90      0.85      0.87     64189\n",
      "           1       0.87      0.89      0.88     61648\n",
      "           2       0.94      0.98      0.96     57478\n",
      "\n",
      "    accuracy                           0.90    183315\n",
      "   macro avg       0.90      0.90      0.90    183315\n",
      "weighted avg       0.90      0.90      0.90    183315\n",
      "\n"
     ]
    }
   ],
   "source": [
    "print(\"Classification Report: \", classification_report(test, pred))"
   ]
  },
  {
   "cell_type": "markdown",
   "metadata": {
    "id": "xhgHasz59Sf4"
   },
   "source": [
    "# **LSTM_v2**"
   ]
  },
  {
   "cell_type": "code",
   "execution_count": 46,
   "metadata": {
    "id": "DsxYTS099QDi",
    "scrolled": true
   },
   "outputs": [],
   "source": [
    "# Below method is commented as now for embedding layer some weight matrix is also provided as input.\n",
    "\n",
    "# lstm = LSTM_Model()\n",
    "# model = lstm.create_model_v2(embed_dim = 100, lstm_out = 64, \n",
    "#                           input_len = train_converted.shape[1], feature = 200000, \n",
    "#                           drop_out = 0.8)\n",
    "# model.summary()"
   ]
  },
  {
   "cell_type": "code",
   "execution_count": 47,
   "metadata": {},
   "outputs": [
    {
     "name": "stdout",
     "output_type": "stream",
     "text": [
      "LSTM Model Initialization...\n",
      "Model Created Successfully...\n",
      "Model: \"sequential_3\"\n",
      "_________________________________________________________________\n",
      "Layer (type)                 Output Shape              Param #   \n",
      "=================================================================\n",
      "embedding_3 (Embedding)      (None, 122, 122)          19449972  \n",
      "_________________________________________________________________\n",
      "spatial_dropout1d_4 (Spatial (None, 122, 122)          0         \n",
      "_________________________________________________________________\n",
      "lstm_1 (LSTM)                (None, 122, 64)           47872     \n",
      "_________________________________________________________________\n",
      "spatial_dropout1d_5 (Spatial (None, 122, 64)           0         \n",
      "_________________________________________________________________\n",
      "lstm_2 (LSTM)                (None, 122, 64)           33024     \n",
      "_________________________________________________________________\n",
      "global_max_pooling1d_2 (Glob (None, 64)                0         \n",
      "_________________________________________________________________\n",
      "dense_4 (Dense)              (None, 64)                4160      \n",
      "_________________________________________________________________\n",
      "dense_5 (Dense)              (None, 3)                 195       \n",
      "=================================================================\n",
      "Total params: 19,535,223\n",
      "Trainable params: 19,535,223\n",
      "Non-trainable params: 0\n",
      "_________________________________________________________________\n"
     ]
    }
   ],
   "source": [
    "lstm = LSTM_Model()\n",
    "model = lstm.create_model_v2(embed_dim = max_len, lstm_out = 64, \n",
    "                          input_len = train_converted.shape[1], feature = vocab_length, \n",
    "                          drop_out = 0.5, embedding_matrix = embedding_matrix )\n",
    "model.summary()"
   ]
  },
  {
   "cell_type": "code",
   "execution_count": 48,
   "metadata": {
    "id": "1Vy9ybbX9QDw"
   },
   "outputs": [
    {
     "name": "stdout",
     "output_type": "stream",
     "text": [
      "Epoch 1/10\n",
      "287/287 [==============================] - 1726s 6s/step - loss: 0.8068 - acc: 0.6124 - val_loss: 0.2908 - val_acc: 0.8726\n",
      "\n",
      "Epoch 00001: val_loss improved from inf to 0.29076, saving model to /Users/pratiksayanekar/Documents/DL_20200161/checkpoints/LSTM_v2/\n",
      "INFO:tensorflow:Assets written to: /Users/pratiksayanekar/Documents/DL_20200161/checkpoints/LSTM_v2/assets\n",
      "Epoch 2/10\n",
      "287/287 [==============================] - 1314s 5s/step - loss: 0.3827 - acc: 0.8360 - val_loss: 0.2534 - val_acc: 0.8852\n",
      "\n",
      "Epoch 00002: val_loss improved from 0.29076 to 0.25342, saving model to /Users/pratiksayanekar/Documents/DL_20200161/checkpoints/LSTM_v2/\n",
      "INFO:tensorflow:Assets written to: /Users/pratiksayanekar/Documents/DL_20200161/checkpoints/LSTM_v2/assets\n",
      "Epoch 3/10\n",
      "287/287 [==============================] - 1366s 5s/step - loss: 0.3096 - acc: 0.8658 - val_loss: 0.2440 - val_acc: 0.8894\n",
      "\n",
      "Epoch 00003: val_loss improved from 0.25342 to 0.24401, saving model to /Users/pratiksayanekar/Documents/DL_20200161/checkpoints/LSTM_v2/\n",
      "INFO:tensorflow:Assets written to: /Users/pratiksayanekar/Documents/DL_20200161/checkpoints/LSTM_v2/assets\n",
      "Epoch 4/10\n",
      "287/287 [==============================] - 1269s 4s/step - loss: 0.2857 - acc: 0.8757 - val_loss: 0.2412 - val_acc: 0.8928\n",
      "\n",
      "Epoch 00004: val_loss improved from 0.24401 to 0.24117, saving model to /Users/pratiksayanekar/Documents/DL_20200161/checkpoints/LSTM_v2/\n",
      "INFO:tensorflow:Assets written to: /Users/pratiksayanekar/Documents/DL_20200161/checkpoints/LSTM_v2/assets\n",
      "Epoch 5/10\n",
      "287/287 [==============================] - 1249s 4s/step - loss: 0.2682 - acc: 0.8832 - val_loss: 0.2337 - val_acc: 0.8974\n",
      "\n",
      "Epoch 00005: val_loss improved from 0.24117 to 0.23366, saving model to /Users/pratiksayanekar/Documents/DL_20200161/checkpoints/LSTM_v2/\n",
      "INFO:tensorflow:Assets written to: /Users/pratiksayanekar/Documents/DL_20200161/checkpoints/LSTM_v2/assets\n",
      "Epoch 6/10\n",
      "287/287 [==============================] - 1493s 5s/step - loss: 0.2580 - acc: 0.8878 - val_loss: 0.2328 - val_acc: 0.8980\n",
      "\n",
      "Epoch 00006: val_loss improved from 0.23366 to 0.23283, saving model to /Users/pratiksayanekar/Documents/DL_20200161/checkpoints/LSTM_v2/\n",
      "INFO:tensorflow:Assets written to: /Users/pratiksayanekar/Documents/DL_20200161/checkpoints/LSTM_v2/assets\n",
      "Epoch 7/10\n",
      "287/287 [==============================] - 1462s 5s/step - loss: 0.2465 - acc: 0.8935 - val_loss: 0.2299 - val_acc: 0.8994\n",
      "\n",
      "Epoch 00007: val_loss improved from 0.23283 to 0.22989, saving model to /Users/pratiksayanekar/Documents/DL_20200161/checkpoints/LSTM_v2/\n",
      "INFO:tensorflow:Assets written to: /Users/pratiksayanekar/Documents/DL_20200161/checkpoints/LSTM_v2/assets\n",
      "Epoch 8/10\n",
      "287/287 [==============================] - 1468s 5s/step - loss: 0.2374 - acc: 0.8983 - val_loss: 0.2280 - val_acc: 0.9001\n",
      "\n",
      "Epoch 00008: val_loss improved from 0.22989 to 0.22797, saving model to /Users/pratiksayanekar/Documents/DL_20200161/checkpoints/LSTM_v2/\n",
      "INFO:tensorflow:Assets written to: /Users/pratiksayanekar/Documents/DL_20200161/checkpoints/LSTM_v2/assets\n",
      "Epoch 9/10\n",
      "287/287 [==============================] - 1514s 5s/step - loss: 0.2265 - acc: 0.9038 - val_loss: 0.2281 - val_acc: 0.9019\n",
      "\n",
      "Epoch 00009: val_loss did not improve from 0.22797\n",
      "Epoch 10/10\n",
      "287/287 [==============================] - 1519s 5s/step - loss: 0.2161 - acc: 0.9091 - val_loss: 0.2327 - val_acc: 0.8993\n",
      "\n",
      "Epoch 00010: val_loss did not improve from 0.22797\n"
     ]
    }
   ],
   "source": [
    "history = model.fit(train_converted, target_converted_train, epochs = EPOCH, \n",
    "                    batch_size= BATCH_SIZE, validation_split=0.2,\n",
    "                    callbacks=lstm.callbacks_v2)"
   ]
  },
  {
   "cell_type": "code",
   "execution_count": 49,
   "metadata": {
    "id": "bjjufKwC9QDx"
   },
   "outputs": [
    {
     "data": {
      "image/png": "[encoded data removed]",
      "text/plain": [
       "<Figure size 1080x576 with 2 Axes>"
      ]
     },
     "metadata": {},
     "output_type": "display_data"
    }
   ],
   "source": [
    "util.plot_accuracy_loss(history, 'LSTM_v2')"
   ]
  },
  {
   "cell_type": "markdown",
   "metadata": {
    "id": "mXanGrbP9QDy"
   },
   "source": [
    "# **Evaluation**"
   ]
  },
  {
   "cell_type": "code",
   "execution_count": 50,
   "metadata": {
    "id": "kq_WqUiv9QDy"
   },
   "outputs": [
    {
     "name": "stdout",
     "output_type": "stream",
     "text": [
      "Model: \"sequential_3\"\n",
      "_________________________________________________________________\n",
      "Layer (type)                 Output Shape              Param #   \n",
      "=================================================================\n",
      "embedding_3 (Embedding)      (None, 122, 122)          19449972  \n",
      "_________________________________________________________________\n",
      "spatial_dropout1d_4 (Spatial (None, 122, 122)          0         \n",
      "_________________________________________________________________\n",
      "lstm_1 (LSTM)                (None, 122, 64)           47872     \n",
      "_________________________________________________________________\n",
      "spatial_dropout1d_5 (Spatial (None, 122, 64)           0         \n",
      "_________________________________________________________________\n",
      "lstm_2 (LSTM)                (None, 122, 64)           33024     \n",
      "_________________________________________________________________\n",
      "global_max_pooling1d_2 (Glob (None, 64)                0         \n",
      "_________________________________________________________________\n",
      "dense_4 (Dense)              (None, 64)                4160      \n",
      "_________________________________________________________________\n",
      "dense_5 (Dense)              (None, 3)                 195       \n",
      "=================================================================\n",
      "Total params: 19,535,223\n",
      "Trainable params: 19,535,223\n",
      "Non-trainable params: 0\n",
      "_________________________________________________________________\n"
     ]
    }
   ],
   "source": [
    "model = lstm.load_saved_model_v2()\n",
    "model.summary()"
   ]
  },
  {
   "cell_type": "code",
   "execution_count": 51,
   "metadata": {
    "id": "l9tvfbI69QDy"
   },
   "outputs": [
    {
     "name": "stdout",
     "output_type": "stream",
     "text": [
      "90/90 - 61s - loss: 0.2316 - acc: 0.8992\n",
      "The loss of this model: 0.23\n",
      "The accuracy of this model: 0.90\n"
     ]
    }
   ],
   "source": [
    "score, acc = model.evaluate(test_converted, target_converted_test, verbose = 2, batch_size = BATCH_SIZE)\n",
    "print(\"The loss of this model: %.2f\" % (score))\n",
    "print(\"The accuracy of this model: %.2f\" % (acc))"
   ]
  },
  {
   "cell_type": "code",
   "execution_count": 52,
   "metadata": {
    "id": "Xj-IRUZt9QDy"
   },
   "outputs": [],
   "source": [
    "y_pred = model.predict(test_converted)"
   ]
  },
  {
   "cell_type": "code",
   "execution_count": 53,
   "metadata": {
    "id": "vzocGMug9QDz"
   },
   "outputs": [
    {
     "name": "stdout",
     "output_type": "stream",
     "text": [
      "Confusion Matrix: \n",
      " [[55586  9239  2809]\n",
      " [ 4094 52607   919]\n",
      " [  518   897 56646]]\n"
     ]
    },
    {
     "data": {
      "image/png": "[encoded data removed]",
      "text/plain": [
       "<Figure size 864x432 with 2 Axes>"
      ]
     },
     "metadata": {},
     "output_type": "display_data"
    }
   ],
   "source": [
    "test, pred = util.plot_confusion_matrix(y_pred, target_converted_test, 'LSTM_v2')"
   ]
  },
  {
   "cell_type": "code",
   "execution_count": 54,
   "metadata": {
    "id": "gexV8tUB9QDz"
   },
   "outputs": [
    {
     "name": "stdout",
     "output_type": "stream",
     "text": [
      "Classification Report:                precision    recall  f1-score   support\n",
      "\n",
      "           0       0.92      0.82      0.87     67634\n",
      "           1       0.84      0.91      0.87     57620\n",
      "           2       0.94      0.98      0.96     58061\n",
      "\n",
      "    accuracy                           0.90    183315\n",
      "   macro avg       0.90      0.90      0.90    183315\n",
      "weighted avg       0.90      0.90      0.90    183315\n",
      "\n"
     ]
    }
   ],
   "source": [
    "print(\"Classification Report: \", classification_report(test, pred))"
   ]
  },
  {
   "cell_type": "markdown",
   "metadata": {
    "id": "70X3KiMtw0-E"
   },
   "source": [
    "# **BiLSTM**"
   ]
  },
  {
   "cell_type": "code",
   "execution_count": 55,
   "metadata": {
    "id": "iuFYQwNfiqGI"
   },
   "outputs": [
    {
     "name": "stdout",
     "output_type": "stream",
     "text": [
      "BiLSTM Model Initialization...\n",
      "Model Created Successfully...\n",
      "Model: \"sequential_4\"\n",
      "_________________________________________________________________\n",
      "Layer (type)                 Output Shape              Param #   \n",
      "=================================================================\n",
      "embedding_4 (Embedding)      (None, 122, 122)          19449972  \n",
      "_________________________________________________________________\n",
      "bidirectional (Bidirectional (None, 122, 200)          178400    \n",
      "_________________________________________________________________\n",
      "bidirectional_1 (Bidirection (None, 122, 200)          240800    \n",
      "_________________________________________________________________\n",
      "conv1d_3 (Conv1D)            (None, 118, 100)          100100    \n",
      "_________________________________________________________________\n",
      "global_max_pooling1d_3 (Glob (None, 100)               0         \n",
      "_________________________________________________________________\n",
      "dense_6 (Dense)              (None, 16)                1616      \n",
      "_________________________________________________________________\n",
      "dense_7 (Dense)              (None, 3)                 51        \n",
      "=================================================================\n",
      "Total params: 19,970,939\n",
      "Trainable params: 19,970,939\n",
      "Non-trainable params: 0\n",
      "_________________________________________________________________\n"
     ]
    }
   ],
   "source": [
    "bi_lstm = BiLSTM_Model()\n",
    "model = bi_lstm.create_model(embed_dim = max_len, lstm_out = 100, input_len = train_converted.shape[1], \n",
    "                             feature = vocab_length, drop_out = 0.5, embedding_matrix = embedding_matrix)\n",
    "model.summary()"
   ]
  },
  {
   "cell_type": "code",
   "execution_count": 56,
   "metadata": {
    "id": "e_VNKixm0DqM",
    "scrolled": false
   },
   "outputs": [
    {
     "name": "stdout",
     "output_type": "stream",
     "text": [
      "Epoch 1/10\n",
      "287/287 [==============================] - 4232s 15s/step - loss: 0.4929 - acc: 0.7864 - val_loss: 0.2361 - val_acc: 0.8955\n"
     ]
    },
    {
     "name": "stderr",
     "output_type": "stream",
     "text": [
      "WARNING:absl:Found untraced functions such as lstm_cell_7_layer_call_fn, lstm_cell_7_layer_call_and_return_conditional_losses, lstm_cell_8_layer_call_fn, lstm_cell_8_layer_call_and_return_conditional_losses, lstm_cell_10_layer_call_fn while saving (showing 5 of 20). These functions will not be directly callable after loading.\n",
      "WARNING:absl:Found untraced functions such as lstm_cell_7_layer_call_fn, lstm_cell_7_layer_call_and_return_conditional_losses, lstm_cell_8_layer_call_fn, lstm_cell_8_layer_call_and_return_conditional_losses, lstm_cell_10_layer_call_fn while saving (showing 5 of 20). These functions will not be directly callable after loading.\n"
     ]
    },
    {
     "name": "stdout",
     "output_type": "stream",
     "text": [
      "INFO:tensorflow:Assets written to: /Users/pratiksayanekar/Documents/DL_20200161/checkpoints/BiLSTM/assets\n"
     ]
    },
    {
     "name": "stderr",
     "output_type": "stream",
     "text": [
      "INFO:tensorflow:Assets written to: /Users/pratiksayanekar/Documents/DL_20200161/checkpoints/BiLSTM/assets\n"
     ]
    },
    {
     "name": "stdout",
     "output_type": "stream",
     "text": [
      "Epoch 2/10\n",
      "287/287 [==============================] - 3708s 13s/step - loss: 0.2451 - acc: 0.8931 - val_loss: 0.2258 - val_acc: 0.9008\n"
     ]
    },
    {
     "name": "stderr",
     "output_type": "stream",
     "text": [
      "WARNING:absl:Found untraced functions such as lstm_cell_7_layer_call_fn, lstm_cell_7_layer_call_and_return_conditional_losses, lstm_cell_8_layer_call_fn, lstm_cell_8_layer_call_and_return_conditional_losses, lstm_cell_10_layer_call_fn while saving (showing 5 of 20). These functions will not be directly callable after loading.\n",
      "WARNING:absl:Found untraced functions such as lstm_cell_7_layer_call_fn, lstm_cell_7_layer_call_and_return_conditional_losses, lstm_cell_8_layer_call_fn, lstm_cell_8_layer_call_and_return_conditional_losses, lstm_cell_10_layer_call_fn while saving (showing 5 of 20). These functions will not be directly callable after loading.\n"
     ]
    },
    {
     "name": "stdout",
     "output_type": "stream",
     "text": [
      "INFO:tensorflow:Assets written to: /Users/pratiksayanekar/Documents/DL_20200161/checkpoints/BiLSTM/assets\n"
     ]
    },
    {
     "name": "stderr",
     "output_type": "stream",
     "text": [
      "INFO:tensorflow:Assets written to: /Users/pratiksayanekar/Documents/DL_20200161/checkpoints/BiLSTM/assets\n"
     ]
    },
    {
     "name": "stdout",
     "output_type": "stream",
     "text": [
      "Epoch 3/10\n",
      "287/287 [==============================] - 3822s 13s/step - loss: 0.2204 - acc: 0.9046 - val_loss: 0.2204 - val_acc: 0.9037\n"
     ]
    },
    {
     "name": "stderr",
     "output_type": "stream",
     "text": [
      "WARNING:absl:Found untraced functions such as lstm_cell_7_layer_call_fn, lstm_cell_7_layer_call_and_return_conditional_losses, lstm_cell_8_layer_call_fn, lstm_cell_8_layer_call_and_return_conditional_losses, lstm_cell_10_layer_call_fn while saving (showing 5 of 20). These functions will not be directly callable after loading.\n",
      "WARNING:absl:Found untraced functions such as lstm_cell_7_layer_call_fn, lstm_cell_7_layer_call_and_return_conditional_losses, lstm_cell_8_layer_call_fn, lstm_cell_8_layer_call_and_return_conditional_losses, lstm_cell_10_layer_call_fn while saving (showing 5 of 20). These functions will not be directly callable after loading.\n"
     ]
    },
    {
     "name": "stdout",
     "output_type": "stream",
     "text": [
      "INFO:tensorflow:Assets written to: /Users/pratiksayanekar/Documents/DL_20200161/checkpoints/BiLSTM/assets\n"
     ]
    },
    {
     "name": "stderr",
     "output_type": "stream",
     "text": [
      "INFO:tensorflow:Assets written to: /Users/pratiksayanekar/Documents/DL_20200161/checkpoints/BiLSTM/assets\n"
     ]
    },
    {
     "name": "stdout",
     "output_type": "stream",
     "text": [
      "Epoch 4/10\n",
      "287/287 [==============================] - 4579s 16s/step - loss: 0.1974 - acc: 0.9160 - val_loss: 0.2242 - val_acc: 0.9028\n",
      "Epoch 5/10\n",
      "287/287 [==============================] - 5066s 18s/step - loss: 0.1693 - acc: 0.9268 - val_loss: 0.2359 - val_acc: 0.9020\n",
      "Epoch 6/10\n",
      "287/287 [==============================] - 4494s 16s/step - loss: 0.1537 - acc: 0.9328 - val_loss: 0.2467 - val_acc: 0.9014\n",
      "Epoch 7/10\n",
      "287/287 [==============================] - 3787s 13s/step - loss: 0.1464 - acc: 0.9359 - val_loss: 0.2578 - val_acc: 0.9013\n",
      "Epoch 8/10\n",
      "287/287 [==============================] - 3527s 12s/step - loss: 0.1411 - acc: 0.9374 - val_loss: 0.2680 - val_acc: 0.9000\n"
     ]
    }
   ],
   "source": [
    "history = model.fit(train_converted, target_converted_train, batch_size=BATCH_SIZE, epochs=EPOCH,\n",
    "                    validation_split=0.2, callbacks=bi_lstm.callbacks)"
   ]
  },
  {
   "cell_type": "markdown",
   "metadata": {
    "id": "WDDfiF1m2Ghr"
   },
   "source": [
    "# **Evaluation**"
   ]
  },
  {
   "cell_type": "code",
   "execution_count": 57,
   "metadata": {
    "id": "_nwt8aYA2cqX"
   },
   "outputs": [
    {
     "name": "stdout",
     "output_type": "stream",
     "text": [
      "Model: \"sequential_4\"\n",
      "_________________________________________________________________\n",
      "Layer (type)                 Output Shape              Param #   \n",
      "=================================================================\n",
      "embedding_4 (Embedding)      (None, 122, 122)          19449972  \n",
      "_________________________________________________________________\n",
      "bidirectional (Bidirectional (None, 122, 200)          178400    \n",
      "_________________________________________________________________\n",
      "bidirectional_1 (Bidirection (None, 122, 200)          240800    \n",
      "_________________________________________________________________\n",
      "conv1d_3 (Conv1D)            (None, 118, 100)          100100    \n",
      "_________________________________________________________________\n",
      "global_max_pooling1d_3 (Glob (None, 100)               0         \n",
      "_________________________________________________________________\n",
      "dense_6 (Dense)              (None, 16)                1616      \n",
      "_________________________________________________________________\n",
      "dense_7 (Dense)              (None, 3)                 51        \n",
      "=================================================================\n",
      "Total params: 19,970,939\n",
      "Trainable params: 19,970,939\n",
      "Non-trainable params: 0\n",
      "_________________________________________________________________\n",
      "None\n"
     ]
    }
   ],
   "source": [
    "model = bi_lstm.load_saved_model()\n",
    "print(model.summary())"
   ]
  },
  {
   "cell_type": "code",
   "execution_count": 58,
   "metadata": {
    "id": "V6hePvUv8F77"
   },
   "outputs": [
    {
     "name": "stdout",
     "output_type": "stream",
     "text": [
      "90/90 - 224s - loss: 0.2240 - acc: 0.9027\n",
      "The loss of this model: 0.22\n",
      "The accuracy of this model: 0.90\n"
     ]
    }
   ],
   "source": [
    "score, acc = model.evaluate(test_converted, target_converted_test, verbose = 2, batch_size = BATCH_SIZE)\n",
    "print(\"The loss of this model: %.2f\" % (score))\n",
    "print(\"The accuracy of this model: %.2f\" % (acc))"
   ]
  },
  {
   "cell_type": "code",
   "execution_count": 59,
   "metadata": {
    "id": "WU8XVaL_2Ghs"
   },
   "outputs": [
    {
     "data": {
      "image/png": "[encoded data removed]",
      "text/plain": [
       "<Figure size 1080x576 with 2 Axes>"
      ]
     },
     "metadata": {},
     "output_type": "display_data"
    }
   ],
   "source": [
    "util.plot_accuracy_loss(history, 'BiLSTM')"
   ]
  },
  {
   "cell_type": "markdown",
   "metadata": {
    "id": "QCDslDeU2YyX"
   },
   "source": [
    "# **Prediction** "
   ]
  },
  {
   "cell_type": "code",
   "execution_count": 60,
   "metadata": {
    "id": "p0ESOLwC2YyY"
   },
   "outputs": [],
   "source": [
    "y_pred = model.predict(test_converted)"
   ]
  },
  {
   "cell_type": "code",
   "execution_count": 61,
   "metadata": {
    "id": "q5qmWSKY2YyZ"
   },
   "outputs": [
    {
     "name": "stdout",
     "output_type": "stream",
     "text": [
      "Confusion Matrix: \n",
      " [[55597  8812  2693]\n",
      " [ 4256 53430  1221]\n",
      " [  345   501 56460]]\n"
     ]
    },
    {
     "data": {
      "image/png": "[encoded data removed]",
      "text/plain": [
       "<Figure size 864x432 with 2 Axes>"
      ]
     },
     "metadata": {},
     "output_type": "display_data"
    }
   ],
   "source": [
    "test, pred = util.plot_confusion_matrix(y_pred, target_converted_test, 'BiLSTM')"
   ]
  },
  {
   "cell_type": "code",
   "execution_count": 62,
   "metadata": {
    "id": "7svgO38x2Yya"
   },
   "outputs": [
    {
     "name": "stdout",
     "output_type": "stream",
     "text": [
      "Classification Report:                precision    recall  f1-score   support\n",
      "\n",
      "           0       0.92      0.83      0.87     67102\n",
      "           1       0.85      0.91      0.88     58907\n",
      "           2       0.94      0.99      0.96     57306\n",
      "\n",
      "    accuracy                           0.90    183315\n",
      "   macro avg       0.90      0.91      0.90    183315\n",
      "weighted avg       0.90      0.90      0.90    183315\n",
      "\n"
     ]
    }
   ],
   "source": [
    "print(\"Classification Report: \", classification_report(test, pred))"
   ]
  }
 ],
 "metadata": {
  "accelerator": "GPU",
  "colab": {
   "authorship_tag": "ABX9TyMu9jkCBbp3LzKHr2ENmGGn",
   "collapsed_sections": [],
   "mount_file_id": "1sFa-J96f-q8Vl2x8CBoXoYbM4j7pczd9",
   "name": "Deep_Learning_models.ipynb",
   "provenance": []
  },
  "kernelspec": {
   "display_name": "Python 3",
   "language": "python",
   "name": "python3"
  },
  "language_info": {
   "codemirror_mode": {
    "name": "ipython",
    "version": 3
   },
   "file_extension": ".py",
   "mimetype": "text/x-python",
   "name": "python",
   "nbconvert_exporter": "python",
   "pygments_lexer": "ipython3",
   "version": "3.8.3"
  }
 },
 "nbformat": 4,
 "nbformat_minor": 1
}
