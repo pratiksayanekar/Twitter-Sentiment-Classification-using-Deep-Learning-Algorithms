{
 "cells": [
  {
   "cell_type": "code",
   "execution_count": 5,
   "metadata": {
    "id": "KdFoTLXsDESF"
   },
   "outputs": [],
   "source": [
    "! pip install -q scikit-plot"
   ]
  },
  {
   "cell_type": "markdown",
   "metadata": {
    "id": "hSvj9uTMxqr9"
   },
   "source": [
    "# **Import**"
   ]
  },
  {
   "cell_type": "code",
   "execution_count": 6,
   "metadata": {
    "id": "1WmEmhR_xjpa"
   },
   "outputs": [],
   "source": [
    "import pandas as pd\n",
    "pd.set_option('display.max_colwidth', None)\n",
    "import string"
   ]
  },
  {
   "cell_type": "code",
   "execution_count": 7,
   "metadata": {
    "id": "rg7gU6mg9Npu"
   },
   "outputs": [],
   "source": [
    "import sys\n",
    "#filePath = '/Users/pratiksayanekar/Documents/DL_20200161'\n",
    "filePath = '/content/drive/My Drive/DeepLearning'\n",
    "sys.path.append(filePath)"
   ]
  },
  {
   "cell_type": "code",
   "execution_count": 8,
   "metadata": {
    "id": "NMwa3-Yl4LoD"
   },
   "outputs": [],
   "source": [
    "from utils.basic_utilities import Utils\n",
    "from models.LSTM_1 import LSTM_Model\n",
    "from models.CNN_1 import CNN_Model\n",
    "from models.Word2Vec_1 import Word2VecModel\n",
    "from models.BiLSTM import BiLSTM_Model"
   ]
  },
  {
   "cell_type": "code",
   "execution_count": 9,
   "metadata": {
    "id": "fdPZR-STw0WL"
   },
   "outputs": [],
   "source": [
    "from sklearn.metrics import classification_report"
   ]
  },
  {
   "cell_type": "markdown",
   "metadata": {
    "id": "qE2K-FxWxvhc"
   },
   "source": [
    "# **Reading Preprocessed Data**"
   ]
  },
  {
   "cell_type": "code",
   "execution_count": 10,
   "metadata": {
    "colab": {
     "base_uri": "https://localhost:8080/",
     "height": 340
    },
    "id": "VJTB3726xu68",
    "outputId": "49e4ef62-8c7d-4b56-a730-ee531fca16c2"
   },
   "outputs": [
    {
     "data": {
      "text/html": [
       "<div>\n",
       "<style scoped>\n",
       "    .dataframe tbody tr th:only-of-type {\n",
       "        vertical-align: middle;\n",
       "    }\n",
       "\n",
       "    .dataframe tbody tr th {\n",
       "        vertical-align: top;\n",
       "    }\n",
       "\n",
       "    .dataframe thead th {\n",
       "        text-align: right;\n",
       "    }\n",
       "</style>\n",
       "<table border=\"1\" class=\"dataframe\">\n",
       "  <thead>\n",
       "    <tr style=\"text-align: right;\">\n",
       "      <th></th>\n",
       "      <th>emotion</th>\n",
       "      <th>content</th>\n",
       "      <th>original_content</th>\n",
       "      <th>text</th>\n",
       "    </tr>\n",
       "  </thead>\n",
       "  <tbody>\n",
       "    <tr>\n",
       "      <th>0</th>\n",
       "      <td>disappointed</td>\n",
       "      <td>oh fuck did i wrote fil grinningfacewithsweat nsorry spot disappointedface</td>\n",
       "      <td>b'RT @Davbingodav: @mcrackins Oh fuck.... did I wrote Fil ??? :grinning_face_with_sweat:\\nSorry Spot. :disappointed_face:'</td>\n",
       "      <td>rt oh fuck wrote fil grinning_face_with_sweatnsorry spot isappointed_face</td>\n",
       "    </tr>\n",
       "    <tr>\n",
       "      <th>1</th>\n",
       "      <td>disappointed</td>\n",
       "      <td>i feel nor am i shamed by it</td>\n",
       "      <td>i feel nor am i shamed by it</td>\n",
       "      <td>feel shamed</td>\n",
       "    </tr>\n",
       "    <tr>\n",
       "      <th>2</th>\n",
       "      <td>disappointed</td>\n",
       "      <td>i had been feeling a little bit defeated by the step of faith we would need to take to try to resolve our problem</td>\n",
       "      <td>i had been feeling a little bit defeated by the steps of faith we would need to take to try to resolve our problem</td>\n",
       "      <td>feeling little bit defeated steps faith need try resolve problem</td>\n",
       "    </tr>\n",
       "    <tr>\n",
       "      <th>3</th>\n",
       "      <td>happy</td>\n",
       "      <td>imagine if that reaction guy that called jj kfc saw this my man would ve started cry lmao</td>\n",
       "      <td>b\"@KSIOlajidebt imagine if that reaction guy that called JJ KFC saw this. my man would've started crying lmao \"</td>\n",
       "      <td>imagine reaction guy called jj kfc saw man ve started crying lmao</td>\n",
       "    </tr>\n",
       "    <tr>\n",
       "      <th>4</th>\n",
       "      <td>disappointed</td>\n",
       "      <td>i wouldnt feel burdened so that i would live my life a a testament to his sacrifice that wa out of a love so pure and innocent yet so great and mighty</td>\n",
       "      <td>i wouldnt feel burdened so that i would live my life as a testament to his sacrifice that was out of a love so pure and innocent yet so great and mighty</td>\n",
       "      <td>wouldnt feel burdened live life testament sacrifice love pure innocent great mighty</td>\n",
       "    </tr>\n",
       "  </tbody>\n",
       "</table>\n",
       "</div>"
      ],
      "text/plain": [
       "        emotion  ...                                                                                 text\n",
       "0  disappointed  ...            rt oh fuck wrote fil grinning_face_with_sweatnsorry spot isappointed_face\n",
       "1  disappointed  ...                                                                          feel shamed\n",
       "2  disappointed  ...                     feeling little bit defeated steps faith need try resolve problem\n",
       "3         happy  ...                    imagine reaction guy called jj kfc saw man ve started crying lmao\n",
       "4  disappointed  ...  wouldnt feel burdened live life testament sacrifice love pure innocent great mighty\n",
       "\n",
       "[5 rows x 4 columns]"
      ]
     },
     "execution_count": 10,
     "metadata": {
      "tags": []
     },
     "output_type": "execute_result"
    }
   ],
   "source": [
    "df = pd.read_csv('{}/Data/preprocessed_data.csv'.format(filePath))\n",
    "df.head()"
   ]
  },
  {
   "cell_type": "code",
   "execution_count": 11,
   "metadata": {
    "id": "enPDPec5I2Zu"
   },
   "outputs": [],
   "source": [
    "df.text = df.text.astype(str)"
   ]
  },
  {
   "cell_type": "markdown",
   "metadata": {
    "id": "2tpmE6zCpZ2i"
   },
   "source": [
    "# **Splitting dataset into train(80%) and test(20%)**"
   ]
  },
  {
   "cell_type": "code",
   "execution_count": 12,
   "metadata": {
    "colab": {
     "base_uri": "https://localhost:8080/"
    },
    "id": "rmbqBr4vwK5_",
    "outputId": "040e2779-d329-4125-de1d-6f4c57a5cb39"
   },
   "outputs": [
    {
     "name": "stdout",
     "output_type": "stream",
     "text": [
      "Initialization of Utilities...\n",
      "The shape of train data:  (733260,)\n",
      "The shape of train target:  (733260,)\n",
      "The shape of test data:  (183315,)\n",
      "The shape of test target:  (183315,)\n"
     ]
    }
   ],
   "source": [
    "util = Utils()\n",
    "X_train, X_test, y_train, y_test = util.split_data(df)\n",
    "print(\"The shape of train data: \",X_train.shape)\n",
    "print(\"The shape of train target: \",y_train.shape)\n",
    "print(\"The shape of test data: \",X_test.shape)\n",
    "print(\"The shape of test target: \",y_test.shape)"
   ]
  },
  {
   "cell_type": "markdown",
   "metadata": {
    "id": "n5Sqp20Spudj"
   },
   "source": [
    "# **Tokenization and Padding of each tweet**"
   ]
  },
  {
   "cell_type": "code",
   "execution_count": 13,
   "metadata": {
    "colab": {
     "base_uri": "https://localhost:8080/"
    },
    "id": "YwI5tOD9JcEV",
    "outputId": "68e12930-f294-4c8e-9e9c-99cd87cf04dc"
   },
   "outputs": [
    {
     "name": "stdout",
     "output_type": "stream",
     "text": [
      "Maximum length of tweet: 122\n"
     ]
    }
   ],
   "source": [
    "max_len = util.max_len(df)\n",
    "print(\"Maximum length of tweet:\", max_len)"
   ]
  },
  {
   "cell_type": "code",
   "execution_count": 14,
   "metadata": {
    "colab": {
     "base_uri": "https://localhost:8080/"
    },
    "id": "ASGy-Q_rFjUL",
    "outputId": "5a6eadbc-659f-4999-a1ae-2b9f3eb03fbe"
   },
   "outputs": [
    {
     "name": "stdout",
     "output_type": "stream",
     "text": [
      "After Tokenization and Padding...\n",
      "The shape of train data:  (733260, 122)\n",
      "The shape of test data:  (183315, 122)\n"
     ]
    }
   ],
   "source": [
    "train_converted, test_converted = util.tokenization_padding(X_train, X_test, max_len)\n",
    "print(\"After Tokenization and Padding...\")\n",
    "print(\"The shape of train data: \", train_converted.shape)\n",
    "print(\"The shape of test data: \", test_converted.shape)"
   ]
  },
  {
   "cell_type": "code",
   "execution_count": 15,
   "metadata": {
    "colab": {
     "base_uri": "https://localhost:8080/"
    },
    "id": "f-xgFoO7vwzd",
    "outputId": "8d3e2c97-9ab8-4eaf-f117-2a8304be1fed"
   },
   "outputs": [
    {
     "name": "stdout",
     "output_type": "stream",
     "text": [
      "After one hot encoding of target variable...\n",
      "The shape of train target:  (733260, 3)\n",
      "The shape of test target:  (183315, 3)\n"
     ]
    }
   ],
   "source": [
    "target_converted_train, target_converted_test = util.one_hot_target_variable(y_train, y_test)\n",
    "print(\"After one hot encoding of target variable...\")\n",
    "print(\"The shape of train target: \", target_converted_train.shape)\n",
    "print(\"The shape of test target: \", target_converted_test.shape)"
   ]
  },
  {
   "cell_type": "markdown",
   "metadata": {
    "id": "7yz5IFdw3B3R"
   },
   "source": [
    "# **Deep Learning Models**"
   ]
  },
  {
   "cell_type": "code",
   "execution_count": 16,
   "metadata": {
    "id": "KYmEV5EL3BS3"
   },
   "outputs": [],
   "source": [
    "EPOCH = 30\n",
    "BATCH_SIZE = 512"
   ]
  },
  {
   "cell_type": "markdown",
   "metadata": {
    "id": "M81GzKxtFqFI"
   },
   "source": [
    "# **CNN Model**"
   ]
  },
  {
   "cell_type": "code",
   "execution_count": 17,
   "metadata": {
    "colab": {
     "base_uri": "https://localhost:8080/"
    },
    "id": "Op2cjQkaHM8p",
    "outputId": "7f722a94-a9ae-456e-d9cb-6ad5a73683d3"
   },
   "outputs": [
    {
     "name": "stdout",
     "output_type": "stream",
     "text": [
      "CNN Model Initialization...\n",
      "Model Created Successfully...\n",
      "Model: \"sequential\"\n",
      "_________________________________________________________________\n",
      "Layer (type)                 Output Shape              Param #   \n",
      "=================================================================\n",
      "embedding (Embedding)        (None, 122, 100)          20000000  \n",
      "_________________________________________________________________\n",
      "spatial_dropout1d (SpatialDr (None, 122, 100)          0         \n",
      "_________________________________________________________________\n",
      "conv1d (Conv1D)              (None, 119, 128)          51328     \n",
      "_________________________________________________________________\n",
      "global_max_pooling1d (Global (None, 128)               0         \n",
      "_________________________________________________________________\n",
      "dense (Dense)                (None, 3)                 387       \n",
      "=================================================================\n",
      "Total params: 20,051,715\n",
      "Trainable params: 20,051,715\n",
      "Non-trainable params: 0\n",
      "_________________________________________________________________\n"
     ]
    }
   ],
   "source": [
    "cnn = CNN_Model()\n",
    "model = cnn.create_model(embed_dim = 100, num_filters = 128, \n",
    "                          input_len = train_converted.shape[1], feature = 200000, \n",
    "                          drop_out = 0.7, num_words=4)\n",
    "model.summary()"
   ]
  },
  {
   "cell_type": "code",
   "execution_count": 18,
   "metadata": {
    "colab": {
     "base_uri": "https://localhost:8080/"
    },
    "id": "3e32dCWnHyiL",
    "outputId": "91885269-2010-4935-dc13-f4434e7957a7"
   },
   "outputs": [
    {
     "name": "stdout",
     "output_type": "stream",
     "text": [
      "Epoch 1/30\n",
      "1146/1146 [==============================] - 251s 192ms/step - loss: 0.4474 - acc: 0.8022 - val_loss: 0.2376 - val_acc: 0.8965\n",
      "\n",
      "Epoch 00001: val_loss improved from inf to 0.23755, saving model to /content/drive/My Drive/DeepLearning/checkpoints/CNN/\n",
      "INFO:tensorflow:Assets written to: /content/drive/My Drive/DeepLearning/checkpoints/CNN/assets\n",
      "Epoch 2/30\n",
      "1146/1146 [==============================] - 221s 193ms/step - loss: 0.2334 - acc: 0.9030 - val_loss: 0.2300 - val_acc: 0.9004\n",
      "\n",
      "Epoch 00002: val_loss improved from 0.23755 to 0.22998, saving model to /content/drive/My Drive/DeepLearning/checkpoints/CNN/\n",
      "INFO:tensorflow:Assets written to: /content/drive/My Drive/DeepLearning/checkpoints/CNN/assets\n",
      "Epoch 3/30\n",
      "1146/1146 [==============================] - 220s 192ms/step - loss: 0.2110 - acc: 0.9132 - val_loss: 0.2283 - val_acc: 0.9005\n",
      "\n",
      "Epoch 00003: val_loss improved from 0.22998 to 0.22834, saving model to /content/drive/My Drive/DeepLearning/checkpoints/CNN/\n",
      "INFO:tensorflow:Assets written to: /content/drive/My Drive/DeepLearning/checkpoints/CNN/assets\n",
      "Epoch 4/30\n",
      "1146/1146 [==============================] - 220s 192ms/step - loss: 0.1961 - acc: 0.9203 - val_loss: 0.2303 - val_acc: 0.9010\n",
      "\n",
      "Epoch 00004: val_loss did not improve from 0.22834\n",
      "Epoch 5/30\n",
      "1146/1146 [==============================] - 219s 191ms/step - loss: 0.1833 - acc: 0.9257 - val_loss: 0.2321 - val_acc: 0.9002\n",
      "\n",
      "Epoch 00005: val_loss did not improve from 0.22834\n",
      "Epoch 6/30\n",
      "1146/1146 [==============================] - 219s 191ms/step - loss: 0.1736 - acc: 0.9289 - val_loss: 0.2355 - val_acc: 0.9004\n",
      "\n",
      "Epoch 00006: val_loss did not improve from 0.22834\n",
      "Epoch 7/30\n",
      "1146/1146 [==============================] - 219s 191ms/step - loss: 0.1663 - acc: 0.9322 - val_loss: 0.2380 - val_acc: 0.8999\n",
      "\n",
      "Epoch 00007: val_loss did not improve from 0.22834\n",
      "Epoch 8/30\n",
      "1146/1146 [==============================] - 219s 191ms/step - loss: 0.1591 - acc: 0.9347 - val_loss: 0.2411 - val_acc: 0.8990\n",
      "\n",
      "Epoch 00008: val_loss did not improve from 0.22834\n"
     ]
    }
   ],
   "source": [
    "history = model.fit(train_converted, target_converted_train, epochs = EPOCH, \n",
    "                    batch_size=BATCH_SIZE, validation_split=0.2,\n",
    "                    callbacks=cnn.callbacks)"
   ]
  },
  {
   "cell_type": "code",
   "execution_count": 19,
   "metadata": {
    "colab": {
     "base_uri": "https://localhost:8080/",
     "height": 517
    },
    "id": "q2StIg9PIP2a",
    "outputId": "69125d40-d3be-4d81-eaea-6e948631d399"
   },
   "outputs": [
    {
     "data": {
      "image/png": "[encoded data removed]",
      "text/plain": [
       "<Figure size 1080x576 with 2 Axes>"
      ]
     },
     "metadata": {
      "tags": []
     },
     "output_type": "display_data"
    }
   ],
   "source": [
    "util.plot_accuracy_loss(history, 'CNN')"
   ]
  },
  {
   "cell_type": "markdown",
   "metadata": {
    "id": "CVxZwJc6IP2Z"
   },
   "source": [
    "# **Evaluation**"
   ]
  },
  {
   "cell_type": "code",
   "execution_count": 20,
   "metadata": {
    "colab": {
     "base_uri": "https://localhost:8080/"
    },
    "id": "_kAjaJGf4Amw",
    "outputId": "cd275ec8-b19f-4948-f5b3-383eb05fd796"
   },
   "outputs": [
    {
     "name": "stdout",
     "output_type": "stream",
     "text": [
      "Model: \"sequential\"\n",
      "_________________________________________________________________\n",
      "Layer (type)                 Output Shape              Param #   \n",
      "=================================================================\n",
      "embedding (Embedding)        (None, 122, 100)          20000000  \n",
      "_________________________________________________________________\n",
      "spatial_dropout1d (SpatialDr (None, 122, 100)          0         \n",
      "_________________________________________________________________\n",
      "conv1d (Conv1D)              (None, 119, 128)          51328     \n",
      "_________________________________________________________________\n",
      "global_max_pooling1d (Global (None, 128)               0         \n",
      "_________________________________________________________________\n",
      "dense (Dense)                (None, 3)                 387       \n",
      "=================================================================\n",
      "Total params: 20,051,715\n",
      "Trainable params: 20,051,715\n",
      "Non-trainable params: 0\n",
      "_________________________________________________________________\n"
     ]
    }
   ],
   "source": [
    "model = cnn.load_saved_model()\n",
    "model.summary()"
   ]
  },
  {
   "cell_type": "code",
   "execution_count": 21,
   "metadata": {
    "colab": {
     "base_uri": "https://localhost:8080/"
    },
    "id": "QEmqzr9q-1uk",
    "outputId": "fe15df63-b603-4b7f-c4ca-dfb05e4b5541"
   },
   "outputs": [
    {
     "name": "stdout",
     "output_type": "stream",
     "text": [
      "359/359 - 3s - loss: 0.2307 - acc: 0.8997\n",
      "The loss of this model: 0.23\n",
      "The accuracy of this model: 0.90\n"
     ]
    }
   ],
   "source": [
    "score, acc = model.evaluate(test_converted, target_converted_test, verbose = 2, batch_size = BATCH_SIZE)\n",
    "print(\"The loss of this model: %.2f\" % (score))\n",
    "print(\"The accuracy of this model: %.2f\" % (acc))"
   ]
  },
  {
   "cell_type": "code",
   "execution_count": 22,
   "metadata": {
    "id": "lAfloiyAIP2b"
   },
   "outputs": [],
   "source": [
    "y_pred = model.predict(test_converted)"
   ]
  },
  {
   "cell_type": "code",
   "execution_count": 23,
   "metadata": {
    "colab": {
     "base_uri": "https://localhost:8080/",
     "height": 459
    },
    "id": "GYn-D1DmIP2b",
    "outputId": "9e80970b-ec61-44b1-d2ff-b32c12475551"
   },
   "outputs": [
    {
     "name": "stdout",
     "output_type": "stream",
     "text": [
      "Confusion Matrix: \n",
      " [[53819  7486  2342]\n",
      " [ 5886 54596  1519]\n",
      " [  493   661 56513]]\n"
     ]
    },
    {
     "data": {
      "image/png": "[encoded data removed]",
      "text/plain": [
       "<Figure size 864x432 with 2 Axes>"
      ]
     },
     "metadata": {
      "tags": []
     },
     "output_type": "display_data"
    }
   ],
   "source": [
    "test,pred = util.plot_confusion_matrix(y_pred, target_converted_test, 'CNN')"
   ]
  },
  {
   "cell_type": "code",
   "execution_count": 24,
   "metadata": {
    "colab": {
     "base_uri": "https://localhost:8080/"
    },
    "id": "7qVr0JGRIP2c",
    "outputId": "99273094-0b93-4548-ce4c-1fe7f4873690"
   },
   "outputs": [
    {
     "name": "stdout",
     "output_type": "stream",
     "text": [
      "Classification Report: \n",
      "               precision    recall  f1-score   support\n",
      "\n",
      "           0       0.89      0.85      0.87     63647\n",
      "           1       0.87      0.88      0.88     62001\n",
      "           2       0.94      0.98      0.96     57667\n",
      "\n",
      "    accuracy                           0.90    183315\n",
      "   macro avg       0.90      0.90      0.90    183315\n",
      "weighted avg       0.90      0.90      0.90    183315\n",
      "\n"
     ]
    }
   ],
   "source": [
    "print(\"Classification Report: \\n\", classification_report(test, pred))"
   ]
  },
  {
   "cell_type": "markdown",
   "metadata": {
    "id": "d_FML8qirR1Y"
   },
   "source": [
    "# **CNN_v2**"
   ]
  },
  {
   "cell_type": "code",
   "execution_count": 25,
   "metadata": {
    "colab": {
     "base_uri": "https://localhost:8080/"
    },
    "id": "OUhvdEdSrP_W",
    "outputId": "ff5f9bf6-5fde-4706-88c1-b542cf506e7a"
   },
   "outputs": [
    {
     "name": "stdout",
     "output_type": "stream",
     "text": [
      "CNN Model Initialization...\n",
      "Model Created Successfully...\n",
      "Model: \"sequential_1\"\n",
      "_________________________________________________________________\n",
      "Layer (type)                 Output Shape              Param #   \n",
      "=================================================================\n",
      "embedding_1 (Embedding)      (None, 122, 100)          20000000  \n",
      "_________________________________________________________________\n",
      "spatial_dropout1d_1 (Spatial (None, 122, 100)          0         \n",
      "_________________________________________________________________\n",
      "conv1d_1 (Conv1D)            (None, 122, 128)          51328     \n",
      "_________________________________________________________________\n",
      "conv1d_2 (Conv1D)            (None, 122, 128)          65664     \n",
      "_________________________________________________________________\n",
      "spatial_dropout1d_2 (Spatial (None, 122, 128)          0         \n",
      "_________________________________________________________________\n",
      "global_max_pooling1d_1 (Glob (None, 128)               0         \n",
      "_________________________________________________________________\n",
      "dense_1 (Dense)              (None, 64)                8256      \n",
      "_________________________________________________________________\n",
      "dense_2 (Dense)              (None, 3)                 195       \n",
      "=================================================================\n",
      "Total params: 20,125,443\n",
      "Trainable params: 20,125,443\n",
      "Non-trainable params: 0\n",
      "_________________________________________________________________\n"
     ]
    }
   ],
   "source": [
    "cnn = CNN_Model()\n",
    "model = cnn.create_model_v2(embed_dim = 100, num_filters = 128, \n",
    "                          input_len = train_converted.shape[1], feature = 200000, \n",
    "                          drop_out = 0.7, num_words=4)\n",
    "model.summary()"
   ]
  },
  {
   "cell_type": "code",
   "execution_count": 26,
   "metadata": {
    "colab": {
     "base_uri": "https://localhost:8080/"
    },
    "id": "p5cIHTdIrzue",
    "outputId": "a6867efe-9560-49ef-80df-660141ab7d0b"
   },
   "outputs": [
    {
     "name": "stdout",
     "output_type": "stream",
     "text": [
      "Epoch 1/30\n",
      "1146/1146 [==============================] - 229s 199ms/step - loss: 0.4713 - acc: 0.7774 - val_loss: 0.2346 - val_acc: 0.8959\n",
      "\n",
      "Epoch 00001: val_loss improved from inf to 0.23460, saving model to /content/drive/My Drive/DeepLearning/checkpoints/CNN_v2/\n",
      "INFO:tensorflow:Assets written to: /content/drive/My Drive/DeepLearning/checkpoints/CNN_v2/assets\n",
      "Epoch 2/30\n",
      "1146/1146 [==============================] - 229s 200ms/step - loss: 0.2411 - acc: 0.8977 - val_loss: 0.2273 - val_acc: 0.9008\n",
      "\n",
      "Epoch 00002: val_loss improved from 0.23460 to 0.22730, saving model to /content/drive/My Drive/DeepLearning/checkpoints/CNN_v2/\n",
      "INFO:tensorflow:Assets written to: /content/drive/My Drive/DeepLearning/checkpoints/CNN_v2/assets\n",
      "Epoch 3/30\n",
      "1146/1146 [==============================] - 231s 201ms/step - loss: 0.2186 - acc: 0.9083 - val_loss: 0.2260 - val_acc: 0.9015\n",
      "\n",
      "Epoch 00003: val_loss improved from 0.22730 to 0.22603, saving model to /content/drive/My Drive/DeepLearning/checkpoints/CNN_v2/\n",
      "INFO:tensorflow:Assets written to: /content/drive/My Drive/DeepLearning/checkpoints/CNN_v2/assets\n",
      "Epoch 4/30\n",
      "1146/1146 [==============================] - 232s 202ms/step - loss: 0.2043 - acc: 0.9147 - val_loss: 0.2291 - val_acc: 0.9010\n",
      "\n",
      "Epoch 00004: val_loss did not improve from 0.22603\n",
      "Epoch 5/30\n",
      "1146/1146 [==============================] - 235s 205ms/step - loss: 0.1943 - acc: 0.9188 - val_loss: 0.2296 - val_acc: 0.9007\n",
      "\n",
      "Epoch 00005: val_loss did not improve from 0.22603\n",
      "Epoch 6/30\n",
      "1146/1146 [==============================] - 234s 204ms/step - loss: 0.1866 - acc: 0.9222 - val_loss: 0.2331 - val_acc: 0.9007\n",
      "\n",
      "Epoch 00006: val_loss did not improve from 0.22603\n",
      "Epoch 7/30\n",
      "1146/1146 [==============================] - 234s 204ms/step - loss: 0.1819 - acc: 0.9240 - val_loss: 0.2331 - val_acc: 0.9007\n",
      "\n",
      "Epoch 00007: val_loss did not improve from 0.22603\n",
      "Epoch 8/30\n",
      "1146/1146 [==============================] - 233s 203ms/step - loss: 0.1761 - acc: 0.9261 - val_loss: 0.2351 - val_acc: 0.8997\n",
      "\n",
      "Epoch 00008: val_loss did not improve from 0.22603\n"
     ]
    }
   ],
   "source": [
    "history = model.fit(train_converted, target_converted_train, epochs = EPOCH, \n",
    "                    batch_size=BATCH_SIZE, validation_split=0.2,\n",
    "                    callbacks=cnn.callbacks_v2)"
   ]
  },
  {
   "cell_type": "code",
   "execution_count": 27,
   "metadata": {
    "colab": {
     "base_uri": "https://localhost:8080/",
     "height": 517
    },
    "id": "X4_T_vIgr_0V",
    "outputId": "4e9b37dd-1165-415c-c0d6-4f2ade31f1f5"
   },
   "outputs": [
    {
     "data": {
      "image/png": "[encoded data removed]",
      "text/plain": [
       "<Figure size 1080x576 with 2 Axes>"
      ]
     },
     "metadata": {
      "tags": []
     },
     "output_type": "display_data"
    }
   ],
   "source": [
    "util.plot_accuracy_loss(history, 'CNN_v2')"
   ]
  },
  {
   "cell_type": "markdown",
   "metadata": {
    "id": "DPimGiSh9Zfs"
   },
   "source": [
    "# **Evaluation**"
   ]
  },
  {
   "cell_type": "code",
   "execution_count": 28,
   "metadata": {
    "colab": {
     "base_uri": "https://localhost:8080/"
    },
    "id": "xRo5KFPqsBUM",
    "outputId": "2de9078d-2449-4b3b-b5ca-cfb0ee43ca37"
   },
   "outputs": [
    {
     "name": "stdout",
     "output_type": "stream",
     "text": [
      "Model: \"sequential_1\"\n",
      "_________________________________________________________________\n",
      "Layer (type)                 Output Shape              Param #   \n",
      "=================================================================\n",
      "embedding_1 (Embedding)      (None, 122, 100)          20000000  \n",
      "_________________________________________________________________\n",
      "spatial_dropout1d_1 (Spatial (None, 122, 100)          0         \n",
      "_________________________________________________________________\n",
      "conv1d_1 (Conv1D)            (None, 122, 128)          51328     \n",
      "_________________________________________________________________\n",
      "conv1d_2 (Conv1D)            (None, 122, 128)          65664     \n",
      "_________________________________________________________________\n",
      "spatial_dropout1d_2 (Spatial (None, 122, 128)          0         \n",
      "_________________________________________________________________\n",
      "global_max_pooling1d_1 (Glob (None, 128)               0         \n",
      "_________________________________________________________________\n",
      "dense_1 (Dense)              (None, 64)                8256      \n",
      "_________________________________________________________________\n",
      "dense_2 (Dense)              (None, 3)                 195       \n",
      "=================================================================\n",
      "Total params: 20,125,443\n",
      "Trainable params: 20,125,443\n",
      "Non-trainable params: 0\n",
      "_________________________________________________________________\n"
     ]
    }
   ],
   "source": [
    "model = cnn.load_saved_model_v2()\n",
    "model.summary()"
   ]
  },
  {
   "cell_type": "code",
   "execution_count": 29,
   "metadata": {
    "colab": {
     "base_uri": "https://localhost:8080/"
    },
    "id": "gc7emMNpsQ__",
    "outputId": "bfb45ac2-c314-4cb6-e63f-139f0d7ba06b"
   },
   "outputs": [
    {
     "name": "stdout",
     "output_type": "stream",
     "text": [
      "359/359 - 4s - loss: 0.2295 - acc: 0.9005\n",
      "The loss of this model: 0.23\n",
      "The accuracy of this model: 0.90\n"
     ]
    }
   ],
   "source": [
    "score, acc = model.evaluate(test_converted, target_converted_test, verbose = 2, batch_size = BATCH_SIZE)\n",
    "print(\"The loss of this model: %.2f\" % (score))\n",
    "print(\"The accuracy of this model: %.2f\" % (acc))"
   ]
  },
  {
   "cell_type": "code",
   "execution_count": 30,
   "metadata": {
    "id": "SkL9F626sRAB"
   },
   "outputs": [],
   "source": [
    "y_pred = model.predict(test_converted)"
   ]
  },
  {
   "cell_type": "code",
   "execution_count": 31,
   "metadata": {
    "colab": {
     "base_uri": "https://localhost:8080/",
     "height": 459
    },
    "id": "bWjpnfGPsRAB",
    "outputId": "26ad1dfa-04bf-461c-d2ac-5733910e2a05"
   },
   "outputs": [
    {
     "name": "stdout",
     "output_type": "stream",
     "text": [
      "Confusion Matrix: \n",
      " [[54599  8123  2555]\n",
      " [ 5225 54024  1362]\n",
      " [  374   596 56457]]\n"
     ]
    },
    {
     "data": {
      "image/png": "[encoded data removed]",
      "text/plain": [
       "<Figure size 864x432 with 2 Axes>"
      ]
     },
     "metadata": {
      "tags": []
     },
     "output_type": "display_data"
    }
   ],
   "source": [
    "test,pred = util.plot_confusion_matrix(y_pred, target_converted_test, 'CNN_v2')"
   ]
  },
  {
   "cell_type": "code",
   "execution_count": 32,
   "metadata": {
    "colab": {
     "base_uri": "https://localhost:8080/"
    },
    "id": "5xcnVVUYsRAB",
    "outputId": "78873e17-e24e-4069-cc8d-c8e6795d37d7"
   },
   "outputs": [
    {
     "name": "stdout",
     "output_type": "stream",
     "text": [
      "Classification Report: \n",
      "               precision    recall  f1-score   support\n",
      "\n",
      "           0       0.91      0.84      0.87     65277\n",
      "           1       0.86      0.89      0.88     60611\n",
      "           2       0.94      0.98      0.96     57427\n",
      "\n",
      "    accuracy                           0.90    183315\n",
      "   macro avg       0.90      0.90      0.90    183315\n",
      "weighted avg       0.90      0.90      0.90    183315\n",
      "\n"
     ]
    }
   ],
   "source": [
    "print(\"Classification Report: \\n\", classification_report(test, pred))"
   ]
  },
  {
   "cell_type": "markdown",
   "metadata": {
    "id": "jeX4ONuCr0te"
   },
   "source": [
    "# **LSTM Model**"
   ]
  },
  {
   "cell_type": "code",
   "execution_count": 33,
   "metadata": {
    "colab": {
     "base_uri": "https://localhost:8080/"
    },
    "id": "qtdsIMLMJLTo",
    "outputId": "35b24f11-86b1-439b-c258-4037c1a52d59"
   },
   "outputs": [
    {
     "name": "stdout",
     "output_type": "stream",
     "text": [
      "LSTM Model Initialization...\n",
      "WARNING:tensorflow:Layer lstm will not use cuDNN kernel since it doesn't meet the cuDNN kernel criteria. It will use generic GPU kernel as fallback when running on GPU\n",
      "Model Created Successfully...\n",
      "Model: \"sequential_2\"\n",
      "_________________________________________________________________\n",
      "Layer (type)                 Output Shape              Param #   \n",
      "=================================================================\n",
      "embedding_2 (Embedding)      (None, 122, 100)          20000000  \n",
      "_________________________________________________________________\n",
      "spatial_dropout1d_3 (Spatial (None, 122, 100)          0         \n",
      "_________________________________________________________________\n",
      "lstm (LSTM)                  (None, 64)                42240     \n",
      "_________________________________________________________________\n",
      "dense_3 (Dense)              (None, 3)                 195       \n",
      "=================================================================\n",
      "Total params: 20,042,435\n",
      "Trainable params: 20,042,435\n",
      "Non-trainable params: 0\n",
      "_________________________________________________________________\n"
     ]
    }
   ],
   "source": [
    "lstm = LSTM_Model()\n",
    "model = lstm.create_model(embed_dim = 100, lstm_out = 64, \n",
    "                          input_len = train_converted.shape[1], feature = 200000, \n",
    "                          drop_out = 0.7)\n",
    "model.summary()"
   ]
  },
  {
   "cell_type": "code",
   "execution_count": null,
   "metadata": {
    "colab": {
     "base_uri": "https://localhost:8080/"
    },
    "id": "h_o_bHJemMGO",
    "outputId": "7f9365e5-4358-4716-e3f9-dea7c034b540"
   },
   "outputs": [
    {
     "name": "stdout",
     "output_type": "stream",
     "text": [
      "Epoch 1/30\n",
      "1146/1146 [==============================] - 674s 586ms/step - loss: 0.5706 - acc: 0.7413 - val_loss: 0.2523 - val_acc: 0.8927\n",
      "\n",
      "Epoch 00001: val_loss improved from inf to 0.25230, saving model to /content/drive/My Drive/DeepLearning/checkpoints/LSTM/\n",
      "INFO:tensorflow:Assets written to: /content/drive/My Drive/DeepLearning/checkpoints/LSTM/assets\n",
      "Epoch 2/30\n",
      "1146/1146 [==============================] - 671s 586ms/step - loss: 0.2765 - acc: 0.8846 - val_loss: 0.2380 - val_acc: 0.8977\n",
      "\n",
      "Epoch 00002: val_loss improved from 0.25230 to 0.23797, saving model to /content/drive/My Drive/DeepLearning/checkpoints/LSTM/\n",
      "INFO:tensorflow:Assets written to: /content/drive/My Drive/DeepLearning/checkpoints/LSTM/assets\n",
      "Epoch 3/30\n",
      "1146/1146 [==============================] - 671s 585ms/step - loss: 0.2474 - acc: 0.8978 - val_loss: 0.2310 - val_acc: 0.8993\n",
      "\n",
      "Epoch 00003: val_loss improved from 0.23797 to 0.23096, saving model to /content/drive/My Drive/DeepLearning/checkpoints/LSTM/\n",
      "INFO:tensorflow:Assets written to: /content/drive/My Drive/DeepLearning/checkpoints/LSTM/assets\n",
      "Epoch 4/30\n",
      "1146/1146 [==============================] - 673s 587ms/step - loss: 0.2291 - acc: 0.9054 - val_loss: 0.2281 - val_acc: 0.9008\n",
      "\n",
      "Epoch 00004: val_loss improved from 0.23096 to 0.22812, saving model to /content/drive/My Drive/DeepLearning/checkpoints/LSTM/\n",
      "INFO:tensorflow:Assets written to: /content/drive/My Drive/DeepLearning/checkpoints/LSTM/assets\n",
      "Epoch 5/30\n",
      " 580/1146 [==============>...............] - ETA: 5:29 - loss: 0.2189 - acc: 0.9094"
     ]
    }
   ],
   "source": [
    "history = model.fit(train_converted, target_converted_train, epochs = EPOCH, \n",
    "                    batch_size= BATCH_SIZE, validation_split=0.2,\n",
    "                    callbacks=lstm.callbacks)"
   ]
  },
  {
   "cell_type": "code",
   "execution_count": null,
   "metadata": {
    "id": "NbLq3sA-wc1Q"
   },
   "outputs": [],
   "source": [
    "util.plot_accuracy_loss(history, 'LSTM')"
   ]
  },
  {
   "cell_type": "markdown",
   "metadata": {
    "id": "lROmCZ7-DfI5"
   },
   "source": [
    "# **Evaluation**"
   ]
  },
  {
   "cell_type": "code",
   "execution_count": null,
   "metadata": {
    "id": "L5udYJGy3sC9"
   },
   "outputs": [],
   "source": [
    "model = lstm.load_saved_model()\n",
    "model.summary()"
   ]
  },
  {
   "cell_type": "code",
   "execution_count": null,
   "metadata": {
    "id": "7jOGYHNf-uTy"
   },
   "outputs": [],
   "source": [
    "score, acc = model.evaluate(test_converted, target_converted_test, verbose = 2, batch_size = BATCH_SIZE)\n",
    "print(\"The loss of this model: %.2f\" % (score))\n",
    "print(\"The accuracy of this model: %.2f\" % (acc))"
   ]
  },
  {
   "cell_type": "code",
   "execution_count": null,
   "metadata": {
    "id": "xP5XoLfv5F-x"
   },
   "outputs": [],
   "source": [
    "y_pred = model.predict(test_converted)"
   ]
  },
  {
   "cell_type": "code",
   "execution_count": null,
   "metadata": {
    "id": "ZaFfjVJu-IJa"
   },
   "outputs": [],
   "source": [
    "test, pred = util.plot_confusion_matrix(y_pred, target_converted_test, 'LSTM')"
   ]
  },
  {
   "cell_type": "code",
   "execution_count": null,
   "metadata": {
    "id": "WHkQdn6295MF"
   },
   "outputs": [],
   "source": [
    "print(\"Classification Report: \", classification_report(test, pred))"
   ]
  },
  {
   "cell_type": "markdown",
   "metadata": {
    "id": "xhgHasz59Sf4"
   },
   "source": [
    "# **LSTM_v2**"
   ]
  },
  {
   "cell_type": "code",
   "execution_count": null,
   "metadata": {
    "id": "DsxYTS099QDi"
   },
   "outputs": [],
   "source": [
    "lstm = LSTM_Model()\n",
    "model = lstm.create_model_v2(embed_dim = 100, lstm_out = 64, \n",
    "                          input_len = train_converted.shape[1], feature = 200000, \n",
    "                          drop_out = 0.7)\n",
    "model.summary()"
   ]
  },
  {
   "cell_type": "code",
   "execution_count": null,
   "metadata": {
    "id": "1Vy9ybbX9QDw"
   },
   "outputs": [],
   "source": [
    "history = model.fit(train_converted, target_converted_train, epochs = EPOCH, \n",
    "                    batch_size= BATCH_SIZE, validation_split=0.2,\n",
    "                    callbacks=lstm.callbacks_v2)"
   ]
  },
  {
   "cell_type": "code",
   "execution_count": null,
   "metadata": {
    "id": "bjjufKwC9QDx"
   },
   "outputs": [],
   "source": [
    "util.plot_accuracy_loss(history, 'LSTM_v2')"
   ]
  },
  {
   "cell_type": "markdown",
   "metadata": {
    "id": "mXanGrbP9QDy"
   },
   "source": [
    "# **Evaluation**"
   ]
  },
  {
   "cell_type": "code",
   "execution_count": null,
   "metadata": {
    "id": "kq_WqUiv9QDy"
   },
   "outputs": [],
   "source": [
    "model = lstm.load_saved_model_v2()\n",
    "model.summary()"
   ]
  },
  {
   "cell_type": "code",
   "execution_count": null,
   "metadata": {
    "id": "l9tvfbI69QDy"
   },
   "outputs": [],
   "source": [
    "score, acc = model.evaluate(test_converted, target_converted_test, verbose = 2, batch_size = BATCH_SIZE)\n",
    "print(\"The loss of this model: %.2f\" % (score))\n",
    "print(\"The accuracy of this model: %.2f\" % (acc))"
   ]
  },
  {
   "cell_type": "code",
   "execution_count": null,
   "metadata": {
    "id": "Xj-IRUZt9QDy"
   },
   "outputs": [],
   "source": [
    "y_pred = model.predict(test_converted)"
   ]
  },
  {
   "cell_type": "code",
   "execution_count": null,
   "metadata": {
    "id": "vzocGMug9QDz"
   },
   "outputs": [],
   "source": [
    "test, pred = util.plot_confusion_matrix(y_pred, target_converted_test, 'LSTM_v2')"
   ]
  },
  {
   "cell_type": "code",
   "execution_count": null,
   "metadata": {
    "id": "gexV8tUB9QDz"
   },
   "outputs": [],
   "source": [
    "print(\"Classification Report: \\n\", classification_report(test, pred))"
   ]
  },
  {
   "cell_type": "markdown",
   "metadata": {
    "id": "vTWn9w2kh8gw"
   },
   "source": [
    "# **Word2Vec Model**"
   ]
  },
  {
   "cell_type": "code",
   "execution_count": null,
   "metadata": {
    "id": "BT7Cc9c7iAmk"
   },
   "outputs": [],
   "source": [
    "word2vec = Word2VecModel()\n",
    "word2vec_model = word2vec.create_model(X_train)"
   ]
  },
  {
   "cell_type": "code",
   "execution_count": null,
   "metadata": {
    "id": "0TAGO-E2iinq"
   },
   "outputs": [],
   "source": [
    "train_converted, test_converted, tokenizer = util.tokenization_padding_oov_token(X_train, X_test, 60)\n",
    "print(\"After Tokenization and Padding...\")\n",
    "print(\"The shape of train data: \", train_converted.shape)\n",
    "print(\"The shape of test data: \", test_converted.shape)"
   ]
  },
  {
   "cell_type": "code",
   "execution_count": null,
   "metadata": {
    "id": "qFhdBqhUim8C"
   },
   "outputs": [],
   "source": [
    "vocab_length = len(tokenizer.word_index) + 1\n",
    "embedding_matrix = word2vec.create_embedding_matrix(vocab_length, tokenizer, word2vec_model)"
   ]
  },
  {
   "cell_type": "markdown",
   "metadata": {
    "id": "70X3KiMtw0-E"
   },
   "source": [
    "# **BiLSTM**"
   ]
  },
  {
   "cell_type": "code",
   "execution_count": null,
   "metadata": {
    "id": "iuFYQwNfiqGI"
   },
   "outputs": [],
   "source": [
    "bi_lstm = BiLSTM_Model()\n",
    "model = bi_lstm.create_model(embed_dim = 100, lstm_out = 100, input_len = train_converted.shape[1], \n",
    "                             feature = vocab_length, drop_out = 0.7, embedding_matrix = embedding_matrix)\n",
    "model.summary()"
   ]
  },
  {
   "cell_type": "code",
   "execution_count": null,
   "metadata": {
    "id": "e_VNKixm0DqM"
   },
   "outputs": [],
   "source": [
    "history = model.fit(train_converted, target_converted_train, batch_size=BATCH_SIZE, epochs=EPOCH,\n",
    "                    validation_split=0.2, callbacks=bi_lstm.callbacks)"
   ]
  },
  {
   "cell_type": "markdown",
   "metadata": {
    "id": "WDDfiF1m2Ghr"
   },
   "source": [
    "# **Evaluation**"
   ]
  },
  {
   "cell_type": "code",
   "execution_count": null,
   "metadata": {
    "id": "_nwt8aYA2cqX"
   },
   "outputs": [],
   "source": [
    "model = bi_lstm.load_saved_model()\n",
    "print(model.summary())"
   ]
  },
  {
   "cell_type": "code",
   "execution_count": null,
   "metadata": {
    "id": "V6hePvUv8F77"
   },
   "outputs": [],
   "source": [
    "score, acc = model.evaluate(test_converted, target_converted_test, batch_size = BATCH_SIZE)\n",
    "print(\"The loss of this model: %.2f\" % (score))\n",
    "print(\"The accuracy of this model: %.2f\" % (acc))"
   ]
  },
  {
   "cell_type": "code",
   "execution_count": null,
   "metadata": {
    "id": "WU8XVaL_2Ghs"
   },
   "outputs": [],
   "source": [
    "util.plot_accuracy_loss(history, 'BiLSTM')"
   ]
  },
  {
   "cell_type": "markdown",
   "metadata": {
    "id": "QCDslDeU2YyX"
   },
   "source": [
    "# **Prediction** "
   ]
  },
  {
   "cell_type": "code",
   "execution_count": null,
   "metadata": {
    "id": "p0ESOLwC2YyY"
   },
   "outputs": [],
   "source": [
    "y_pred = model.predict(test_converted)"
   ]
  },
  {
   "cell_type": "code",
   "execution_count": null,
   "metadata": {
    "id": "q5qmWSKY2YyZ"
   },
   "outputs": [],
   "source": [
    "test, pred = util.plot_confusion_matrix(y_pred, target_converted_test, 'BiLSTM')"
   ]
  },
  {
   "cell_type": "code",
   "execution_count": null,
   "metadata": {
    "id": "7svgO38x2Yya"
   },
   "outputs": [],
   "source": [
    "print(\"Classification Report: \\n\", classification_report(test, pred))"
   ]
  }
 ],
 "metadata": {
  "accelerator": "GPU",
  "colab": {
   "collapsed_sections": [],
   "name": "Deep_Learning_models.ipynb",
   "provenance": []
  },
  "kernelspec": {
   "display_name": "Python 3",
   "language": "python",
   "name": "python3"
  },
  "language_info": {
   "codemirror_mode": {
    "name": "ipython",
    "version": 3
   },
   "file_extension": ".py",
   "mimetype": "text/x-python",
   "name": "python",
   "nbconvert_exporter": "python",
   "pygments_lexer": "ipython3",
   "version": "3.8.3"
  }
 },
 "nbformat": 4,
 "nbformat_minor": 1
}
