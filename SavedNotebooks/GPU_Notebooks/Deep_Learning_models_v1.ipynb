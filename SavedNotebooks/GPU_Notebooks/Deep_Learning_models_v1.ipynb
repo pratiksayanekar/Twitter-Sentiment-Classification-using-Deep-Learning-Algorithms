{
 "cells": [
  {
   "cell_type": "code",
   "execution_count": 1,
   "metadata": {
    "id": "KdFoTLXsDESF"
   },
   "outputs": [],
   "source": [
    "! pip install -q scikit-plot"
   ]
  },
  {
   "cell_type": "markdown",
   "metadata": {
    "id": "hSvj9uTMxqr9"
   },
   "source": [
    "# **Import**"
   ]
  },
  {
   "cell_type": "code",
   "execution_count": 2,
   "metadata": {
    "id": "1WmEmhR_xjpa"
   },
   "outputs": [],
   "source": [
    "import pandas as pd\n",
    "pd.set_option('display.max_colwidth', None)\n",
    "import string"
   ]
  },
  {
   "cell_type": "code",
   "execution_count": 3,
   "metadata": {
    "id": "rg7gU6mg9Npu"
   },
   "outputs": [],
   "source": [
    "import sys\n",
    "sys.path.append('/content/drive/MyDrive/DeepLearning')"
   ]
  },
  {
   "cell_type": "code",
   "execution_count": 4,
   "metadata": {
    "id": "NMwa3-Yl4LoD"
   },
   "outputs": [],
   "source": [
    "from utils.basic_utilities import Utils\n",
    "from models.LSTM_1 import LSTM_Model\n",
    "from models.CNN_1 import CNN_Model\n",
    "from models.Word2Vec_1 import Word2VecModel\n",
    "from models.BiLSTM import BiLSTM_Model"
   ]
  },
  {
   "cell_type": "code",
   "execution_count": 5,
   "metadata": {
    "id": "fdPZR-STw0WL"
   },
   "outputs": [],
   "source": [
    "from keras.callbacks import ReduceLROnPlateau, EarlyStopping, ModelCheckpoint\n",
    "from sklearn.metrics import confusion_matrix, classification_report"
   ]
  },
  {
   "cell_type": "markdown",
   "metadata": {
    "id": "qE2K-FxWxvhc"
   },
   "source": [
    "# **Reading Preprocessed Data**"
   ]
  },
  {
   "cell_type": "code",
   "execution_count": 6,
   "metadata": {
    "colab": {
     "base_uri": "https://localhost:8080/",
     "height": 340
    },
    "id": "VJTB3726xu68",
    "outputId": "c6c6050a-5177-47c8-a044-06f59540a5fc"
   },
   "outputs": [
    {
     "data": {
      "text/html": [
       "<div>\n",
       "<style scoped>\n",
       "    .dataframe tbody tr th:only-of-type {\n",
       "        vertical-align: middle;\n",
       "    }\n",
       "\n",
       "    .dataframe tbody tr th {\n",
       "        vertical-align: top;\n",
       "    }\n",
       "\n",
       "    .dataframe thead th {\n",
       "        text-align: right;\n",
       "    }\n",
       "</style>\n",
       "<table border=\"1\" class=\"dataframe\">\n",
       "  <thead>\n",
       "    <tr style=\"text-align: right;\">\n",
       "      <th></th>\n",
       "      <th>emotion</th>\n",
       "      <th>content</th>\n",
       "      <th>original_content</th>\n",
       "      <th>text</th>\n",
       "    </tr>\n",
       "  </thead>\n",
       "  <tbody>\n",
       "    <tr>\n",
       "      <th>0</th>\n",
       "      <td>disappointed</td>\n",
       "      <td>oh fuck did i wrote fil grinningfacewithsweat nsorry spot disappointedface</td>\n",
       "      <td>b'RT @Davbingodav: @mcrackins Oh fuck.... did I wrote Fil ??? :grinning_face_with_sweat:\\nSorry Spot. :disappointed_face:'</td>\n",
       "      <td>rt oh fuck wrote fil grinning_face_with_sweatnsorry spot isappointed_face</td>\n",
       "    </tr>\n",
       "    <tr>\n",
       "      <th>1</th>\n",
       "      <td>disappointed</td>\n",
       "      <td>i feel nor am i shamed by it</td>\n",
       "      <td>i feel nor am i shamed by it</td>\n",
       "      <td>feel shamed</td>\n",
       "    </tr>\n",
       "    <tr>\n",
       "      <th>2</th>\n",
       "      <td>disappointed</td>\n",
       "      <td>i had been feeling a little bit defeated by the step of faith we would need to take to try to resolve our problem</td>\n",
       "      <td>i had been feeling a little bit defeated by the steps of faith we would need to take to try to resolve our problem</td>\n",
       "      <td>feeling little bit defeated steps faith need try resolve problem</td>\n",
       "    </tr>\n",
       "    <tr>\n",
       "      <th>3</th>\n",
       "      <td>happy</td>\n",
       "      <td>imagine if that reaction guy that called jj kfc saw this my man would ve started cry lmao</td>\n",
       "      <td>b\"@KSIOlajidebt imagine if that reaction guy that called JJ KFC saw this. my man would've started crying lmao \"</td>\n",
       "      <td>imagine reaction guy called jj kfc saw man ve started crying lmao</td>\n",
       "    </tr>\n",
       "    <tr>\n",
       "      <th>4</th>\n",
       "      <td>disappointed</td>\n",
       "      <td>i wouldnt feel burdened so that i would live my life a a testament to his sacrifice that wa out of a love so pure and innocent yet so great and mighty</td>\n",
       "      <td>i wouldnt feel burdened so that i would live my life as a testament to his sacrifice that was out of a love so pure and innocent yet so great and mighty</td>\n",
       "      <td>wouldnt feel burdened live life testament sacrifice love pure innocent great mighty</td>\n",
       "    </tr>\n",
       "  </tbody>\n",
       "</table>\n",
       "</div>"
      ],
      "text/plain": [
       "        emotion  ...                                                                                 text\n",
       "0  disappointed  ...            rt oh fuck wrote fil grinning_face_with_sweatnsorry spot isappointed_face\n",
       "1  disappointed  ...                                                                          feel shamed\n",
       "2  disappointed  ...                     feeling little bit defeated steps faith need try resolve problem\n",
       "3         happy  ...                    imagine reaction guy called jj kfc saw man ve started crying lmao\n",
       "4  disappointed  ...  wouldnt feel burdened live life testament sacrifice love pure innocent great mighty\n",
       "\n",
       "[5 rows x 4 columns]"
      ]
     },
     "execution_count": 6,
     "metadata": {
      "tags": []
     },
     "output_type": "execute_result"
    }
   ],
   "source": [
    "df = pd.read_csv('/content/drive/MyDrive/DeepLearning/Data/preprocessed_data.csv')\n",
    "df.head()"
   ]
  },
  {
   "cell_type": "code",
   "execution_count": 7,
   "metadata": {
    "id": "enPDPec5I2Zu"
   },
   "outputs": [],
   "source": [
    "df.text = df.text.astype(str)"
   ]
  },
  {
   "cell_type": "markdown",
   "metadata": {
    "id": "2tpmE6zCpZ2i"
   },
   "source": [
    "# **Splitting dataset into train(90%) and test(10%)**"
   ]
  },
  {
   "cell_type": "code",
   "execution_count": 8,
   "metadata": {
    "colab": {
     "base_uri": "https://localhost:8080/"
    },
    "id": "rmbqBr4vwK5_",
    "outputId": "562c3065-5184-45bd-b0d7-8eb92cd5bb79"
   },
   "outputs": [
    {
     "name": "stdout",
     "output_type": "stream",
     "text": [
      "Initialization of Utilities...\n",
      "The shape of train data:  (824917,)\n",
      "The shape of train target:  (824917,)\n",
      "The shape of test data:  (91658,)\n",
      "The shape of test target:  (91658,)\n"
     ]
    }
   ],
   "source": [
    "util = Utils()\n",
    "X_train, X_test, y_train, y_test = util.split_data(df)\n",
    "print(\"The shape of train data: \",X_train.shape)\n",
    "print(\"The shape of train target: \",y_train.shape)\n",
    "print(\"The shape of test data: \",X_test.shape)\n",
    "print(\"The shape of test target: \",y_test.shape)"
   ]
  },
  {
   "cell_type": "markdown",
   "metadata": {
    "id": "n5Sqp20Spudj"
   },
   "source": [
    "# **Tokenization and Padding of each tweet**"
   ]
  },
  {
   "cell_type": "code",
   "execution_count": 9,
   "metadata": {
    "colab": {
     "base_uri": "https://localhost:8080/"
    },
    "id": "YwI5tOD9JcEV",
    "outputId": "d43b58d5-9e06-4863-8b59-910a82575840"
   },
   "outputs": [
    {
     "name": "stdout",
     "output_type": "stream",
     "text": [
      "Maximum length of tweet: 122\n"
     ]
    }
   ],
   "source": [
    "max_len = util.max_len(df)\n",
    "print(\"Maximum length of tweet:\", max_len)"
   ]
  },
  {
   "cell_type": "code",
   "execution_count": 10,
   "metadata": {
    "colab": {
     "base_uri": "https://localhost:8080/"
    },
    "id": "ASGy-Q_rFjUL",
    "outputId": "0676b1fa-c004-49c9-dfc8-35eee1037528"
   },
   "outputs": [
    {
     "name": "stdout",
     "output_type": "stream",
     "text": [
      "After Tokenization and Padding...\n",
      "The shape of train data:  (824917, 122)\n",
      "The shape of test data:  (91658, 122)\n"
     ]
    }
   ],
   "source": [
    "train_converted, test_converted = util.tokenization_padding(X_train, X_test, max_len)\n",
    "print(\"After Tokenization and Padding...\")\n",
    "print(\"The shape of train data: \", train_converted.shape)\n",
    "print(\"The shape of test data: \", test_converted.shape)"
   ]
  },
  {
   "cell_type": "code",
   "execution_count": 11,
   "metadata": {
    "colab": {
     "base_uri": "https://localhost:8080/"
    },
    "id": "f-xgFoO7vwzd",
    "outputId": "19ff5743-8f61-4190-da61-bff4fa08dcc4"
   },
   "outputs": [
    {
     "name": "stdout",
     "output_type": "stream",
     "text": [
      "After one hot encoding of target variable...\n",
      "The shape of train target:  (824917, 3)\n",
      "The shape of test target:  (91658, 3)\n"
     ]
    }
   ],
   "source": [
    "target_converted_train, target_converted_test = util.one_hot_target_variable(y_train, y_test)\n",
    "print(\"After one hot encoding of target variable...\")\n",
    "print(\"The shape of train target: \", target_converted_train.shape)\n",
    "print(\"The shape of test target: \", target_converted_test.shape)"
   ]
  },
  {
   "cell_type": "markdown",
   "metadata": {
    "id": "7yz5IFdw3B3R"
   },
   "source": [
    "# **Deep Learning Models**"
   ]
  },
  {
   "cell_type": "code",
   "execution_count": 12,
   "metadata": {
    "id": "KYmEV5EL3BS3"
   },
   "outputs": [],
   "source": [
    "EPOCH = 30\n",
    "BATCH_SIZE = 1024"
   ]
  },
  {
   "cell_type": "markdown",
   "metadata": {
    "id": "M81GzKxtFqFI"
   },
   "source": [
    "# **CNN Model**"
   ]
  },
  {
   "cell_type": "code",
   "execution_count": 13,
   "metadata": {
    "colab": {
     "base_uri": "https://localhost:8080/"
    },
    "id": "Op2cjQkaHM8p",
    "outputId": "a3113b9f-f9dd-4f15-dace-cf283d751c06"
   },
   "outputs": [
    {
     "name": "stdout",
     "output_type": "stream",
     "text": [
      "CNN Model Initialization...\n",
      "Model Created Successfully...\n",
      "Model: \"sequential\"\n",
      "_________________________________________________________________\n",
      "Layer (type)                 Output Shape              Param #   \n",
      "=================================================================\n",
      "embedding (Embedding)        (None, 122, 100)          20000000  \n",
      "_________________________________________________________________\n",
      "spatial_dropout1d (SpatialDr (None, 122, 100)          0         \n",
      "_________________________________________________________________\n",
      "conv1d (Conv1D)              (None, 119, 128)          51328     \n",
      "_________________________________________________________________\n",
      "global_max_pooling1d (Global (None, 128)               0         \n",
      "_________________________________________________________________\n",
      "dense (Dense)                (None, 3)                 387       \n",
      "=================================================================\n",
      "Total params: 20,051,715\n",
      "Trainable params: 20,051,715\n",
      "Non-trainable params: 0\n",
      "_________________________________________________________________\n"
     ]
    }
   ],
   "source": [
    "cnn = CNN_Model()\n",
    "model = cnn.create_model(embed_dim = 100, num_filters = 128, \n",
    "                          input_len = train_converted.shape[1], feature = 200000, \n",
    "                          drop_out = 0.7, num_words=4)\n",
    "model.summary()"
   ]
  },
  {
   "cell_type": "code",
   "execution_count": 14,
   "metadata": {
    "colab": {
     "base_uri": "https://localhost:8080/"
    },
    "id": "3e32dCWnHyiL",
    "outputId": "e8118a28-a71b-406b-e7bd-2b268854c2d1"
   },
   "outputs": [
    {
     "name": "stdout",
     "output_type": "stream",
     "text": [
      "Epoch 1/30\n",
      "726/726 [==============================] - 192s 220ms/step - loss: 0.4815 - acc: 0.7858 - val_loss: 0.2423 - val_acc: 0.8948\n",
      "\n",
      "Epoch 00001: val_loss improved from inf to 0.24226, saving model to /content/drive/MyDrive/DeepLearning/checkpoints/CNN/\n",
      "INFO:tensorflow:Assets written to: /content/drive/MyDrive/DeepLearning/checkpoints/CNN/assets\n",
      "Epoch 2/30\n",
      "726/726 [==============================] - 159s 218ms/step - loss: 0.2336 - acc: 0.9026 - val_loss: 0.2340 - val_acc: 0.8989\n",
      "\n",
      "Epoch 00002: val_loss improved from 0.24226 to 0.23401, saving model to /content/drive/MyDrive/DeepLearning/checkpoints/CNN/\n",
      "INFO:tensorflow:Assets written to: /content/drive/MyDrive/DeepLearning/checkpoints/CNN/assets\n",
      "Epoch 3/30\n",
      "726/726 [==============================] - 158s 218ms/step - loss: 0.2109 - acc: 0.9133 - val_loss: 0.2307 - val_acc: 0.9000\n",
      "\n",
      "Epoch 00003: val_loss improved from 0.23401 to 0.23066, saving model to /content/drive/MyDrive/DeepLearning/checkpoints/CNN/\n",
      "INFO:tensorflow:Assets written to: /content/drive/MyDrive/DeepLearning/checkpoints/CNN/assets\n",
      "Epoch 4/30\n",
      "726/726 [==============================] - 157s 216ms/step - loss: 0.1973 - acc: 0.9192 - val_loss: 0.2321 - val_acc: 0.8988\n",
      "\n",
      "Epoch 00004: val_loss did not improve from 0.23066\n",
      "Epoch 5/30\n",
      "726/726 [==============================] - 156s 215ms/step - loss: 0.1858 - acc: 0.9237 - val_loss: 0.2339 - val_acc: 0.9000\n",
      "\n",
      "Epoch 00005: val_loss did not improve from 0.23066\n",
      "Epoch 6/30\n",
      "726/726 [==============================] - 156s 215ms/step - loss: 0.1751 - acc: 0.9277 - val_loss: 0.2360 - val_acc: 0.8999\n",
      "\n",
      "Epoch 00006: val_loss did not improve from 0.23066\n",
      "Epoch 7/30\n",
      "726/726 [==============================] - 156s 215ms/step - loss: 0.1679 - acc: 0.9301 - val_loss: 0.2383 - val_acc: 0.9001\n",
      "\n",
      "Epoch 00007: val_loss did not improve from 0.23066\n",
      "Epoch 8/30\n",
      "726/726 [==============================] - 156s 215ms/step - loss: 0.1618 - acc: 0.9332 - val_loss: 0.2406 - val_acc: 0.8994\n",
      "\n",
      "Epoch 00008: val_loss did not improve from 0.23066\n",
      "Epoch 9/30\n",
      "726/726 [==============================] - 156s 215ms/step - loss: 0.1575 - acc: 0.9350 - val_loss: 0.2432 - val_acc: 0.8989\n",
      "\n",
      "Epoch 00009: val_loss did not improve from 0.23066\n",
      "Epoch 10/30\n",
      "726/726 [==============================] - 156s 215ms/step - loss: 0.1518 - acc: 0.9372 - val_loss: 0.2463 - val_acc: 0.8992\n",
      "\n",
      "Epoch 00010: val_loss did not improve from 0.23066\n"
     ]
    }
   ],
   "source": [
    "history = model.fit(train_converted, target_converted_train, epochs = EPOCH, \n",
    "                    batch_size=BATCH_SIZE, validation_split=0.1,\n",
    "                    callbacks=cnn.callbacks)"
   ]
  },
  {
   "cell_type": "code",
   "execution_count": 15,
   "metadata": {
    "colab": {
     "base_uri": "https://localhost:8080/",
     "height": 500
    },
    "id": "q2StIg9PIP2a",
    "outputId": "a8761acf-7fdc-4055-90f2-1fabc351b18d"
   },
   "outputs": [
    {
     "data": {
      "image/png": "[encoded data removed]",
      "text/plain": [
       "<Figure size 1080x576 with 2 Axes>"
      ]
     },
     "metadata": {
      "tags": []
     },
     "output_type": "display_data"
    }
   ],
   "source": [
    "util.plot_accuracy_loss(history, 'CNN')"
   ]
  },
  {
   "cell_type": "markdown",
   "metadata": {
    "id": "CVxZwJc6IP2Z"
   },
   "source": [
    "# **Evaluation**"
   ]
  },
  {
   "cell_type": "code",
   "execution_count": 16,
   "metadata": {
    "colab": {
     "base_uri": "https://localhost:8080/"
    },
    "id": "_kAjaJGf4Amw",
    "outputId": "3784a825-a80d-4352-8a41-410f1f77daca"
   },
   "outputs": [
    {
     "name": "stdout",
     "output_type": "stream",
     "text": [
      "Model: \"sequential\"\n",
      "_________________________________________________________________\n",
      "Layer (type)                 Output Shape              Param #   \n",
      "=================================================================\n",
      "embedding (Embedding)        (None, 122, 100)          20000000  \n",
      "_________________________________________________________________\n",
      "spatial_dropout1d (SpatialDr (None, 122, 100)          0         \n",
      "_________________________________________________________________\n",
      "conv1d (Conv1D)              (None, 119, 128)          51328     \n",
      "_________________________________________________________________\n",
      "global_max_pooling1d (Global (None, 128)               0         \n",
      "_________________________________________________________________\n",
      "dense (Dense)                (None, 3)                 387       \n",
      "=================================================================\n",
      "Total params: 20,051,715\n",
      "Trainable params: 20,051,715\n",
      "Non-trainable params: 0\n",
      "_________________________________________________________________\n"
     ]
    }
   ],
   "source": [
    "model = cnn.load_saved_model()\n",
    "model.summary()"
   ]
  },
  {
   "cell_type": "code",
   "execution_count": 17,
   "metadata": {
    "colab": {
     "base_uri": "https://localhost:8080/"
    },
    "id": "QEmqzr9q-1uk",
    "outputId": "8bdf6306-fb9d-4256-9378-d8b555ca26f3"
   },
   "outputs": [
    {
     "name": "stdout",
     "output_type": "stream",
     "text": [
      "90/90 - 2s - loss: 0.2278 - acc: 0.9013\n",
      "The loss of this model: 0.23\n",
      "The accuracy of this model: 0.90\n"
     ]
    }
   ],
   "source": [
    "score, acc = model.evaluate(test_converted, target_converted_test, verbose = 2, batch_size = BATCH_SIZE)\n",
    "print(\"The loss of this model: %.2f\" % (score))\n",
    "print(\"The accuracy of this model: %.2f\" % (acc))"
   ]
  },
  {
   "cell_type": "code",
   "execution_count": 18,
   "metadata": {
    "id": "lAfloiyAIP2b"
   },
   "outputs": [],
   "source": [
    "y_pred = model.predict(test_converted)"
   ]
  },
  {
   "cell_type": "code",
   "execution_count": 19,
   "metadata": {
    "colab": {
     "base_uri": "https://localhost:8080/",
     "height": 459
    },
    "id": "GYn-D1DmIP2b",
    "outputId": "bf7573b8-c5e2-41b5-cab4-05fcd9c8969c"
   },
   "outputs": [
    {
     "name": "stdout",
     "output_type": "stream",
     "text": [
      "Confusion Matrix: \n",
      " [[27316  4034  1202]\n",
      " [ 2527 27017   711]\n",
      " [  256   321 28274]]\n"
     ]
    },
    {
     "data": {
      "image/png": "[encoded data removed]",
      "text/plain": [
       "<Figure size 864x432 with 2 Axes>"
      ]
     },
     "metadata": {
      "tags": []
     },
     "output_type": "display_data"
    }
   ],
   "source": [
    "test,pred = util.plot_confusion_matrix(y_pred, target_converted_test, 'CNN')"
   ]
  },
  {
   "cell_type": "code",
   "execution_count": 20,
   "metadata": {
    "colab": {
     "base_uri": "https://localhost:8080/"
    },
    "id": "7qVr0JGRIP2c",
    "outputId": "d01ed113-98b9-4ebb-f7c4-edf4df902a07"
   },
   "outputs": [
    {
     "name": "stdout",
     "output_type": "stream",
     "text": [
      "Classification Report:                precision    recall  f1-score   support\n",
      "\n",
      "           0       0.91      0.84      0.87     32552\n",
      "           1       0.86      0.89      0.88     30255\n",
      "           2       0.94      0.98      0.96     28851\n",
      "\n",
      "    accuracy                           0.90     91658\n",
      "   macro avg       0.90      0.90      0.90     91658\n",
      "weighted avg       0.90      0.90      0.90     91658\n",
      "\n"
     ]
    }
   ],
   "source": [
    "print(\"Classification Report: \", classification_report(test, pred))"
   ]
  },
  {
   "cell_type": "markdown",
   "metadata": {
    "id": "jeX4ONuCr0te"
   },
   "source": [
    "# **LSTM Model**"
   ]
  },
  {
   "cell_type": "code",
   "execution_count": 21,
   "metadata": {
    "colab": {
     "base_uri": "https://localhost:8080/"
    },
    "id": "qtdsIMLMJLTo",
    "outputId": "8885c213-0881-44b3-f5c7-bc94dcfd54c0"
   },
   "outputs": [
    {
     "name": "stdout",
     "output_type": "stream",
     "text": [
      "LSTM Model Initialization...\n",
      "WARNING:tensorflow:Layer lstm will not use cuDNN kernel since it doesn't meet the cuDNN kernel criteria. It will use generic GPU kernel as fallback when running on GPU\n",
      "Model Created Successfully...\n",
      "Model: \"sequential_1\"\n",
      "_________________________________________________________________\n",
      "Layer (type)                 Output Shape              Param #   \n",
      "=================================================================\n",
      "embedding_1 (Embedding)      (None, 122, 100)          20000000  \n",
      "_________________________________________________________________\n",
      "spatial_dropout1d_1 (Spatial (None, 122, 100)          0         \n",
      "_________________________________________________________________\n",
      "lstm (LSTM)                  (None, 64)                42240     \n",
      "_________________________________________________________________\n",
      "dense_1 (Dense)              (None, 3)                 195       \n",
      "=================================================================\n",
      "Total params: 20,042,435\n",
      "Trainable params: 20,042,435\n",
      "Non-trainable params: 0\n",
      "_________________________________________________________________\n"
     ]
    }
   ],
   "source": [
    "lstm = LSTM_Model()\n",
    "model = lstm.create_model(embed_dim = 100, lstm_out = 64, \n",
    "                          input_len = train_converted.shape[1], feature = 200000, \n",
    "                          drop_out = 0.7)\n",
    "model.summary()"
   ]
  },
  {
   "cell_type": "code",
   "execution_count": 22,
   "metadata": {
    "colab": {
     "base_uri": "https://localhost:8080/"
    },
    "id": "h_o_bHJemMGO",
    "outputId": "3d6c9281-de7c-4467-c027-554d6de5608b"
   },
   "outputs": [
    {
     "name": "stdout",
     "output_type": "stream",
     "text": [
      "Epoch 1/30\n",
      "726/726 [==============================] - 488s 669ms/step - loss: 0.6009 - acc: 0.7278 - val_loss: 0.2580 - val_acc: 0.8890\n",
      "\n",
      "Epoch 00001: val_loss improved from inf to 0.25803, saving model to /content/drive/MyDrive/DeepLearning/checkpoints/LSTM/\n",
      "INFO:tensorflow:Assets written to: /content/drive/MyDrive/DeepLearning/checkpoints/LSTM/assets\n",
      "Epoch 2/30\n",
      "726/726 [==============================] - 492s 678ms/step - loss: 0.2758 - acc: 0.8852 - val_loss: 0.2432 - val_acc: 0.8969\n",
      "\n",
      "Epoch 00002: val_loss improved from 0.25803 to 0.24318, saving model to /content/drive/MyDrive/DeepLearning/checkpoints/LSTM/\n",
      "INFO:tensorflow:Assets written to: /content/drive/MyDrive/DeepLearning/checkpoints/LSTM/assets\n",
      "Epoch 3/30\n",
      "726/726 [==============================] - 485s 667ms/step - loss: 0.2473 - acc: 0.8976 - val_loss: 0.2363 - val_acc: 0.8981\n",
      "\n",
      "Epoch 00003: val_loss improved from 0.24318 to 0.23630, saving model to /content/drive/MyDrive/DeepLearning/checkpoints/LSTM/\n",
      "INFO:tensorflow:Assets written to: /content/drive/MyDrive/DeepLearning/checkpoints/LSTM/assets\n",
      "Epoch 4/30\n",
      "726/726 [==============================] - 479s 660ms/step - loss: 0.2313 - acc: 0.9043 - val_loss: 0.2316 - val_acc: 0.8999\n",
      "\n",
      "Epoch 00004: val_loss improved from 0.23630 to 0.23163, saving model to /content/drive/MyDrive/DeepLearning/checkpoints/LSTM/\n",
      "INFO:tensorflow:Assets written to: /content/drive/MyDrive/DeepLearning/checkpoints/LSTM/assets\n",
      "Epoch 5/30\n",
      "726/726 [==============================] - 474s 653ms/step - loss: 0.2199 - acc: 0.9091 - val_loss: 0.2302 - val_acc: 0.9004\n",
      "\n",
      "Epoch 00005: val_loss improved from 0.23163 to 0.23021, saving model to /content/drive/MyDrive/DeepLearning/checkpoints/LSTM/\n",
      "INFO:tensorflow:Assets written to: /content/drive/MyDrive/DeepLearning/checkpoints/LSTM/assets\n",
      "Epoch 6/30\n",
      "726/726 [==============================] - 475s 654ms/step - loss: 0.2128 - acc: 0.9119 - val_loss: 0.2309 - val_acc: 0.9012\n",
      "\n",
      "Epoch 00006: val_loss did not improve from 0.23021\n",
      "Epoch 7/30\n",
      "726/726 [==============================] - 479s 660ms/step - loss: 0.2041 - acc: 0.9157 - val_loss: 0.2302 - val_acc: 0.9014\n",
      "\n",
      "Epoch 00007: val_loss did not improve from 0.23021\n",
      "Epoch 8/30\n",
      "726/726 [==============================] - 490s 674ms/step - loss: 0.1981 - acc: 0.9174 - val_loss: 0.2306 - val_acc: 0.9015\n",
      "\n",
      "Epoch 00008: val_loss did not improve from 0.23021\n",
      "Epoch 9/30\n",
      "726/726 [==============================] - 490s 675ms/step - loss: 0.1951 - acc: 0.9184 - val_loss: 0.2302 - val_acc: 0.9028\n",
      "\n",
      "Epoch 00009: val_loss improved from 0.23021 to 0.23020, saving model to /content/drive/MyDrive/DeepLearning/checkpoints/LSTM/\n",
      "INFO:tensorflow:Assets written to: /content/drive/MyDrive/DeepLearning/checkpoints/LSTM/assets\n",
      "Epoch 10/30\n",
      "726/726 [==============================] - 490s 676ms/step - loss: 0.1912 - acc: 0.9207 - val_loss: 0.2318 - val_acc: 0.9029\n",
      "\n",
      "Epoch 00010: val_loss did not improve from 0.23020\n",
      "Epoch 11/30\n",
      "726/726 [==============================] - 488s 672ms/step - loss: 0.1870 - acc: 0.9219 - val_loss: 0.2324 - val_acc: 0.9024\n",
      "\n",
      "Epoch 00011: val_loss did not improve from 0.23020\n",
      "Epoch 12/30\n",
      "726/726 [==============================] - 494s 680ms/step - loss: 0.1853 - acc: 0.9222 - val_loss: 0.2342 - val_acc: 0.9020\n",
      "\n",
      "Epoch 00012: val_loss did not improve from 0.23020\n"
     ]
    }
   ],
   "source": [
    "history = model.fit(train_converted, target_converted_train, epochs = EPOCH, \n",
    "                    batch_size= BATCH_SIZE, validation_split=0.1,\n",
    "                    callbacks=lstm.callbacks)"
   ]
  },
  {
   "cell_type": "code",
   "execution_count": 23,
   "metadata": {
    "colab": {
     "base_uri": "https://localhost:8080/",
     "height": 500
    },
    "id": "NbLq3sA-wc1Q",
    "outputId": "5e68525b-17e3-412a-f647-24a1cc38f758"
   },
   "outputs": [
    {
     "data": {
      "image/png": "[encoded data removed]",
      "text/plain": [
       "<Figure size 1080x576 with 2 Axes>"
      ]
     },
     "metadata": {
      "tags": []
     },
     "output_type": "display_data"
    }
   ],
   "source": [
    "util.plot_accuracy_loss(history, 'LSTM')"
   ]
  },
  {
   "cell_type": "markdown",
   "metadata": {
    "id": "lROmCZ7-DfI5"
   },
   "source": [
    "# **Evaluation**"
   ]
  },
  {
   "cell_type": "code",
   "execution_count": 24,
   "metadata": {
    "colab": {
     "base_uri": "https://localhost:8080/"
    },
    "id": "L5udYJGy3sC9",
    "outputId": "d42a4754-edcb-4b17-e05b-f5f74bb840ab"
   },
   "outputs": [
    {
     "name": "stdout",
     "output_type": "stream",
     "text": [
      "WARNING:tensorflow:Layer lstm will not use cuDNN kernel since it doesn't meet the cuDNN kernel criteria. It will use generic GPU kernel as fallback when running on GPU\n",
      "Model: \"sequential_1\"\n",
      "_________________________________________________________________\n",
      "Layer (type)                 Output Shape              Param #   \n",
      "=================================================================\n",
      "embedding_1 (Embedding)      (None, 122, 100)          20000000  \n",
      "_________________________________________________________________\n",
      "spatial_dropout1d_1 (Spatial (None, 122, 100)          0         \n",
      "_________________________________________________________________\n",
      "lstm (LSTM)                  (None, 64)                42240     \n",
      "_________________________________________________________________\n",
      "dense_1 (Dense)              (None, 3)                 195       \n",
      "=================================================================\n",
      "Total params: 20,042,435\n",
      "Trainable params: 20,042,435\n",
      "Non-trainable params: 0\n",
      "_________________________________________________________________\n"
     ]
    }
   ],
   "source": [
    "model = lstm.load_saved_model()\n",
    "model.summary()"
   ]
  },
  {
   "cell_type": "code",
   "execution_count": 25,
   "metadata": {
    "colab": {
     "base_uri": "https://localhost:8080/"
    },
    "id": "7jOGYHNf-uTy",
    "outputId": "425ac1f3-eb15-4a5e-dec9-53036e2faa1c"
   },
   "outputs": [
    {
     "name": "stdout",
     "output_type": "stream",
     "text": [
      "90/90 - 4s - loss: 0.2277 - acc: 0.9033\n",
      "The loss of this model: 0.23\n",
      "The accuracy of this model: 0.90\n"
     ]
    }
   ],
   "source": [
    "score, acc = model.evaluate(test_converted, target_converted_test, verbose = 2, batch_size = BATCH_SIZE)\n",
    "print(\"The loss of this model: %.2f\" % (score))\n",
    "print(\"The accuracy of this model: %.2f\" % (acc))"
   ]
  },
  {
   "cell_type": "code",
   "execution_count": 26,
   "metadata": {
    "id": "xP5XoLfv5F-x"
   },
   "outputs": [],
   "source": [
    "y_pred = model.predict(test_converted)"
   ]
  },
  {
   "cell_type": "code",
   "execution_count": 27,
   "metadata": {
    "colab": {
     "base_uri": "https://localhost:8080/",
     "height": 459
    },
    "id": "ZaFfjVJu-IJa",
    "outputId": "3a762c49-dbaa-40a5-d7b4-3d5c066beebf"
   },
   "outputs": [
    {
     "name": "stdout",
     "output_type": "stream",
     "text": [
      "Confusion Matrix: \n",
      " [[27087  3693  1111]\n",
      " [ 2800 27424   788]\n",
      " [  212   255 28288]]\n"
     ]
    },
    {
     "data": {
      "image/png": "[encoded data removed]",
      "text/plain": [
       "<Figure size 864x432 with 2 Axes>"
      ]
     },
     "metadata": {
      "tags": []
     },
     "output_type": "display_data"
    }
   ],
   "source": [
    "test, pred = util.plot_confusion_matrix(y_pred, target_converted_test, 'LSTM')"
   ]
  },
  {
   "cell_type": "code",
   "execution_count": 28,
   "metadata": {
    "colab": {
     "base_uri": "https://localhost:8080/"
    },
    "id": "WHkQdn6295MF",
    "outputId": "af5d6a2f-36e1-4982-fec4-6391cb9fb034"
   },
   "outputs": [
    {
     "name": "stdout",
     "output_type": "stream",
     "text": [
      "Classification Report:                precision    recall  f1-score   support\n",
      "\n",
      "           0       0.90      0.85      0.87     31891\n",
      "           1       0.87      0.88      0.88     31012\n",
      "           2       0.94      0.98      0.96     28755\n",
      "\n",
      "    accuracy                           0.90     91658\n",
      "   macro avg       0.90      0.91      0.90     91658\n",
      "weighted avg       0.90      0.90      0.90     91658\n",
      "\n"
     ]
    }
   ],
   "source": [
    "print(\"Classification Report: \", classification_report(test, pred))"
   ]
  },
  {
   "cell_type": "markdown",
   "metadata": {
    "id": "vTWn9w2kh8gw"
   },
   "source": [
    "# **Word2Vec Model**"
   ]
  },
  {
   "cell_type": "code",
   "execution_count": 29,
   "metadata": {
    "colab": {
     "base_uri": "https://localhost:8080/"
    },
    "id": "BT7Cc9c7iAmk",
    "outputId": "e08268de-02bf-422a-afb3-eca22c6406f3"
   },
   "outputs": [
    {
     "name": "stdout",
     "output_type": "stream",
     "text": [
      "Word2Vec Model Initialization...\n",
      "Vocabulary Length: 37148\n"
     ]
    }
   ],
   "source": [
    "word2vec = Word2VecModel()\n",
    "word2vec_model = word2vec.create_model(X_train)"
   ]
  },
  {
   "cell_type": "code",
   "execution_count": 30,
   "metadata": {
    "colab": {
     "base_uri": "https://localhost:8080/"
    },
    "id": "0TAGO-E2iinq",
    "outputId": "e56af307-2111-4610-f8b5-b8d5f5413cae"
   },
   "outputs": [
    {
     "name": "stdout",
     "output_type": "stream",
     "text": [
      "After Tokenization and Padding...\n",
      "The shape of train data:  (824917, 60)\n",
      "The shape of test data:  (91658, 60)\n"
     ]
    }
   ],
   "source": [
    "train_converted, test_converted, tokenizer = util.tokenization_padding_oov_token(X_train, X_test, 60)\n",
    "print(\"After Tokenization and Padding...\")\n",
    "print(\"The shape of train data: \", train_converted.shape)\n",
    "print(\"The shape of test data: \", test_converted.shape)"
   ]
  },
  {
   "cell_type": "code",
   "execution_count": 31,
   "metadata": {
    "colab": {
     "base_uri": "https://localhost:8080/"
    },
    "id": "qFhdBqhUim8C",
    "outputId": "2c19ec8e-de50-48d6-cee0-c0f62accd9c0"
   },
   "outputs": [
    {
     "name": "stdout",
     "output_type": "stream",
     "text": [
      "Embedding Matrix Shape: (170216, 100)\n"
     ]
    }
   ],
   "source": [
    "vocab_length = len(tokenizer.word_index) + 1\n",
    "embedding_matrix = word2vec.create_embedding_matrix(vocab_length, tokenizer, word2vec_model)"
   ]
  },
  {
   "cell_type": "markdown",
   "metadata": {
    "id": "70X3KiMtw0-E"
   },
   "source": [
    "# **BiLSTM**"
   ]
  },
  {
   "cell_type": "code",
   "execution_count": 32,
   "metadata": {
    "colab": {
     "base_uri": "https://localhost:8080/"
    },
    "id": "iuFYQwNfiqGI",
    "outputId": "6173a73f-b2d3-4296-e205-81c26b44724f"
   },
   "outputs": [
    {
     "name": "stdout",
     "output_type": "stream",
     "text": [
      "BiLSTM Model Initialization...\n",
      "Model Created Successfully...\n",
      "Model: \"sequential_2\"\n",
      "_________________________________________________________________\n",
      "Layer (type)                 Output Shape              Param #   \n",
      "=================================================================\n",
      "embedding_2 (Embedding)      (None, 60, 100)           17021600  \n",
      "_________________________________________________________________\n",
      "bidirectional (Bidirectional (None, 60, 200)           160800    \n",
      "_________________________________________________________________\n",
      "bidirectional_1 (Bidirection (None, 60, 200)           240800    \n",
      "_________________________________________________________________\n",
      "conv1d_1 (Conv1D)            (None, 56, 100)           100100    \n",
      "_________________________________________________________________\n",
      "global_max_pooling1d_1 (Glob (None, 100)               0         \n",
      "_________________________________________________________________\n",
      "dense_2 (Dense)              (None, 16)                1616      \n",
      "_________________________________________________________________\n",
      "dense_3 (Dense)              (None, 3)                 51        \n",
      "=================================================================\n",
      "Total params: 17,524,967\n",
      "Trainable params: 503,367\n",
      "Non-trainable params: 17,021,600\n",
      "_________________________________________________________________\n"
     ]
    }
   ],
   "source": [
    "bi_lstm = BiLSTM_Model()\n",
    "model = bi_lstm.create_model(embed_dim = 100, lstm_out = 100, input_len = train_converted.shape[1], \n",
    "                             feature = vocab_length, drop_out = 0.3, embedding_matrix = embedding_matrix)\n",
    "model.summary()"
   ]
  },
  {
   "cell_type": "code",
   "execution_count": 33,
   "metadata": {
    "colab": {
     "base_uri": "https://localhost:8080/"
    },
    "id": "e_VNKixm0DqM",
    "outputId": "f18352b6-8dc0-471c-f9cb-14d16f561ad9"
   },
   "outputs": [
    {
     "name": "stdout",
     "output_type": "stream",
     "text": [
      "Epoch 1/30\n",
      "726/726 [==============================] - 92s 120ms/step - loss: 0.4126 - acc: 0.8208 - val_loss: 0.2387 - val_acc: 0.8946\n",
      "\n",
      "Epoch 00001: val_loss improved from inf to 0.23872, saving model to /content/drive/MyDrive/DeepLearning/checkpoints/BiLSTM/\n"
     ]
    },
    {
     "name": "stderr",
     "output_type": "stream",
     "text": [
      "WARNING:absl:Found untraced functions such as lstm_cell_3_layer_call_fn, lstm_cell_3_layer_call_and_return_conditional_losses, lstm_cell_4_layer_call_fn, lstm_cell_4_layer_call_and_return_conditional_losses, lstm_cell_6_layer_call_fn while saving (showing 5 of 20). These functions will not be directly callable after loading.\n",
      "WARNING:absl:Found untraced functions such as lstm_cell_3_layer_call_fn, lstm_cell_3_layer_call_and_return_conditional_losses, lstm_cell_4_layer_call_fn, lstm_cell_4_layer_call_and_return_conditional_losses, lstm_cell_6_layer_call_fn while saving (showing 5 of 20). These functions will not be directly callable after loading.\n"
     ]
    },
    {
     "name": "stdout",
     "output_type": "stream",
     "text": [
      "INFO:tensorflow:Assets written to: /content/drive/MyDrive/DeepLearning/checkpoints/BiLSTM/assets\n"
     ]
    },
    {
     "name": "stderr",
     "output_type": "stream",
     "text": [
      "INFO:tensorflow:Assets written to: /content/drive/MyDrive/DeepLearning/checkpoints/BiLSTM/assets\n"
     ]
    },
    {
     "name": "stdout",
     "output_type": "stream",
     "text": [
      "Epoch 2/30\n",
      "726/726 [==============================] - 86s 118ms/step - loss: 0.2471 - acc: 0.8906 - val_loss: 0.2348 - val_acc: 0.8963\n",
      "\n",
      "Epoch 00002: val_loss improved from 0.23872 to 0.23482, saving model to /content/drive/MyDrive/DeepLearning/checkpoints/BiLSTM/\n"
     ]
    },
    {
     "name": "stderr",
     "output_type": "stream",
     "text": [
      "WARNING:absl:Found untraced functions such as lstm_cell_3_layer_call_fn, lstm_cell_3_layer_call_and_return_conditional_losses, lstm_cell_4_layer_call_fn, lstm_cell_4_layer_call_and_return_conditional_losses, lstm_cell_6_layer_call_fn while saving (showing 5 of 20). These functions will not be directly callable after loading.\n",
      "WARNING:absl:Found untraced functions such as lstm_cell_3_layer_call_fn, lstm_cell_3_layer_call_and_return_conditional_losses, lstm_cell_4_layer_call_fn, lstm_cell_4_layer_call_and_return_conditional_losses, lstm_cell_6_layer_call_fn while saving (showing 5 of 20). These functions will not be directly callable after loading.\n"
     ]
    },
    {
     "name": "stdout",
     "output_type": "stream",
     "text": [
      "INFO:tensorflow:Assets written to: /content/drive/MyDrive/DeepLearning/checkpoints/BiLSTM/assets\n"
     ]
    },
    {
     "name": "stderr",
     "output_type": "stream",
     "text": [
      "INFO:tensorflow:Assets written to: /content/drive/MyDrive/DeepLearning/checkpoints/BiLSTM/assets\n"
     ]
    },
    {
     "name": "stdout",
     "output_type": "stream",
     "text": [
      "Epoch 3/30\n",
      "726/726 [==============================] - 86s 118ms/step - loss: 0.2378 - acc: 0.8941 - val_loss: 0.2334 - val_acc: 0.8968\n",
      "\n",
      "Epoch 00003: val_loss improved from 0.23482 to 0.23337, saving model to /content/drive/MyDrive/DeepLearning/checkpoints/BiLSTM/\n"
     ]
    },
    {
     "name": "stderr",
     "output_type": "stream",
     "text": [
      "WARNING:absl:Found untraced functions such as lstm_cell_3_layer_call_fn, lstm_cell_3_layer_call_and_return_conditional_losses, lstm_cell_4_layer_call_fn, lstm_cell_4_layer_call_and_return_conditional_losses, lstm_cell_6_layer_call_fn while saving (showing 5 of 20). These functions will not be directly callable after loading.\n",
      "WARNING:absl:Found untraced functions such as lstm_cell_3_layer_call_fn, lstm_cell_3_layer_call_and_return_conditional_losses, lstm_cell_4_layer_call_fn, lstm_cell_4_layer_call_and_return_conditional_losses, lstm_cell_6_layer_call_fn while saving (showing 5 of 20). These functions will not be directly callable after loading.\n"
     ]
    },
    {
     "name": "stdout",
     "output_type": "stream",
     "text": [
      "INFO:tensorflow:Assets written to: /content/drive/MyDrive/DeepLearning/checkpoints/BiLSTM/assets\n"
     ]
    },
    {
     "name": "stderr",
     "output_type": "stream",
     "text": [
      "INFO:tensorflow:Assets written to: /content/drive/MyDrive/DeepLearning/checkpoints/BiLSTM/assets\n"
     ]
    },
    {
     "name": "stdout",
     "output_type": "stream",
     "text": [
      "Epoch 4/30\n",
      "726/726 [==============================] - 86s 118ms/step - loss: 0.2324 - acc: 0.8957 - val_loss: 0.2317 - val_acc: 0.8976\n",
      "\n",
      "Epoch 00004: val_loss improved from 0.23337 to 0.23167, saving model to /content/drive/MyDrive/DeepLearning/checkpoints/BiLSTM/\n"
     ]
    },
    {
     "name": "stderr",
     "output_type": "stream",
     "text": [
      "WARNING:absl:Found untraced functions such as lstm_cell_3_layer_call_fn, lstm_cell_3_layer_call_and_return_conditional_losses, lstm_cell_4_layer_call_fn, lstm_cell_4_layer_call_and_return_conditional_losses, lstm_cell_6_layer_call_fn while saving (showing 5 of 20). These functions will not be directly callable after loading.\n",
      "WARNING:absl:Found untraced functions such as lstm_cell_3_layer_call_fn, lstm_cell_3_layer_call_and_return_conditional_losses, lstm_cell_4_layer_call_fn, lstm_cell_4_layer_call_and_return_conditional_losses, lstm_cell_6_layer_call_fn while saving (showing 5 of 20). These functions will not be directly callable after loading.\n"
     ]
    },
    {
     "name": "stdout",
     "output_type": "stream",
     "text": [
      "INFO:tensorflow:Assets written to: /content/drive/MyDrive/DeepLearning/checkpoints/BiLSTM/assets\n"
     ]
    },
    {
     "name": "stderr",
     "output_type": "stream",
     "text": [
      "INFO:tensorflow:Assets written to: /content/drive/MyDrive/DeepLearning/checkpoints/BiLSTM/assets\n"
     ]
    },
    {
     "name": "stdout",
     "output_type": "stream",
     "text": [
      "Epoch 5/30\n",
      "726/726 [==============================] - 86s 118ms/step - loss: 0.2292 - acc: 0.8982 - val_loss: 0.2276 - val_acc: 0.8987\n",
      "\n",
      "Epoch 00005: val_loss improved from 0.23167 to 0.22761, saving model to /content/drive/MyDrive/DeepLearning/checkpoints/BiLSTM/\n"
     ]
    },
    {
     "name": "stderr",
     "output_type": "stream",
     "text": [
      "WARNING:absl:Found untraced functions such as lstm_cell_3_layer_call_fn, lstm_cell_3_layer_call_and_return_conditional_losses, lstm_cell_4_layer_call_fn, lstm_cell_4_layer_call_and_return_conditional_losses, lstm_cell_6_layer_call_fn while saving (showing 5 of 20). These functions will not be directly callable after loading.\n",
      "WARNING:absl:Found untraced functions such as lstm_cell_3_layer_call_fn, lstm_cell_3_layer_call_and_return_conditional_losses, lstm_cell_4_layer_call_fn, lstm_cell_4_layer_call_and_return_conditional_losses, lstm_cell_6_layer_call_fn while saving (showing 5 of 20). These functions will not be directly callable after loading.\n"
     ]
    },
    {
     "name": "stdout",
     "output_type": "stream",
     "text": [
      "INFO:tensorflow:Assets written to: /content/drive/MyDrive/DeepLearning/checkpoints/BiLSTM/assets\n"
     ]
    },
    {
     "name": "stderr",
     "output_type": "stream",
     "text": [
      "INFO:tensorflow:Assets written to: /content/drive/MyDrive/DeepLearning/checkpoints/BiLSTM/assets\n"
     ]
    },
    {
     "name": "stdout",
     "output_type": "stream",
     "text": [
      "Epoch 6/30\n",
      "726/726 [==============================] - 86s 118ms/step - loss: 0.2269 - acc: 0.8989 - val_loss: 0.2253 - val_acc: 0.9000\n",
      "\n",
      "Epoch 00006: val_loss improved from 0.22761 to 0.22527, saving model to /content/drive/MyDrive/DeepLearning/checkpoints/BiLSTM/\n"
     ]
    },
    {
     "name": "stderr",
     "output_type": "stream",
     "text": [
      "WARNING:absl:Found untraced functions such as lstm_cell_3_layer_call_fn, lstm_cell_3_layer_call_and_return_conditional_losses, lstm_cell_4_layer_call_fn, lstm_cell_4_layer_call_and_return_conditional_losses, lstm_cell_6_layer_call_fn while saving (showing 5 of 20). These functions will not be directly callable after loading.\n",
      "WARNING:absl:Found untraced functions such as lstm_cell_3_layer_call_fn, lstm_cell_3_layer_call_and_return_conditional_losses, lstm_cell_4_layer_call_fn, lstm_cell_4_layer_call_and_return_conditional_losses, lstm_cell_6_layer_call_fn while saving (showing 5 of 20). These functions will not be directly callable after loading.\n"
     ]
    },
    {
     "name": "stdout",
     "output_type": "stream",
     "text": [
      "INFO:tensorflow:Assets written to: /content/drive/MyDrive/DeepLearning/checkpoints/BiLSTM/assets\n"
     ]
    },
    {
     "name": "stderr",
     "output_type": "stream",
     "text": [
      "INFO:tensorflow:Assets written to: /content/drive/MyDrive/DeepLearning/checkpoints/BiLSTM/assets\n"
     ]
    },
    {
     "name": "stdout",
     "output_type": "stream",
     "text": [
      "Epoch 7/30\n",
      "726/726 [==============================] - 86s 118ms/step - loss: 0.2245 - acc: 0.8995 - val_loss: 0.2265 - val_acc: 0.8999\n",
      "\n",
      "Epoch 00007: val_loss did not improve from 0.22527\n",
      "Epoch 8/30\n",
      "726/726 [==============================] - 86s 118ms/step - loss: 0.2236 - acc: 0.9001 - val_loss: 0.2244 - val_acc: 0.9006\n",
      "\n",
      "Epoch 00008: val_loss improved from 0.22527 to 0.22441, saving model to /content/drive/MyDrive/DeepLearning/checkpoints/BiLSTM/\n"
     ]
    },
    {
     "name": "stderr",
     "output_type": "stream",
     "text": [
      "WARNING:absl:Found untraced functions such as lstm_cell_3_layer_call_fn, lstm_cell_3_layer_call_and_return_conditional_losses, lstm_cell_4_layer_call_fn, lstm_cell_4_layer_call_and_return_conditional_losses, lstm_cell_6_layer_call_fn while saving (showing 5 of 20). These functions will not be directly callable after loading.\n",
      "WARNING:absl:Found untraced functions such as lstm_cell_3_layer_call_fn, lstm_cell_3_layer_call_and_return_conditional_losses, lstm_cell_4_layer_call_fn, lstm_cell_4_layer_call_and_return_conditional_losses, lstm_cell_6_layer_call_fn while saving (showing 5 of 20). These functions will not be directly callable after loading.\n"
     ]
    },
    {
     "name": "stdout",
     "output_type": "stream",
     "text": [
      "INFO:tensorflow:Assets written to: /content/drive/MyDrive/DeepLearning/checkpoints/BiLSTM/assets\n"
     ]
    },
    {
     "name": "stderr",
     "output_type": "stream",
     "text": [
      "INFO:tensorflow:Assets written to: /content/drive/MyDrive/DeepLearning/checkpoints/BiLSTM/assets\n"
     ]
    },
    {
     "name": "stdout",
     "output_type": "stream",
     "text": [
      "Epoch 9/30\n",
      "726/726 [==============================] - 86s 118ms/step - loss: 0.2210 - acc: 0.9014 - val_loss: 0.2244 - val_acc: 0.9006\n",
      "\n",
      "Epoch 00009: val_loss did not improve from 0.22441\n",
      "Epoch 10/30\n",
      "726/726 [==============================] - 86s 118ms/step - loss: 0.2196 - acc: 0.9018 - val_loss: 0.2228 - val_acc: 0.9008\n",
      "\n",
      "Epoch 00010: val_loss improved from 0.22441 to 0.22280, saving model to /content/drive/MyDrive/DeepLearning/checkpoints/BiLSTM/\n"
     ]
    },
    {
     "name": "stderr",
     "output_type": "stream",
     "text": [
      "WARNING:absl:Found untraced functions such as lstm_cell_3_layer_call_fn, lstm_cell_3_layer_call_and_return_conditional_losses, lstm_cell_4_layer_call_fn, lstm_cell_4_layer_call_and_return_conditional_losses, lstm_cell_6_layer_call_fn while saving (showing 5 of 20). These functions will not be directly callable after loading.\n",
      "WARNING:absl:Found untraced functions such as lstm_cell_3_layer_call_fn, lstm_cell_3_layer_call_and_return_conditional_losses, lstm_cell_4_layer_call_fn, lstm_cell_4_layer_call_and_return_conditional_losses, lstm_cell_6_layer_call_fn while saving (showing 5 of 20). These functions will not be directly callable after loading.\n"
     ]
    },
    {
     "name": "stdout",
     "output_type": "stream",
     "text": [
      "INFO:tensorflow:Assets written to: /content/drive/MyDrive/DeepLearning/checkpoints/BiLSTM/assets\n"
     ]
    },
    {
     "name": "stderr",
     "output_type": "stream",
     "text": [
      "INFO:tensorflow:Assets written to: /content/drive/MyDrive/DeepLearning/checkpoints/BiLSTM/assets\n"
     ]
    },
    {
     "name": "stdout",
     "output_type": "stream",
     "text": [
      "Epoch 11/30\n",
      "726/726 [==============================] - 86s 118ms/step - loss: 0.2191 - acc: 0.9020 - val_loss: 0.2233 - val_acc: 0.9015\n",
      "\n",
      "Epoch 00011: val_loss did not improve from 0.22280\n",
      "Epoch 12/30\n",
      "726/726 [==============================] - 86s 118ms/step - loss: 0.2170 - acc: 0.9030 - val_loss: 0.2221 - val_acc: 0.9016\n",
      "\n",
      "Epoch 00012: val_loss improved from 0.22280 to 0.22208, saving model to /content/drive/MyDrive/DeepLearning/checkpoints/BiLSTM/\n"
     ]
    },
    {
     "name": "stderr",
     "output_type": "stream",
     "text": [
      "WARNING:absl:Found untraced functions such as lstm_cell_3_layer_call_fn, lstm_cell_3_layer_call_and_return_conditional_losses, lstm_cell_4_layer_call_fn, lstm_cell_4_layer_call_and_return_conditional_losses, lstm_cell_6_layer_call_fn while saving (showing 5 of 20). These functions will not be directly callable after loading.\n",
      "WARNING:absl:Found untraced functions such as lstm_cell_3_layer_call_fn, lstm_cell_3_layer_call_and_return_conditional_losses, lstm_cell_4_layer_call_fn, lstm_cell_4_layer_call_and_return_conditional_losses, lstm_cell_6_layer_call_fn while saving (showing 5 of 20). These functions will not be directly callable after loading.\n"
     ]
    },
    {
     "name": "stdout",
     "output_type": "stream",
     "text": [
      "INFO:tensorflow:Assets written to: /content/drive/MyDrive/DeepLearning/checkpoints/BiLSTM/assets\n"
     ]
    },
    {
     "name": "stderr",
     "output_type": "stream",
     "text": [
      "INFO:tensorflow:Assets written to: /content/drive/MyDrive/DeepLearning/checkpoints/BiLSTM/assets\n"
     ]
    },
    {
     "name": "stdout",
     "output_type": "stream",
     "text": [
      "Epoch 13/30\n",
      "726/726 [==============================] - 87s 119ms/step - loss: 0.2150 - acc: 0.9042 - val_loss: 0.2256 - val_acc: 0.9005\n",
      "\n",
      "Epoch 00013: val_loss did not improve from 0.22208\n",
      "Epoch 14/30\n",
      "726/726 [==============================] - 86s 119ms/step - loss: 0.2134 - acc: 0.9050 - val_loss: 0.2241 - val_acc: 0.9015\n",
      "\n",
      "Epoch 00014: val_loss did not improve from 0.22208\n",
      "Epoch 15/30\n",
      "726/726 [==============================] - 86s 119ms/step - loss: 0.2130 - acc: 0.9049 - val_loss: 0.2224 - val_acc: 0.9018\n",
      "\n",
      "Epoch 00015: val_loss did not improve from 0.22208\n",
      "Epoch 16/30\n",
      "726/726 [==============================] - 86s 118ms/step - loss: 0.2108 - acc: 0.9062 - val_loss: 0.2231 - val_acc: 0.9012\n",
      "\n",
      "Epoch 00016: val_loss did not improve from 0.22208\n",
      "Epoch 17/30\n",
      "726/726 [==============================] - 86s 118ms/step - loss: 0.2092 - acc: 0.9069 - val_loss: 0.2229 - val_acc: 0.9016\n",
      "\n",
      "Epoch 00017: val_loss did not improve from 0.22208\n"
     ]
    }
   ],
   "source": [
    "history = model.fit(train_converted, target_converted_train, batch_size=BATCH_SIZE, epochs=EPOCH,\n",
    "                    validation_split=0.1, callbacks=bi_lstm.callbacks, verbose=1)"
   ]
  },
  {
   "cell_type": "markdown",
   "metadata": {
    "id": "WDDfiF1m2Ghr"
   },
   "source": [
    "# **Evaluation**"
   ]
  },
  {
   "cell_type": "code",
   "execution_count": 34,
   "metadata": {
    "colab": {
     "base_uri": "https://localhost:8080/"
    },
    "id": "_nwt8aYA2cqX",
    "outputId": "9e33d3ea-8b25-4f49-dc73-eca0d796a6c0"
   },
   "outputs": [
    {
     "name": "stdout",
     "output_type": "stream",
     "text": [
      "Model: \"sequential_2\"\n",
      "_________________________________________________________________\n",
      "Layer (type)                 Output Shape              Param #   \n",
      "=================================================================\n",
      "embedding_2 (Embedding)      (None, 60, 100)           17021600  \n",
      "_________________________________________________________________\n",
      "bidirectional (Bidirectional (None, 60, 200)           160800    \n",
      "_________________________________________________________________\n",
      "bidirectional_1 (Bidirection (None, 60, 200)           240800    \n",
      "_________________________________________________________________\n",
      "conv1d_1 (Conv1D)            (None, 56, 100)           100100    \n",
      "_________________________________________________________________\n",
      "global_max_pooling1d_1 (Glob (None, 100)               0         \n",
      "_________________________________________________________________\n",
      "dense_2 (Dense)              (None, 16)                1616      \n",
      "_________________________________________________________________\n",
      "dense_3 (Dense)              (None, 3)                 51        \n",
      "=================================================================\n",
      "Total params: 17,524,967\n",
      "Trainable params: 17,524,967\n",
      "Non-trainable params: 0\n",
      "_________________________________________________________________\n",
      "None\n"
     ]
    }
   ],
   "source": [
    "model = bi_lstm.load_saved_model()\n",
    "print(model.summary())"
   ]
  },
  {
   "cell_type": "code",
   "execution_count": 35,
   "metadata": {
    "colab": {
     "base_uri": "https://localhost:8080/"
    },
    "id": "V6hePvUv8F77",
    "outputId": "8e2058dd-cf13-49c0-bba1-9bf02be4405d"
   },
   "outputs": [
    {
     "name": "stdout",
     "output_type": "stream",
     "text": [
      "90/90 - 5s - loss: 0.2210 - acc: 0.9023\n",
      "The loss of this model: 0.22\n",
      "The accuracy of this model: 0.90\n"
     ]
    }
   ],
   "source": [
    "score, acc = model.evaluate(test_converted, target_converted_test, verbose = 2, batch_size = BATCH_SIZE)\n",
    "print(\"The loss of this model: %.2f\" % (score))\n",
    "print(\"The accuracy of this model: %.2f\" % (acc))"
   ]
  },
  {
   "cell_type": "code",
   "execution_count": 36,
   "metadata": {
    "colab": {
     "base_uri": "https://localhost:8080/",
     "height": 500
    },
    "id": "WU8XVaL_2Ghs",
    "outputId": "f0539fb7-5fb3-4f06-ca5a-acabf458f249"
   },
   "outputs": [
    {
     "data": {
      "image/png": "[encoded data removed]",
      "text/plain": [
       "<Figure size 1080x576 with 2 Axes>"
      ]
     },
     "metadata": {
      "tags": []
     },
     "output_type": "display_data"
    }
   ],
   "source": [
    "util.plot_accuracy_loss(history, 'BiLSTM')"
   ]
  },
  {
   "cell_type": "markdown",
   "metadata": {
    "id": "QCDslDeU2YyX"
   },
   "source": [
    "# **Prediction** "
   ]
  },
  {
   "cell_type": "code",
   "execution_count": 37,
   "metadata": {
    "id": "p0ESOLwC2YyY"
   },
   "outputs": [],
   "source": [
    "y_pred = model.predict(test_converted)"
   ]
  },
  {
   "cell_type": "code",
   "execution_count": 38,
   "metadata": {
    "colab": {
     "base_uri": "https://localhost:8080/",
     "height": 459
    },
    "id": "q5qmWSKY2YyZ",
    "outputId": "e9c172f0-313f-4ecb-931c-5ba78e4ca4d0"
   },
   "outputs": [
    {
     "name": "stdout",
     "output_type": "stream",
     "text": [
      "Confusion Matrix: \n",
      " [[27832  4503  1297]\n",
      " [ 2071 26605   623]\n",
      " [  196   264 28267]]\n"
     ]
    },
    {
     "data": {
      "image/png": "[encoded data removed]",
      "text/plain": [
       "<Figure size 864x432 with 2 Axes>"
      ]
     },
     "metadata": {
      "tags": []
     },
     "output_type": "display_data"
    }
   ],
   "source": [
    "test, pred = util.plot_confusion_matrix(y_pred, target_converted_test, 'BiLSTM')"
   ]
  },
  {
   "cell_type": "code",
   "execution_count": 39,
   "metadata": {
    "colab": {
     "base_uri": "https://localhost:8080/"
    },
    "id": "7svgO38x2Yya",
    "outputId": "56b1c657-c2c5-4426-9ef6-38b43f59d166"
   },
   "outputs": [
    {
     "name": "stdout",
     "output_type": "stream",
     "text": [
      "Classification Report:                precision    recall  f1-score   support\n",
      "\n",
      "           0       0.92      0.83      0.87     33632\n",
      "           1       0.85      0.91      0.88     29299\n",
      "           2       0.94      0.98      0.96     28727\n",
      "\n",
      "    accuracy                           0.90     91658\n",
      "   macro avg       0.90      0.91      0.90     91658\n",
      "weighted avg       0.90      0.90      0.90     91658\n",
      "\n"
     ]
    }
   ],
   "source": [
    "print(\"Classification Report: \", classification_report(test, pred))"
   ]
  }
 ],
 "metadata": {
  "accelerator": "GPU",
  "colab": {
   "collapsed_sections": [],
   "name": "Deep_Learning_models.ipynb",
   "provenance": []
  },
  "kernelspec": {
   "display_name": "Python 3",
   "language": "python",
   "name": "python3"
  },
  "language_info": {
   "codemirror_mode": {
    "name": "ipython",
    "version": 3
   },
   "file_extension": ".py",
   "mimetype": "text/x-python",
   "name": "python",
   "nbconvert_exporter": "python",
   "pygments_lexer": "ipython3",
   "version": "3.8.3"
  }
 },
 "nbformat": 4,
 "nbformat_minor": 1
}
