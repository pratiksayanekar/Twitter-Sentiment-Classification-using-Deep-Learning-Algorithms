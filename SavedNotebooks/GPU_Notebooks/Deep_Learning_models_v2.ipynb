{
 "cells": [
  {
   "cell_type": "code",
   "execution_count": 1,
   "metadata": {
    "executionInfo": {
     "elapsed": 4561,
     "status": "ok",
     "timestamp": 1618442562521,
     "user": {
      "displayName": "Pratik Pundlik Sayanekar",
      "photoUrl": "",
      "userId": "12868587701793367447"
     },
     "user_tz": -60
    },
    "id": "KdFoTLXsDESF"
   },
   "outputs": [],
   "source": [
    "! pip install -q scikit-plot"
   ]
  },
  {
   "cell_type": "markdown",
   "metadata": {
    "id": "hSvj9uTMxqr9"
   },
   "source": [
    "# **Import**"
   ]
  },
  {
   "cell_type": "code",
   "execution_count": 2,
   "metadata": {
    "executionInfo": {
     "elapsed": 4557,
     "status": "ok",
     "timestamp": 1618442562522,
     "user": {
      "displayName": "Pratik Pundlik Sayanekar",
      "photoUrl": "",
      "userId": "12868587701793367447"
     },
     "user_tz": -60
    },
    "id": "1WmEmhR_xjpa"
   },
   "outputs": [],
   "source": [
    "import pandas as pd\n",
    "pd.set_option('display.max_colwidth', None)\n",
    "import string"
   ]
  },
  {
   "cell_type": "code",
   "execution_count": 3,
   "metadata": {
    "executionInfo": {
     "elapsed": 4556,
     "status": "ok",
     "timestamp": 1618442562524,
     "user": {
      "displayName": "Pratik Pundlik Sayanekar",
      "photoUrl": "",
      "userId": "12868587701793367447"
     },
     "user_tz": -60
    },
    "id": "rg7gU6mg9Npu"
   },
   "outputs": [],
   "source": [
    "import sys\n",
    "filePath = '/Users/pratiksayanekar/Documents/DL_20200161'\n",
    "#filePath = '/content/drive/My Drive/DeepLearning'\n",
    "sys.path.append(filePath)"
   ]
  },
  {
   "cell_type": "code",
   "execution_count": 62,
   "metadata": {
    "executionInfo": {
     "elapsed": 10327,
     "status": "ok",
     "timestamp": 1618442568296,
     "user": {
      "displayName": "Pratik Pundlik Sayanekar",
      "photoUrl": "",
      "userId": "12868587701793367447"
     },
     "user_tz": -60
    },
    "id": "NMwa3-Yl4LoD"
   },
   "outputs": [],
   "source": [
    "from utils.basic_utilities import Utils\n",
    "from models.LSTM_1 import LSTM_Model\n",
    "from models.CNN_1 import CNN_Model\n",
    "from models.Word2Vec_1 import Word2VecModel\n",
    "from models.BiLSTM import BiLSTM_Model"
   ]
  },
  {
   "cell_type": "code",
   "execution_count": 5,
   "metadata": {
    "executionInfo": {
     "elapsed": 10326,
     "status": "ok",
     "timestamp": 1618442568297,
     "user": {
      "displayName": "Pratik Pundlik Sayanekar",
      "photoUrl": "",
      "userId": "12868587701793367447"
     },
     "user_tz": -60
    },
    "id": "fdPZR-STw0WL"
   },
   "outputs": [],
   "source": [
    "from sklearn.metrics import classification_report"
   ]
  },
  {
   "cell_type": "markdown",
   "metadata": {
    "id": "qE2K-FxWxvhc"
   },
   "source": [
    "# **Reading Preprocessed Data**"
   ]
  },
  {
   "cell_type": "code",
   "execution_count": 6,
   "metadata": {
    "colab": {
     "base_uri": "https://localhost:8080/",
     "height": 306
    },
    "executionInfo": {
     "elapsed": 15999,
     "status": "ok",
     "timestamp": 1618442574059,
     "user": {
      "displayName": "Pratik Pundlik Sayanekar",
      "photoUrl": "",
      "userId": "12868587701793367447"
     },
     "user_tz": -60
    },
    "id": "VJTB3726xu68",
    "outputId": "cc70fcbc-5dac-4d5c-8d69-60c6f941c7dd"
   },
   "outputs": [
    {
     "data": {
      "text/html": [
       "<div>\n",
       "<style scoped>\n",
       "    .dataframe tbody tr th:only-of-type {\n",
       "        vertical-align: middle;\n",
       "    }\n",
       "\n",
       "    .dataframe tbody tr th {\n",
       "        vertical-align: top;\n",
       "    }\n",
       "\n",
       "    .dataframe thead th {\n",
       "        text-align: right;\n",
       "    }\n",
       "</style>\n",
       "<table border=\"1\" class=\"dataframe\">\n",
       "  <thead>\n",
       "    <tr style=\"text-align: right;\">\n",
       "      <th></th>\n",
       "      <th>emotion</th>\n",
       "      <th>content</th>\n",
       "      <th>original_content</th>\n",
       "      <th>text</th>\n",
       "    </tr>\n",
       "  </thead>\n",
       "  <tbody>\n",
       "    <tr>\n",
       "      <th>0</th>\n",
       "      <td>disappointed</td>\n",
       "      <td>oh fuck did i wrote fil grinningfacewithsweat nsorry spot disappointedface</td>\n",
       "      <td>b'RT @Davbingodav: @mcrackins Oh fuck.... did I wrote Fil ??? :grinning_face_with_sweat:\\nSorry Spot. :disappointed_face:'</td>\n",
       "      <td>rt oh fuck wrote fil grinning_face_with_sweatnsorry spot isappointed_face</td>\n",
       "    </tr>\n",
       "    <tr>\n",
       "      <th>1</th>\n",
       "      <td>disappointed</td>\n",
       "      <td>i feel nor am i shamed by it</td>\n",
       "      <td>i feel nor am i shamed by it</td>\n",
       "      <td>feel shamed</td>\n",
       "    </tr>\n",
       "    <tr>\n",
       "      <th>2</th>\n",
       "      <td>disappointed</td>\n",
       "      <td>i had been feeling a little bit defeated by the step of faith we would need to take to try to resolve our problem</td>\n",
       "      <td>i had been feeling a little bit defeated by the steps of faith we would need to take to try to resolve our problem</td>\n",
       "      <td>feeling little bit defeated steps faith need try resolve problem</td>\n",
       "    </tr>\n",
       "    <tr>\n",
       "      <th>3</th>\n",
       "      <td>happy</td>\n",
       "      <td>imagine if that reaction guy that called jj kfc saw this my man would ve started cry lmao</td>\n",
       "      <td>b\"@KSIOlajidebt imagine if that reaction guy that called JJ KFC saw this. my man would've started crying lmao \"</td>\n",
       "      <td>imagine reaction guy called jj kfc saw man ve started crying lmao</td>\n",
       "    </tr>\n",
       "    <tr>\n",
       "      <th>4</th>\n",
       "      <td>disappointed</td>\n",
       "      <td>i wouldnt feel burdened so that i would live my life a a testament to his sacrifice that wa out of a love so pure and innocent yet so great and mighty</td>\n",
       "      <td>i wouldnt feel burdened so that i would live my life as a testament to his sacrifice that was out of a love so pure and innocent yet so great and mighty</td>\n",
       "      <td>wouldnt feel burdened live life testament sacrifice love pure innocent great mighty</td>\n",
       "    </tr>\n",
       "  </tbody>\n",
       "</table>\n",
       "</div>"
      ],
      "text/plain": [
       "        emotion  \\\n",
       "0  disappointed   \n",
       "1  disappointed   \n",
       "2  disappointed   \n",
       "3         happy   \n",
       "4  disappointed   \n",
       "\n",
       "                                                                                                                                                  content  \\\n",
       "0                                                                              oh fuck did i wrote fil grinningfacewithsweat nsorry spot disappointedface   \n",
       "1                                                                                                                            i feel nor am i shamed by it   \n",
       "2                                       i had been feeling a little bit defeated by the step of faith we would need to take to try to resolve our problem   \n",
       "3                                                               imagine if that reaction guy that called jj kfc saw this my man would ve started cry lmao   \n",
       "4  i wouldnt feel burdened so that i would live my life a a testament to his sacrifice that wa out of a love so pure and innocent yet so great and mighty   \n",
       "\n",
       "                                                                                                                                           original_content  \\\n",
       "0                                b'RT @Davbingodav: @mcrackins Oh fuck.... did I wrote Fil ??? :grinning_face_with_sweat:\\nSorry Spot. :disappointed_face:'   \n",
       "1                                                                                                                              i feel nor am i shamed by it   \n",
       "2                                        i had been feeling a little bit defeated by the steps of faith we would need to take to try to resolve our problem   \n",
       "3                                           b\"@KSIOlajidebt imagine if that reaction guy that called JJ KFC saw this. my man would've started crying lmao \"   \n",
       "4  i wouldnt feel burdened so that i would live my life as a testament to his sacrifice that was out of a love so pure and innocent yet so great and mighty   \n",
       "\n",
       "                                                                                  text  \n",
       "0            rt oh fuck wrote fil grinning_face_with_sweatnsorry spot isappointed_face  \n",
       "1                                                                          feel shamed  \n",
       "2                     feeling little bit defeated steps faith need try resolve problem  \n",
       "3                    imagine reaction guy called jj kfc saw man ve started crying lmao  \n",
       "4  wouldnt feel burdened live life testament sacrifice love pure innocent great mighty  "
      ]
     },
     "execution_count": 6,
     "metadata": {},
     "output_type": "execute_result"
    }
   ],
   "source": [
    "#df = pd.read_csv('/content/drive/MyDrive/DeepLearning/Data/preprocessed_data.csv')\n",
    "df = pd.read_csv('{}/Data/preprocessed_data.csv'.format(filePath))\n",
    "df.head()"
   ]
  },
  {
   "cell_type": "code",
   "execution_count": 7,
   "metadata": {
    "executionInfo": {
     "elapsed": 15998,
     "status": "ok",
     "timestamp": 1618442574060,
     "user": {
      "displayName": "Pratik Pundlik Sayanekar",
      "photoUrl": "",
      "userId": "12868587701793367447"
     },
     "user_tz": -60
    },
    "id": "enPDPec5I2Zu"
   },
   "outputs": [],
   "source": [
    "df.text = df.text.astype(str)"
   ]
  },
  {
   "cell_type": "markdown",
   "metadata": {
    "id": "2tpmE6zCpZ2i"
   },
   "source": [
    "# **Splitting dataset into train(90%) and test(10%)**"
   ]
  },
  {
   "cell_type": "code",
   "execution_count": 8,
   "metadata": {
    "colab": {
     "base_uri": "https://localhost:8080/"
    },
    "executionInfo": {
     "elapsed": 17490,
     "status": "ok",
     "timestamp": 1618442575561,
     "user": {
      "displayName": "Pratik Pundlik Sayanekar",
      "photoUrl": "",
      "userId": "12868587701793367447"
     },
     "user_tz": -60
    },
    "id": "rmbqBr4vwK5_",
    "outputId": "f65a6a5c-fe29-4061-a6e8-2231dad6fe64"
   },
   "outputs": [
    {
     "name": "stdout",
     "output_type": "stream",
     "text": [
      "Initialization of Utilities...\n",
      "The shape of train data:  (824917,)\n",
      "The shape of train target:  (824917,)\n",
      "The shape of test data:  (91658,)\n",
      "The shape of test target:  (91658,)\n"
     ]
    }
   ],
   "source": [
    "util = Utils()\n",
    "X_train, X_test, y_train, y_test = util.split_data(df)\n",
    "print(\"The shape of train data: \",X_train.shape)\n",
    "print(\"The shape of train target: \",y_train.shape)\n",
    "print(\"The shape of test data: \",X_test.shape)\n",
    "print(\"The shape of test target: \",y_test.shape)"
   ]
  },
  {
   "cell_type": "markdown",
   "metadata": {
    "id": "n5Sqp20Spudj"
   },
   "source": [
    "# **Tokenization and Padding of each tweet**"
   ]
  },
  {
   "cell_type": "code",
   "execution_count": 9,
   "metadata": {
    "colab": {
     "base_uri": "https://localhost:8080/"
    },
    "executionInfo": {
     "elapsed": 18126,
     "status": "ok",
     "timestamp": 1618442576205,
     "user": {
      "displayName": "Pratik Pundlik Sayanekar",
      "photoUrl": "",
      "userId": "12868587701793367447"
     },
     "user_tz": -60
    },
    "id": "YwI5tOD9JcEV",
    "outputId": "2dd40fe3-0493-45cc-9b93-3c44eee28e59"
   },
   "outputs": [
    {
     "name": "stdout",
     "output_type": "stream",
     "text": [
      "Maximum length of tweet: 122\n"
     ]
    }
   ],
   "source": [
    "max_len = util.max_len(df)\n",
    "print(\"Maximum length of tweet:\", max_len)"
   ]
  },
  {
   "cell_type": "code",
   "execution_count": 10,
   "metadata": {
    "colab": {
     "base_uri": "https://localhost:8080/"
    },
    "executionInfo": {
     "elapsed": 47849,
     "status": "ok",
     "timestamp": 1618442605935,
     "user": {
      "displayName": "Pratik Pundlik Sayanekar",
      "photoUrl": "",
      "userId": "12868587701793367447"
     },
     "user_tz": -60
    },
    "id": "ASGy-Q_rFjUL",
    "outputId": "97aa9fd7-84a9-4c63-bbe3-74bbc80ad15e"
   },
   "outputs": [
    {
     "name": "stdout",
     "output_type": "stream",
     "text": [
      "After Tokenization and Padding...\n",
      "The shape of train data:  (824917, 122)\n",
      "The shape of test data:  (91658, 122)\n"
     ]
    }
   ],
   "source": [
    "train_converted, test_converted = util.tokenization_padding(X_train, X_test, max_len)\n",
    "print(\"After Tokenization and Padding...\")\n",
    "print(\"The shape of train data: \", train_converted.shape)\n",
    "print(\"The shape of test data: \", test_converted.shape)"
   ]
  },
  {
   "cell_type": "code",
   "execution_count": 11,
   "metadata": {
    "colab": {
     "base_uri": "https://localhost:8080/"
    },
    "executionInfo": {
     "elapsed": 47843,
     "status": "ok",
     "timestamp": 1618442605936,
     "user": {
      "displayName": "Pratik Pundlik Sayanekar",
      "photoUrl": "",
      "userId": "12868587701793367447"
     },
     "user_tz": -60
    },
    "id": "f-xgFoO7vwzd",
    "outputId": "1c4cd67b-569f-4d5a-bb5d-70ee0f990463"
   },
   "outputs": [
    {
     "name": "stdout",
     "output_type": "stream",
     "text": [
      "After one hot encoding of target variable...\n",
      "The shape of train target:  (824917, 3)\n",
      "The shape of test target:  (91658, 3)\n"
     ]
    }
   ],
   "source": [
    "target_converted_train, target_converted_test = util.one_hot_target_variable(y_train, y_test)\n",
    "print(\"After one hot encoding of target variable...\")\n",
    "print(\"The shape of train target: \", target_converted_train.shape)\n",
    "print(\"The shape of test target: \", target_converted_test.shape)"
   ]
  },
  {
   "cell_type": "markdown",
   "metadata": {
    "id": "7yz5IFdw3B3R"
   },
   "source": [
    "# **Deep Learning Models**"
   ]
  },
  {
   "cell_type": "code",
   "execution_count": 12,
   "metadata": {
    "executionInfo": {
     "elapsed": 47842,
     "status": "ok",
     "timestamp": 1618442605937,
     "user": {
      "displayName": "Pratik Pundlik Sayanekar",
      "photoUrl": "",
      "userId": "12868587701793367447"
     },
     "user_tz": -60
    },
    "id": "KYmEV5EL3BS3"
   },
   "outputs": [],
   "source": [
    "EPOCH = 10\n",
    "BATCH_SIZE = 1024"
   ]
  },
  {
   "cell_type": "markdown",
   "metadata": {
    "id": "M81GzKxtFqFI"
   },
   "source": [
    "# **CNN Model**"
   ]
  },
  {
   "cell_type": "code",
   "execution_count": 13,
   "metadata": {
    "colab": {
     "base_uri": "https://localhost:8080/"
    },
    "executionInfo": {
     "elapsed": 48305,
     "status": "ok",
     "timestamp": 1618442606406,
     "user": {
      "displayName": "Pratik Pundlik Sayanekar",
      "photoUrl": "",
      "userId": "12868587701793367447"
     },
     "user_tz": -60
    },
    "id": "Op2cjQkaHM8p",
    "outputId": "ddbbb69c-e203-4c62-92a1-e588429710c3"
   },
   "outputs": [
    {
     "name": "stdout",
     "output_type": "stream",
     "text": [
      "CNN Model Initialization...\n",
      "Model Created Successfully...\n",
      "Model: \"sequential\"\n",
      "_________________________________________________________________\n",
      "Layer (type)                 Output Shape              Param #   \n",
      "=================================================================\n",
      "embedding (Embedding)        (None, 122, 100)          20000000  \n",
      "_________________________________________________________________\n",
      "spatial_dropout1d (SpatialDr (None, 122, 100)          0         \n",
      "_________________________________________________________________\n",
      "conv1d (Conv1D)              (None, 119, 128)          51328     \n",
      "_________________________________________________________________\n",
      "global_max_pooling1d (Global (None, 128)               0         \n",
      "_________________________________________________________________\n",
      "dense (Dense)                (None, 3)                 387       \n",
      "=================================================================\n",
      "Total params: 20,051,715\n",
      "Trainable params: 20,051,715\n",
      "Non-trainable params: 0\n",
      "_________________________________________________________________\n"
     ]
    }
   ],
   "source": [
    "cnn = CNN_Model()\n",
    "model = cnn.create_model(embed_dim = 100, num_filters = 128, \n",
    "                          input_len = train_converted.shape[1], feature = 200000, \n",
    "                          drop_out = 0.5, num_words=4)\n",
    "model.summary()"
   ]
  },
  {
   "cell_type": "code",
   "execution_count": 14,
   "metadata": {
    "colab": {
     "base_uri": "https://localhost:8080/"
    },
    "executionInfo": {
     "elapsed": 6985483,
     "status": "ok",
     "timestamp": 1618449543592,
     "user": {
      "displayName": "Pratik Pundlik Sayanekar",
      "photoUrl": "",
      "userId": "12868587701793367447"
     },
     "user_tz": -60
    },
    "id": "3e32dCWnHyiL",
    "outputId": "496f83b0-7492-414d-c38d-b064c9f4a22b"
   },
   "outputs": [
    {
     "name": "stdout",
     "output_type": "stream",
     "text": [
      "Epoch 1/10\n",
      "726/726 [==============================] - 250s 343ms/step - loss: 0.4490 - acc: 0.8069 - val_loss: 0.2380 - val_acc: 0.8971\n",
      "\n",
      "Epoch 00001: val_loss improved from inf to 0.23796, saving model to /Users/pratiksayanekar/Documents/DL_20200161/checkpoints/CNN/\n",
      "INFO:tensorflow:Assets written to: /Users/pratiksayanekar/Documents/DL_20200161/checkpoints/CNN/assets\n",
      "Epoch 2/10\n",
      "726/726 [==============================] - 250s 345ms/step - loss: 0.2149 - acc: 0.9107 - val_loss: 0.2329 - val_acc: 0.8985\n",
      "\n",
      "Epoch 00002: val_loss improved from 0.23796 to 0.23287, saving model to /Users/pratiksayanekar/Documents/DL_20200161/checkpoints/CNN/\n",
      "INFO:tensorflow:Assets written to: /Users/pratiksayanekar/Documents/DL_20200161/checkpoints/CNN/assets\n",
      "Epoch 3/10\n",
      "726/726 [==============================] - 244s 336ms/step - loss: 0.1876 - acc: 0.9232 - val_loss: 0.2357 - val_acc: 0.8990\n",
      "\n",
      "Epoch 00003: val_loss did not improve from 0.23287\n",
      "Epoch 4/10\n",
      "726/726 [==============================] - 244s 336ms/step - loss: 0.1681 - acc: 0.9311 - val_loss: 0.2422 - val_acc: 0.8979\n",
      "\n",
      "Epoch 00004: val_loss did not improve from 0.23287\n",
      "Epoch 5/10\n",
      "726/726 [==============================] - 244s 335ms/step - loss: 0.1522 - acc: 0.9376 - val_loss: 0.2480 - val_acc: 0.8986\n",
      "\n",
      "Epoch 00005: val_loss did not improve from 0.23287\n",
      "Epoch 6/10\n",
      "726/726 [==============================] - 256s 353ms/step - loss: 0.1405 - acc: 0.9422 - val_loss: 0.2553 - val_acc: 0.8982\n",
      "\n",
      "Epoch 00006: val_loss did not improve from 0.23287\n",
      "Epoch 7/10\n",
      "726/726 [==============================] - 244s 336ms/step - loss: 0.1335 - acc: 0.9450 - val_loss: 0.2624 - val_acc: 0.8976\n",
      "\n",
      "Epoch 00007: val_loss did not improve from 0.23287\n"
     ]
    }
   ],
   "source": [
    "history = model.fit(train_converted, target_converted_train, epochs = EPOCH, \n",
    "                    batch_size=BATCH_SIZE, validation_split=0.1,\n",
    "                    callbacks=cnn.callbacks)"
   ]
  },
  {
   "cell_type": "code",
   "execution_count": 15,
   "metadata": {
    "colab": {
     "base_uri": "https://localhost:8080/",
     "height": 500
    },
    "executionInfo": {
     "elapsed": 6986568,
     "status": "ok",
     "timestamp": 1618449544684,
     "user": {
      "displayName": "Pratik Pundlik Sayanekar",
      "photoUrl": "",
      "userId": "12868587701793367447"
     },
     "user_tz": -60
    },
    "id": "q2StIg9PIP2a",
    "outputId": "0766073a-0b29-420e-df8d-51a4e02e55e6"
   },
   "outputs": [
    {
     "data": {
      "image/png": "[encoded data removed]",
      "text/plain": [
       "<Figure size 1080x576 with 2 Axes>"
      ]
     },
     "metadata": {},
     "output_type": "display_data"
    }
   ],
   "source": [
    "util.plot_accuracy_loss(history, 'CNN')"
   ]
  },
  {
   "cell_type": "markdown",
   "metadata": {
    "id": "CVxZwJc6IP2Z"
   },
   "source": [
    "# **Evaluation**"
   ]
  },
  {
   "cell_type": "code",
   "execution_count": 16,
   "metadata": {
    "colab": {
     "base_uri": "https://localhost:8080/"
    },
    "executionInfo": {
     "elapsed": 6987901,
     "status": "ok",
     "timestamp": 1618449546025,
     "user": {
      "displayName": "Pratik Pundlik Sayanekar",
      "photoUrl": "",
      "userId": "12868587701793367447"
     },
     "user_tz": -60
    },
    "id": "_kAjaJGf4Amw",
    "outputId": "ef46c290-7c68-4378-f54e-d4f1374c610b"
   },
   "outputs": [
    {
     "name": "stdout",
     "output_type": "stream",
     "text": [
      "Model: \"sequential\"\n",
      "_________________________________________________________________\n",
      "Layer (type)                 Output Shape              Param #   \n",
      "=================================================================\n",
      "embedding (Embedding)        (None, 122, 100)          20000000  \n",
      "_________________________________________________________________\n",
      "spatial_dropout1d (SpatialDr (None, 122, 100)          0         \n",
      "_________________________________________________________________\n",
      "conv1d (Conv1D)              (None, 119, 128)          51328     \n",
      "_________________________________________________________________\n",
      "global_max_pooling1d (Global (None, 128)               0         \n",
      "_________________________________________________________________\n",
      "dense (Dense)                (None, 3)                 387       \n",
      "=================================================================\n",
      "Total params: 20,051,715\n",
      "Trainable params: 20,051,715\n",
      "Non-trainable params: 0\n",
      "_________________________________________________________________\n"
     ]
    }
   ],
   "source": [
    "model = cnn.load_saved_model()\n",
    "model.summary()"
   ]
  },
  {
   "cell_type": "code",
   "execution_count": 17,
   "metadata": {
    "colab": {
     "base_uri": "https://localhost:8080/"
    },
    "executionInfo": {
     "elapsed": 7007786,
     "status": "ok",
     "timestamp": 1618449565918,
     "user": {
      "displayName": "Pratik Pundlik Sayanekar",
      "photoUrl": "",
      "userId": "12868587701793367447"
     },
     "user_tz": -60
    },
    "id": "QEmqzr9q-1uk",
    "outputId": "021dcc3d-6850-452e-eccc-f1e160928617"
   },
   "outputs": [
    {
     "name": "stdout",
     "output_type": "stream",
     "text": [
      "90/90 - 5s - loss: 0.2294 - acc: 0.9007\n",
      "The loss of this model: 0.23\n",
      "The accuracy of this model: 0.90\n"
     ]
    }
   ],
   "source": [
    "score, acc = model.evaluate(test_converted, target_converted_test, verbose = 2, batch_size = BATCH_SIZE)\n",
    "print(\"The loss of this model: %.2f\" % (score))\n",
    "print(\"The accuracy of this model: %.2f\" % (acc))"
   ]
  },
  {
   "cell_type": "code",
   "execution_count": 18,
   "metadata": {
    "executionInfo": {
     "elapsed": 7031188,
     "status": "ok",
     "timestamp": 1618449589321,
     "user": {
      "displayName": "Pratik Pundlik Sayanekar",
      "photoUrl": "",
      "userId": "12868587701793367447"
     },
     "user_tz": -60
    },
    "id": "lAfloiyAIP2b"
   },
   "outputs": [],
   "source": [
    "y_pred = model.predict(test_converted)"
   ]
  },
  {
   "cell_type": "code",
   "execution_count": 19,
   "metadata": {
    "colab": {
     "base_uri": "https://localhost:8080/",
     "height": 459
    },
    "executionInfo": {
     "elapsed": 7031763,
     "status": "ok",
     "timestamp": 1618449589903,
     "user": {
      "displayName": "Pratik Pundlik Sayanekar",
      "photoUrl": "",
      "userId": "12868587701793367447"
     },
     "user_tz": -60
    },
    "id": "GYn-D1DmIP2b",
    "outputId": "3226f6ed-8e8c-40a1-a659-e696d8a2eda2"
   },
   "outputs": [
    {
     "name": "stdout",
     "output_type": "stream",
     "text": [
      "Confusion Matrix: \n",
      " [[26587  3340  1049]\n",
      " [ 3224 27677   844]\n",
      " [  288   355 28294]]\n"
     ]
    },
    {
     "data": {
      "image/png": "[encoded data removed]",
      "text/plain": [
       "<Figure size 864x432 with 2 Axes>"
      ]
     },
     "metadata": {},
     "output_type": "display_data"
    }
   ],
   "source": [
    "test,pred = util.plot_confusion_matrix(y_pred, target_converted_test, 'CNN')"
   ]
  },
  {
   "cell_type": "code",
   "execution_count": 20,
   "metadata": {
    "colab": {
     "base_uri": "https://localhost:8080/"
    },
    "executionInfo": {
     "elapsed": 7032172,
     "status": "ok",
     "timestamp": 1618449590321,
     "user": {
      "displayName": "Pratik Pundlik Sayanekar",
      "photoUrl": "",
      "userId": "12868587701793367447"
     },
     "user_tz": -60
    },
    "id": "7qVr0JGRIP2c",
    "outputId": "d44eda2a-ce81-437a-f364-77a75eb4c0ab"
   },
   "outputs": [
    {
     "name": "stdout",
     "output_type": "stream",
     "text": [
      "Classification Report:                precision    recall  f1-score   support\n",
      "\n",
      "           0       0.88      0.86      0.87     30976\n",
      "           1       0.88      0.87      0.88     31745\n",
      "           2       0.94      0.98      0.96     28937\n",
      "\n",
      "    accuracy                           0.90     91658\n",
      "   macro avg       0.90      0.90      0.90     91658\n",
      "weighted avg       0.90      0.90      0.90     91658\n",
      "\n"
     ]
    }
   ],
   "source": [
    "print(\"Classification Report: \", classification_report(test, pred))"
   ]
  },
  {
   "cell_type": "markdown",
   "metadata": {
    "id": "d_FML8qirR1Y"
   },
   "source": [
    "# **CNN_v2**"
   ]
  },
  {
   "cell_type": "code",
   "execution_count": 21,
   "metadata": {
    "colab": {
     "base_uri": "https://localhost:8080/"
    },
    "executionInfo": {
     "elapsed": 7032386,
     "status": "ok",
     "timestamp": 1618449590543,
     "user": {
      "displayName": "Pratik Pundlik Sayanekar",
      "photoUrl": "",
      "userId": "12868587701793367447"
     },
     "user_tz": -60
    },
    "id": "OUhvdEdSrP_W",
    "outputId": "0a6edc53-b005-4cfa-b5ca-b2679f59503e"
   },
   "outputs": [
    {
     "name": "stdout",
     "output_type": "stream",
     "text": [
      "CNN Model Initialization...\n",
      "Model Created Successfully...\n",
      "Model: \"sequential_1\"\n",
      "_________________________________________________________________\n",
      "Layer (type)                 Output Shape              Param #   \n",
      "=================================================================\n",
      "embedding_1 (Embedding)      (None, 122, 100)          20000000  \n",
      "_________________________________________________________________\n",
      "spatial_dropout1d_1 (Spatial (None, 122, 100)          0         \n",
      "_________________________________________________________________\n",
      "conv1d_1 (Conv1D)            (None, 122, 128)          51328     \n",
      "_________________________________________________________________\n",
      "conv1d_2 (Conv1D)            (None, 122, 128)          65664     \n",
      "_________________________________________________________________\n",
      "spatial_dropout1d_2 (Spatial (None, 122, 128)          0         \n",
      "_________________________________________________________________\n",
      "global_max_pooling1d_1 (Glob (None, 128)               0         \n",
      "_________________________________________________________________\n",
      "dense_1 (Dense)              (None, 64)                8256      \n",
      "_________________________________________________________________\n",
      "dense_2 (Dense)              (None, 3)                 195       \n",
      "=================================================================\n",
      "Total params: 20,125,443\n",
      "Trainable params: 20,125,443\n",
      "Non-trainable params: 0\n",
      "_________________________________________________________________\n"
     ]
    }
   ],
   "source": [
    "cnn = CNN_Model()\n",
    "model = cnn.create_model_v2(embed_dim = 100, num_filters = 128, \n",
    "                          input_len = train_converted.shape[1], feature = 200000, \n",
    "                          drop_out = 0.5, num_words=4)\n",
    "model.summary()"
   ]
  },
  {
   "cell_type": "code",
   "execution_count": 22,
   "metadata": {
    "colab": {
     "base_uri": "https://localhost:8080/"
    },
    "executionInfo": {
     "elapsed": 24138192,
     "status": "ok",
     "timestamp": 1618466696356,
     "user": {
      "displayName": "Pratik Pundlik Sayanekar",
      "photoUrl": "",
      "userId": "12868587701793367447"
     },
     "user_tz": -60
    },
    "id": "p5cIHTdIrzue",
    "outputId": "6fb2514d-490d-41f7-8ea7-cd5f8db95063"
   },
   "outputs": [
    {
     "name": "stdout",
     "output_type": "stream",
     "text": [
      "Epoch 1/10\n",
      "726/726 [==============================] - 413s 568ms/step - loss: 0.4290 - acc: 0.7987 - val_loss: 0.2284 - val_acc: 0.8995\n",
      "\n",
      "Epoch 00001: val_loss improved from inf to 0.22835, saving model to /Users/pratiksayanekar/Documents/DL_20200161/checkpoints/CNN_v2/\n",
      "INFO:tensorflow:Assets written to: /Users/pratiksayanekar/Documents/DL_20200161/checkpoints/CNN_v2/assets\n",
      "Epoch 2/10\n",
      "726/726 [==============================] - 411s 566ms/step - loss: 0.2142 - acc: 0.9098 - val_loss: 0.2230 - val_acc: 0.9016\n",
      "\n",
      "Epoch 00002: val_loss improved from 0.22835 to 0.22295, saving model to /Users/pratiksayanekar/Documents/DL_20200161/checkpoints/CNN_v2/\n",
      "INFO:tensorflow:Assets written to: /Users/pratiksayanekar/Documents/DL_20200161/checkpoints/CNN_v2/assets\n",
      "Epoch 3/10\n",
      "726/726 [==============================] - 410s 565ms/step - loss: 0.1875 - acc: 0.9211 - val_loss: 0.2281 - val_acc: 0.9021\n",
      "\n",
      "Epoch 00003: val_loss did not improve from 0.22295\n",
      "Epoch 4/10\n",
      "726/726 [==============================] - 420s 579ms/step - loss: 0.1685 - acc: 0.9286 - val_loss: 0.2336 - val_acc: 0.9017\n",
      "\n",
      "Epoch 00004: val_loss did not improve from 0.22295\n",
      "Epoch 5/10\n",
      "726/726 [==============================] - 441s 608ms/step - loss: 0.1565 - acc: 0.9335 - val_loss: 0.2445 - val_acc: 0.9010\n",
      "\n",
      "Epoch 00005: val_loss did not improve from 0.22295\n",
      "Epoch 6/10\n",
      "726/726 [==============================] - 451s 621ms/step - loss: 0.1472 - acc: 0.9374 - val_loss: 0.2491 - val_acc: 0.9006\n",
      "\n",
      "Epoch 00006: val_loss did not improve from 0.22295\n",
      "Epoch 7/10\n",
      "726/726 [==============================] - 446s 614ms/step - loss: 0.1393 - acc: 0.9402 - val_loss: 0.2525 - val_acc: 0.9006\n",
      "\n",
      "Epoch 00007: val_loss did not improve from 0.22295\n"
     ]
    }
   ],
   "source": [
    "history = model.fit(train_converted, target_converted_train, epochs = EPOCH, \n",
    "                    batch_size=BATCH_SIZE, validation_split=0.1,\n",
    "                    callbacks=cnn.callbacks_v2)"
   ]
  },
  {
   "cell_type": "code",
   "execution_count": 23,
   "metadata": {
    "colab": {
     "base_uri": "https://localhost:8080/",
     "height": 500
    },
    "executionInfo": {
     "elapsed": 24138759,
     "status": "ok",
     "timestamp": 1618466696931,
     "user": {
      "displayName": "Pratik Pundlik Sayanekar",
      "photoUrl": "",
      "userId": "12868587701793367447"
     },
     "user_tz": -60
    },
    "id": "X4_T_vIgr_0V",
    "outputId": "975bedf7-8d2a-49d3-d582-145a58238417"
   },
   "outputs": [
    {
     "data": {
      "image/png": "[encoded data removed]",
      "text/plain": [
       "<Figure size 1080x576 with 2 Axes>"
      ]
     },
     "metadata": {},
     "output_type": "display_data"
    }
   ],
   "source": [
    "util.plot_accuracy_loss(history, 'CNN_v2')"
   ]
  },
  {
   "cell_type": "markdown",
   "metadata": {
    "id": "DPimGiSh9Zfs"
   },
   "source": [
    "# **Evaluation**"
   ]
  },
  {
   "cell_type": "code",
   "execution_count": 24,
   "metadata": {
    "colab": {
     "base_uri": "https://localhost:8080/"
    },
    "executionInfo": {
     "elapsed": 24140324,
     "status": "ok",
     "timestamp": 1618466698505,
     "user": {
      "displayName": "Pratik Pundlik Sayanekar",
      "photoUrl": "",
      "userId": "12868587701793367447"
     },
     "user_tz": -60
    },
    "id": "xRo5KFPqsBUM",
    "outputId": "a9cd946c-c46c-4d2b-90a1-2166a74cd11d"
   },
   "outputs": [
    {
     "name": "stdout",
     "output_type": "stream",
     "text": [
      "Model: \"sequential_1\"\n",
      "_________________________________________________________________\n",
      "Layer (type)                 Output Shape              Param #   \n",
      "=================================================================\n",
      "embedding_1 (Embedding)      (None, 122, 100)          20000000  \n",
      "_________________________________________________________________\n",
      "spatial_dropout1d_1 (Spatial (None, 122, 100)          0         \n",
      "_________________________________________________________________\n",
      "conv1d_1 (Conv1D)            (None, 122, 128)          51328     \n",
      "_________________________________________________________________\n",
      "conv1d_2 (Conv1D)            (None, 122, 128)          65664     \n",
      "_________________________________________________________________\n",
      "spatial_dropout1d_2 (Spatial (None, 122, 128)          0         \n",
      "_________________________________________________________________\n",
      "global_max_pooling1d_1 (Glob (None, 128)               0         \n",
      "_________________________________________________________________\n",
      "dense_1 (Dense)              (None, 64)                8256      \n",
      "_________________________________________________________________\n",
      "dense_2 (Dense)              (None, 3)                 195       \n",
      "=================================================================\n",
      "Total params: 20,125,443\n",
      "Trainable params: 20,125,443\n",
      "Non-trainable params: 0\n",
      "_________________________________________________________________\n"
     ]
    }
   ],
   "source": [
    "model = cnn.load_saved_model_v2()\n",
    "model.summary()"
   ]
  },
  {
   "cell_type": "code",
   "execution_count": 25,
   "metadata": {
    "colab": {
     "base_uri": "https://localhost:8080/"
    },
    "executionInfo": {
     "elapsed": 24184615,
     "status": "ok",
     "timestamp": 1618466742803,
     "user": {
      "displayName": "Pratik Pundlik Sayanekar",
      "photoUrl": "",
      "userId": "12868587701793367447"
     },
     "user_tz": -60
    },
    "id": "gc7emMNpsQ__",
    "outputId": "4ca3b2d7-4111-4a27-cbc7-e2385584219d"
   },
   "outputs": [
    {
     "name": "stdout",
     "output_type": "stream",
     "text": [
      "90/90 - 14s - loss: 0.2217 - acc: 0.9029\n",
      "The loss of this model: 0.22\n",
      "The accuracy of this model: 0.90\n"
     ]
    }
   ],
   "source": [
    "score, acc = model.evaluate(test_converted, target_converted_test, verbose = 2, batch_size = BATCH_SIZE)\n",
    "print(\"The loss of this model: %.2f\" % (score))\n",
    "print(\"The accuracy of this model: %.2f\" % (acc))"
   ]
  },
  {
   "cell_type": "code",
   "execution_count": 26,
   "metadata": {
    "executionInfo": {
     "elapsed": 24232581,
     "status": "ok",
     "timestamp": 1618466790771,
     "user": {
      "displayName": "Pratik Pundlik Sayanekar",
      "photoUrl": "",
      "userId": "12868587701793367447"
     },
     "user_tz": -60
    },
    "id": "SkL9F626sRAB"
   },
   "outputs": [],
   "source": [
    "y_pred = model.predict(test_converted)"
   ]
  },
  {
   "cell_type": "code",
   "execution_count": 27,
   "metadata": {
    "colab": {
     "base_uri": "https://localhost:8080/",
     "height": 459
    },
    "executionInfo": {
     "elapsed": 24233717,
     "status": "ok",
     "timestamp": 1618466791916,
     "user": {
      "displayName": "Pratik Pundlik Sayanekar",
      "photoUrl": "",
      "userId": "12868587701793367447"
     },
     "user_tz": -60
    },
    "id": "bWjpnfGPsRAB",
    "outputId": "0a3842f9-fbc2-446f-e95c-c1832caae31a"
   },
   "outputs": [
    {
     "name": "stdout",
     "output_type": "stream",
     "text": [
      "Confusion Matrix: \n",
      " [[27185  3763  1184]\n",
      " [ 2784 27416   845]\n",
      " [  130   193 28158]]\n"
     ]
    },
    {
     "data": {
      "image/png": "[encoded data removed]",
      "text/plain": [
       "<Figure size 864x432 with 2 Axes>"
      ]
     },
     "metadata": {},
     "output_type": "display_data"
    }
   ],
   "source": [
    "test,pred = util.plot_confusion_matrix(y_pred, target_converted_test, 'CNN_v2')"
   ]
  },
  {
   "cell_type": "code",
   "execution_count": 28,
   "metadata": {
    "colab": {
     "base_uri": "https://localhost:8080/"
    },
    "executionInfo": {
     "elapsed": 24233711,
     "status": "ok",
     "timestamp": 1618466791918,
     "user": {
      "displayName": "Pratik Pundlik Sayanekar",
      "photoUrl": "",
      "userId": "12868587701793367447"
     },
     "user_tz": -60
    },
    "id": "5xcnVVUYsRAB",
    "outputId": "a25aa9df-3946-4f58-ab84-ee04f904f4b1"
   },
   "outputs": [
    {
     "name": "stdout",
     "output_type": "stream",
     "text": [
      "Classification Report:                precision    recall  f1-score   support\n",
      "\n",
      "           0       0.90      0.85      0.87     32132\n",
      "           1       0.87      0.88      0.88     31045\n",
      "           2       0.93      0.99      0.96     28481\n",
      "\n",
      "    accuracy                           0.90     91658\n",
      "   macro avg       0.90      0.91      0.90     91658\n",
      "weighted avg       0.90      0.90      0.90     91658\n",
      "\n"
     ]
    }
   ],
   "source": [
    "print(\"Classification Report: \", classification_report(test, pred))"
   ]
  },
  {
   "cell_type": "markdown",
   "metadata": {
    "id": "jeX4ONuCr0te"
   },
   "source": [
    "# **LSTM Model**"
   ]
  },
  {
   "cell_type": "code",
   "execution_count": 29,
   "metadata": {
    "colab": {
     "base_uri": "https://localhost:8080/"
    },
    "executionInfo": {
     "elapsed": 24233704,
     "status": "ok",
     "timestamp": 1618466791918,
     "user": {
      "displayName": "Pratik Pundlik Sayanekar",
      "photoUrl": "",
      "userId": "12868587701793367447"
     },
     "user_tz": -60
    },
    "id": "qtdsIMLMJLTo",
    "outputId": "04b62176-5b96-425e-84d2-0e17e97ed456"
   },
   "outputs": [
    {
     "name": "stdout",
     "output_type": "stream",
     "text": [
      "LSTM Model Initialization...\n",
      "Model Created Successfully...\n",
      "Model: \"sequential_2\"\n",
      "_________________________________________________________________\n",
      "Layer (type)                 Output Shape              Param #   \n",
      "=================================================================\n",
      "embedding_2 (Embedding)      (None, 122, 100)          20000000  \n",
      "_________________________________________________________________\n",
      "spatial_dropout1d_3 (Spatial (None, 122, 100)          0         \n",
      "_________________________________________________________________\n",
      "lstm (LSTM)                  (None, 64)                42240     \n",
      "_________________________________________________________________\n",
      "dense_3 (Dense)              (None, 3)                 195       \n",
      "=================================================================\n",
      "Total params: 20,042,435\n",
      "Trainable params: 20,042,435\n",
      "Non-trainable params: 0\n",
      "_________________________________________________________________\n"
     ]
    }
   ],
   "source": [
    "lstm = LSTM_Model()\n",
    "model = lstm.create_model(embed_dim = 100, lstm_out = 64, \n",
    "                          input_len = train_converted.shape[1], feature = 200000, \n",
    "                          drop_out = 0.5)\n",
    "model.summary()"
   ]
  },
  {
   "cell_type": "code",
   "execution_count": 30,
   "metadata": {
    "colab": {
     "base_uri": "https://localhost:8080/"
    },
    "id": "h_o_bHJemMGO",
    "outputId": "830ade26-0172-46f4-8796-f8956e88ed1e"
   },
   "outputs": [
    {
     "name": "stdout",
     "output_type": "stream",
     "text": [
      "Epoch 1/10\n",
      "726/726 [==============================] - 744s 1s/step - loss: 0.5102 - acc: 0.7755 - val_loss: 0.2445 - val_acc: 0.8937\n",
      "\n",
      "Epoch 00001: val_loss improved from inf to 0.24454, saving model to /Users/pratiksayanekar/Documents/DL_20200161/checkpoints/LSTM/\n",
      "INFO:tensorflow:Assets written to: /Users/pratiksayanekar/Documents/DL_20200161/checkpoints/LSTM/assets\n",
      "Epoch 2/10\n",
      "726/726 [==============================] - 722s 994ms/step - loss: 0.2360 - acc: 0.9010 - val_loss: 0.2303 - val_acc: 0.8992\n",
      "\n",
      "Epoch 00002: val_loss improved from 0.24454 to 0.23033, saving model to /Users/pratiksayanekar/Documents/DL_20200161/checkpoints/LSTM/\n",
      "INFO:tensorflow:Assets written to: /Users/pratiksayanekar/Documents/DL_20200161/checkpoints/LSTM/assets\n",
      "Epoch 3/10\n",
      "726/726 [==============================] - 692s 953ms/step - loss: 0.2094 - acc: 0.9125 - val_loss: 0.2287 - val_acc: 0.8993\n",
      "\n",
      "Epoch 00003: val_loss improved from 0.23033 to 0.22865, saving model to /Users/pratiksayanekar/Documents/DL_20200161/checkpoints/LSTM/\n",
      "INFO:tensorflow:Assets written to: /Users/pratiksayanekar/Documents/DL_20200161/checkpoints/LSTM/assets\n",
      "Epoch 4/10\n",
      "726/726 [==============================] - 728s 1s/step - loss: 0.1930 - acc: 0.9191 - val_loss: 0.2277 - val_acc: 0.9027\n",
      "\n",
      "Epoch 00004: val_loss improved from 0.22865 to 0.22771, saving model to /Users/pratiksayanekar/Documents/DL_20200161/checkpoints/LSTM/\n",
      "INFO:tensorflow:Assets written to: /Users/pratiksayanekar/Documents/DL_20200161/checkpoints/LSTM/assets\n",
      "Epoch 5/10\n",
      "726/726 [==============================] - 781s 1s/step - loss: 0.1804 - acc: 0.9238 - val_loss: 0.2302 - val_acc: 0.9009\n",
      "\n",
      "Epoch 00005: val_loss did not improve from 0.22771\n",
      "Epoch 6/10\n",
      "726/726 [==============================] - 765s 1s/step - loss: 0.1709 - acc: 0.9275 - val_loss: 0.2330 - val_acc: 0.9022\n",
      "\n",
      "Epoch 00006: val_loss did not improve from 0.22771\n",
      "Epoch 7/10\n",
      "726/726 [==============================] - 787s 1s/step - loss: 0.1655 - acc: 0.9292 - val_loss: 0.2341 - val_acc: 0.9022\n",
      "\n",
      "Epoch 00007: val_loss did not improve from 0.22771\n",
      "Epoch 8/10\n",
      "726/726 [==============================] - 759s 1s/step - loss: 0.1590 - acc: 0.9319 - val_loss: 0.2386 - val_acc: 0.9020\n",
      "\n",
      "Epoch 00008: val_loss did not improve from 0.22771\n",
      "Epoch 9/10\n",
      "726/726 [==============================] - 720s 992ms/step - loss: 0.1555 - acc: 0.9326 - val_loss: 0.2423 - val_acc: 0.9025\n",
      "\n",
      "Epoch 00009: val_loss did not improve from 0.22771\n"
     ]
    }
   ],
   "source": [
    "history = model.fit(train_converted, target_converted_train, epochs = EPOCH, \n",
    "                    batch_size= BATCH_SIZE, validation_split=0.1,\n",
    "                    callbacks=lstm.callbacks)"
   ]
  },
  {
   "cell_type": "code",
   "execution_count": 31,
   "metadata": {
    "id": "NbLq3sA-wc1Q"
   },
   "outputs": [
    {
     "data": {
      "image/png": "[encoded data removed]",
      "text/plain": [
       "<Figure size 1080x576 with 2 Axes>"
      ]
     },
     "metadata": {},
     "output_type": "display_data"
    }
   ],
   "source": [
    "util.plot_accuracy_loss(history, 'LSTM')"
   ]
  },
  {
   "cell_type": "markdown",
   "metadata": {
    "id": "lROmCZ7-DfI5"
   },
   "source": [
    "# **Evaluation**"
   ]
  },
  {
   "cell_type": "code",
   "execution_count": 32,
   "metadata": {
    "id": "L5udYJGy3sC9"
   },
   "outputs": [
    {
     "name": "stdout",
     "output_type": "stream",
     "text": [
      "Model: \"sequential_2\"\n",
      "_________________________________________________________________\n",
      "Layer (type)                 Output Shape              Param #   \n",
      "=================================================================\n",
      "embedding_2 (Embedding)      (None, 122, 100)          20000000  \n",
      "_________________________________________________________________\n",
      "spatial_dropout1d_3 (Spatial (None, 122, 100)          0         \n",
      "_________________________________________________________________\n",
      "lstm (LSTM)                  (None, 64)                42240     \n",
      "_________________________________________________________________\n",
      "dense_3 (Dense)              (None, 3)                 195       \n",
      "=================================================================\n",
      "Total params: 20,042,435\n",
      "Trainable params: 20,042,435\n",
      "Non-trainable params: 0\n",
      "_________________________________________________________________\n"
     ]
    }
   ],
   "source": [
    "model = lstm.load_saved_model()\n",
    "model.summary()"
   ]
  },
  {
   "cell_type": "code",
   "execution_count": 33,
   "metadata": {
    "id": "7jOGYHNf-uTy"
   },
   "outputs": [
    {
     "name": "stdout",
     "output_type": "stream",
     "text": [
      "90/90 - 17s - loss: 0.2254 - acc: 0.9030\n",
      "The loss of this model: 0.23\n",
      "The accuracy of this model: 0.90\n"
     ]
    }
   ],
   "source": [
    "score, acc = model.evaluate(test_converted, target_converted_test, verbose = 2, batch_size = BATCH_SIZE)\n",
    "print(\"The loss of this model: %.2f\" % (score))\n",
    "print(\"The accuracy of this model: %.2f\" % (acc))"
   ]
  },
  {
   "cell_type": "code",
   "execution_count": 34,
   "metadata": {
    "id": "xP5XoLfv5F-x"
   },
   "outputs": [],
   "source": [
    "y_pred = model.predict(test_converted)"
   ]
  },
  {
   "cell_type": "code",
   "execution_count": 35,
   "metadata": {
    "id": "ZaFfjVJu-IJa"
   },
   "outputs": [
    {
     "name": "stdout",
     "output_type": "stream",
     "text": [
      "Confusion Matrix: \n",
      " [[27362  4003  1178]\n",
      " [ 2540 27089   689]\n",
      " [  197   280 28320]]\n"
     ]
    },
    {
     "data": {
      "image/png": "[encoded data removed]",
      "text/plain": [
       "<Figure size 864x432 with 2 Axes>"
      ]
     },
     "metadata": {},
     "output_type": "display_data"
    }
   ],
   "source": [
    "test, pred = util.plot_confusion_matrix(y_pred, target_converted_test, 'LSTM')"
   ]
  },
  {
   "cell_type": "code",
   "execution_count": 36,
   "metadata": {
    "id": "WHkQdn6295MF"
   },
   "outputs": [
    {
     "name": "stdout",
     "output_type": "stream",
     "text": [
      "Classification Report:                precision    recall  f1-score   support\n",
      "\n",
      "           0       0.91      0.84      0.87     32543\n",
      "           1       0.86      0.89      0.88     30318\n",
      "           2       0.94      0.98      0.96     28797\n",
      "\n",
      "    accuracy                           0.90     91658\n",
      "   macro avg       0.90      0.91      0.90     91658\n",
      "weighted avg       0.90      0.90      0.90     91658\n",
      "\n"
     ]
    }
   ],
   "source": [
    "print(\"Classification Report: \", classification_report(test, pred))"
   ]
  },
  {
   "cell_type": "markdown",
   "metadata": {
    "id": "xhgHasz59Sf4"
   },
   "source": [
    "# **LSTM_v2**"
   ]
  },
  {
   "cell_type": "code",
   "execution_count": 37,
   "metadata": {
    "id": "DsxYTS099QDi"
   },
   "outputs": [
    {
     "name": "stdout",
     "output_type": "stream",
     "text": [
      "LSTM Model Initialization...\n",
      "Model Created Successfully...\n",
      "Model: \"sequential_3\"\n",
      "_________________________________________________________________\n",
      "Layer (type)                 Output Shape              Param #   \n",
      "=================================================================\n",
      "embedding_3 (Embedding)      (None, 122, 100)          20000000  \n",
      "_________________________________________________________________\n",
      "spatial_dropout1d_4 (Spatial (None, 122, 100)          0         \n",
      "_________________________________________________________________\n",
      "lstm_1 (LSTM)                (None, 122, 64)           42240     \n",
      "_________________________________________________________________\n",
      "spatial_dropout1d_5 (Spatial (None, 122, 64)           0         \n",
      "_________________________________________________________________\n",
      "lstm_2 (LSTM)                (None, 122, 64)           33024     \n",
      "_________________________________________________________________\n",
      "global_max_pooling1d_2 (Glob (None, 64)                0         \n",
      "_________________________________________________________________\n",
      "dense_4 (Dense)              (None, 64)                4160      \n",
      "_________________________________________________________________\n",
      "dense_5 (Dense)              (None, 3)                 195       \n",
      "=================================================================\n",
      "Total params: 20,079,619\n",
      "Trainable params: 20,079,619\n",
      "Non-trainable params: 0\n",
      "_________________________________________________________________\n"
     ]
    }
   ],
   "source": [
    "lstm = LSTM_Model()\n",
    "model = lstm.create_model_v2(embed_dim = 100, lstm_out = 64, \n",
    "                          input_len = train_converted.shape[1], feature = 200000, \n",
    "                          drop_out = 0.5)\n",
    "model.summary()"
   ]
  },
  {
   "cell_type": "code",
   "execution_count": 38,
   "metadata": {
    "id": "1Vy9ybbX9QDw"
   },
   "outputs": [
    {
     "name": "stdout",
     "output_type": "stream",
     "text": [
      "Epoch 1/10\n",
      "726/726 [==============================] - 1193s 2s/step - loss: 0.6454 - acc: 0.6688 - val_loss: 0.2532 - val_acc: 0.8898\n",
      "\n",
      "Epoch 00001: val_loss improved from inf to 0.25324, saving model to /Users/pratiksayanekar/Documents/DL_20200161/checkpoints/LSTM_v2/\n",
      "INFO:tensorflow:Assets written to: /Users/pratiksayanekar/Documents/DL_20200161/checkpoints/LSTM_v2/assets\n",
      "Epoch 2/10\n",
      "726/726 [==============================] - 1131s 2s/step - loss: 0.2574 - acc: 0.8913 - val_loss: 0.2340 - val_acc: 0.8973\n",
      "\n",
      "Epoch 00002: val_loss improved from 0.25324 to 0.23403, saving model to /Users/pratiksayanekar/Documents/DL_20200161/checkpoints/LSTM_v2/\n",
      "INFO:tensorflow:Assets written to: /Users/pratiksayanekar/Documents/DL_20200161/checkpoints/LSTM_v2/assets\n",
      "Epoch 3/10\n",
      "726/726 [==============================] - 1121s 2s/step - loss: 0.2301 - acc: 0.9031 - val_loss: 0.2298 - val_acc: 0.8994\n",
      "\n",
      "Epoch 00003: val_loss improved from 0.23403 to 0.22981, saving model to /Users/pratiksayanekar/Documents/DL_20200161/checkpoints/LSTM_v2/\n",
      "INFO:tensorflow:Assets written to: /Users/pratiksayanekar/Documents/DL_20200161/checkpoints/LSTM_v2/assets\n",
      "Epoch 4/10\n",
      "726/726 [==============================] - 1126s 2s/step - loss: 0.2149 - acc: 0.9101 - val_loss: 0.2272 - val_acc: 0.8997\n",
      "\n",
      "Epoch 00004: val_loss improved from 0.22981 to 0.22715, saving model to /Users/pratiksayanekar/Documents/DL_20200161/checkpoints/LSTM_v2/\n",
      "INFO:tensorflow:Assets written to: /Users/pratiksayanekar/Documents/DL_20200161/checkpoints/LSTM_v2/assets\n",
      "Epoch 5/10\n",
      "726/726 [==============================] - 1239s 2s/step - loss: 0.2024 - acc: 0.9150 - val_loss: 0.2276 - val_acc: 0.9012\n",
      "\n",
      "Epoch 00005: val_loss did not improve from 0.22715\n",
      "Epoch 6/10\n",
      "726/726 [==============================] - 1455s 2s/step - loss: 0.1938 - acc: 0.9181 - val_loss: 0.2269 - val_acc: 0.9021\n",
      "\n",
      "Epoch 00006: val_loss improved from 0.22715 to 0.22685, saving model to /Users/pratiksayanekar/Documents/DL_20200161/checkpoints/LSTM_v2/\n",
      "INFO:tensorflow:Assets written to: /Users/pratiksayanekar/Documents/DL_20200161/checkpoints/LSTM_v2/assets\n",
      "Epoch 7/10\n",
      "726/726 [==============================] - 1482s 2s/step - loss: 0.1849 - acc: 0.9219 - val_loss: 0.2298 - val_acc: 0.9013\n",
      "\n",
      "Epoch 00007: val_loss did not improve from 0.22685\n",
      "Epoch 8/10\n",
      "726/726 [==============================] - 1509s 2s/step - loss: 0.1796 - acc: 0.9235 - val_loss: 0.2336 - val_acc: 0.9015\n",
      "\n",
      "Epoch 00008: val_loss did not improve from 0.22685\n",
      "Epoch 9/10\n",
      "726/726 [==============================] - 1422s 2s/step - loss: 0.1750 - acc: 0.9256 - val_loss: 0.2331 - val_acc: 0.9015\n",
      "\n",
      "Epoch 00009: val_loss did not improve from 0.22685\n",
      "Epoch 10/10\n",
      "726/726 [==============================] - 1200s 2s/step - loss: 0.1699 - acc: 0.9275 - val_loss: 0.2389 - val_acc: 0.9018\n",
      "\n",
      "Epoch 00010: val_loss did not improve from 0.22685\n"
     ]
    }
   ],
   "source": [
    "history = model.fit(train_converted, target_converted_train, epochs = EPOCH, \n",
    "                    batch_size= BATCH_SIZE, validation_split=0.1,\n",
    "                    callbacks=lstm.callbacks_v2)"
   ]
  },
  {
   "cell_type": "code",
   "execution_count": 39,
   "metadata": {
    "id": "bjjufKwC9QDx"
   },
   "outputs": [
    {
     "data": {
      "image/png": "[encoded data removed]",
      "text/plain": [
       "<Figure size 1080x576 with 2 Axes>"
      ]
     },
     "metadata": {},
     "output_type": "display_data"
    }
   ],
   "source": [
    "util.plot_accuracy_loss(history, 'LSTM_v2')"
   ]
  },
  {
   "cell_type": "markdown",
   "metadata": {
    "id": "mXanGrbP9QDy"
   },
   "source": [
    "# **Evaluation**"
   ]
  },
  {
   "cell_type": "code",
   "execution_count": 40,
   "metadata": {
    "id": "kq_WqUiv9QDy"
   },
   "outputs": [
    {
     "name": "stdout",
     "output_type": "stream",
     "text": [
      "Model: \"sequential_3\"\n",
      "_________________________________________________________________\n",
      "Layer (type)                 Output Shape              Param #   \n",
      "=================================================================\n",
      "embedding_3 (Embedding)      (None, 122, 100)          20000000  \n",
      "_________________________________________________________________\n",
      "spatial_dropout1d_4 (Spatial (None, 122, 100)          0         \n",
      "_________________________________________________________________\n",
      "lstm_1 (LSTM)                (None, 122, 64)           42240     \n",
      "_________________________________________________________________\n",
      "spatial_dropout1d_5 (Spatial (None, 122, 64)           0         \n",
      "_________________________________________________________________\n",
      "lstm_2 (LSTM)                (None, 122, 64)           33024     \n",
      "_________________________________________________________________\n",
      "global_max_pooling1d_2 (Glob (None, 64)                0         \n",
      "_________________________________________________________________\n",
      "dense_4 (Dense)              (None, 64)                4160      \n",
      "_________________________________________________________________\n",
      "dense_5 (Dense)              (None, 3)                 195       \n",
      "=================================================================\n",
      "Total params: 20,079,619\n",
      "Trainable params: 20,079,619\n",
      "Non-trainable params: 0\n",
      "_________________________________________________________________\n"
     ]
    }
   ],
   "source": [
    "model = lstm.load_saved_model_v2()\n",
    "model.summary()"
   ]
  },
  {
   "cell_type": "code",
   "execution_count": 41,
   "metadata": {
    "id": "l9tvfbI69QDy"
   },
   "outputs": [
    {
     "name": "stdout",
     "output_type": "stream",
     "text": [
      "90/90 - 29s - loss: 0.2249 - acc: 0.9031\n",
      "The loss of this model: 0.22\n",
      "The accuracy of this model: 0.90\n"
     ]
    }
   ],
   "source": [
    "score, acc = model.evaluate(test_converted, target_converted_test, verbose = 2, batch_size = BATCH_SIZE)\n",
    "print(\"The loss of this model: %.2f\" % (score))\n",
    "print(\"The accuracy of this model: %.2f\" % (acc))"
   ]
  },
  {
   "cell_type": "code",
   "execution_count": 42,
   "metadata": {
    "id": "Xj-IRUZt9QDy"
   },
   "outputs": [],
   "source": [
    "y_pred = model.predict(test_converted)"
   ]
  },
  {
   "cell_type": "code",
   "execution_count": 43,
   "metadata": {
    "id": "vzocGMug9QDz"
   },
   "outputs": [
    {
     "name": "stdout",
     "output_type": "stream",
     "text": [
      "Confusion Matrix: \n",
      " [[27594  4215  1197]\n",
      " [ 2267 26858   667]\n",
      " [  238   299 28323]]\n"
     ]
    },
    {
     "data": {
      "image/png": "[encoded data removed]",
      "text/plain": [
       "<Figure size 864x432 with 2 Axes>"
      ]
     },
     "metadata": {},
     "output_type": "display_data"
    }
   ],
   "source": [
    "test, pred = util.plot_confusion_matrix(y_pred, target_converted_test, 'LSTM_v2')"
   ]
  },
  {
   "cell_type": "code",
   "execution_count": 44,
   "metadata": {
    "id": "gexV8tUB9QDz"
   },
   "outputs": [
    {
     "name": "stdout",
     "output_type": "stream",
     "text": [
      "Classification Report:                precision    recall  f1-score   support\n",
      "\n",
      "           0       0.92      0.84      0.87     33006\n",
      "           1       0.86      0.90      0.88     29792\n",
      "           2       0.94      0.98      0.96     28860\n",
      "\n",
      "    accuracy                           0.90     91658\n",
      "   macro avg       0.90      0.91      0.90     91658\n",
      "weighted avg       0.90      0.90      0.90     91658\n",
      "\n"
     ]
    }
   ],
   "source": [
    "print(\"Classification Report: \", classification_report(test, pred))"
   ]
  },
  {
   "cell_type": "markdown",
   "metadata": {
    "id": "vTWn9w2kh8gw"
   },
   "source": [
    "# **Word2Vec Model**"
   ]
  },
  {
   "cell_type": "code",
   "execution_count": 73,
   "metadata": {
    "id": "BT7Cc9c7iAmk"
   },
   "outputs": [],
   "source": [
    "# word2vec = Word2VecModel()\n",
    "# word2vec_model = word2vec.create_model(X_train)\n",
    "\n",
    "# I have created a seperate class for word2vec model which has functions to create model and embedding matrix, \n",
    "# and it was working perfectly fine until I moved to local machine from colab.\n",
    "# There was some version mismatch issue, \n",
    "# please refer, https://github.com/RaRe-Technologies/gensim/wiki/Migrating-from-Gensim-3.x-to-4\n",
    "# so I have created below additional method which will return the word2vec model."
   ]
  },
  {
   "cell_type": "code",
   "execution_count": 72,
   "metadata": {},
   "outputs": [],
   "source": [
    "import numpy as np\n",
    "from gensim.models import Word2Vec\n",
    "\n",
    "Embedding_dimensions = 100\n",
    "def create_word2vec_model(X_train):\n",
    "    # Creating Word2Vec training dataset.\n",
    "    Word2vec_train_data = list(map(lambda x: x.split(), X_train))\n",
    "\n",
    "    word2vec_model = Word2Vec(sentences = Word2vec_train_data, vector_size=Embedding_dimensions,min_count=5)\n",
    "\n",
    "    print(\"Vocabulary Length:\", len(word2vec_model.wv))\n",
    "    return word2vec_model"
   ]
  },
  {
   "cell_type": "code",
   "execution_count": 74,
   "metadata": {},
   "outputs": [
    {
     "name": "stdout",
     "output_type": "stream",
     "text": [
      "Vocabulary Length: 37148\n"
     ]
    }
   ],
   "source": [
    "word2vec_model = create_word2vec_model(X_train)"
   ]
  },
  {
   "cell_type": "code",
   "execution_count": 75,
   "metadata": {
    "id": "0TAGO-E2iinq"
   },
   "outputs": [
    {
     "name": "stdout",
     "output_type": "stream",
     "text": [
      "After Tokenization and Padding...\n",
      "The shape of train data:  (824917, 60)\n",
      "The shape of test data:  (91658, 60)\n"
     ]
    }
   ],
   "source": [
    "train_converted, test_converted, tokenizer = util.tokenization_padding_oov_token(X_train, X_test, 60)\n",
    "print(\"After Tokenization and Padding...\")\n",
    "print(\"The shape of train data: \", train_converted.shape)\n",
    "print(\"The shape of test data: \", test_converted.shape)"
   ]
  },
  {
   "cell_type": "code",
   "execution_count": 76,
   "metadata": {
    "id": "qFhdBqhUim8C"
   },
   "outputs": [
    {
     "name": "stdout",
     "output_type": "stream",
     "text": [
      "Embedding Matrix Shape: (170216, 100)\n"
     ]
    }
   ],
   "source": [
    "vocab_length = len(tokenizer.word_index) + 1\n",
    "embedding_matrix = word2vec.create_embedding_matrix(vocab_length, tokenizer, word2vec_model)"
   ]
  },
  {
   "cell_type": "markdown",
   "metadata": {
    "id": "70X3KiMtw0-E"
   },
   "source": [
    "# **BiLSTM**"
   ]
  },
  {
   "cell_type": "code",
   "execution_count": 77,
   "metadata": {
    "id": "iuFYQwNfiqGI"
   },
   "outputs": [
    {
     "name": "stdout",
     "output_type": "stream",
     "text": [
      "BiLSTM Model Initialization...\n",
      "Model Created Successfully...\n",
      "Model: \"sequential_4\"\n",
      "_________________________________________________________________\n",
      "Layer (type)                 Output Shape              Param #   \n",
      "=================================================================\n",
      "embedding_4 (Embedding)      (None, 60, 100)           17021600  \n",
      "_________________________________________________________________\n",
      "bidirectional (Bidirectional (None, 60, 200)           160800    \n",
      "_________________________________________________________________\n",
      "bidirectional_1 (Bidirection (None, 60, 200)           240800    \n",
      "_________________________________________________________________\n",
      "conv1d_3 (Conv1D)            (None, 56, 100)           100100    \n",
      "_________________________________________________________________\n",
      "global_max_pooling1d_3 (Glob (None, 100)               0         \n",
      "_________________________________________________________________\n",
      "dense_6 (Dense)              (None, 16)                1616      \n",
      "_________________________________________________________________\n",
      "dense_7 (Dense)              (None, 3)                 51        \n",
      "=================================================================\n",
      "Total params: 17,524,967\n",
      "Trainable params: 503,367\n",
      "Non-trainable params: 17,021,600\n",
      "_________________________________________________________________\n"
     ]
    }
   ],
   "source": [
    "bi_lstm = BiLSTM_Model()\n",
    "model = bi_lstm.create_model(embed_dim = 100, lstm_out = 100, input_len = train_converted.shape[1], \n",
    "                             feature = vocab_length, drop_out = 0.5, embedding_matrix = embedding_matrix)\n",
    "model.summary()"
   ]
  },
  {
   "cell_type": "code",
   "execution_count": 78,
   "metadata": {
    "id": "e_VNKixm0DqM",
    "scrolled": false
   },
   "outputs": [
    {
     "name": "stdout",
     "output_type": "stream",
     "text": [
      "Epoch 1/10\n",
      "726/726 [==============================] - 1533s 2s/step - loss: 0.4677 - acc: 0.7976 - val_loss: 0.2480 - val_acc: 0.8915\n",
      "\n",
      "Epoch 00001: val_loss improved from inf to 0.24804, saving model to /Users/pratiksayanekar/Documents/DL_20200161/checkpoints/BiLSTM/\n"
     ]
    },
    {
     "name": "stderr",
     "output_type": "stream",
     "text": [
      "WARNING:absl:Found untraced functions such as lstm_cell_7_layer_call_and_return_conditional_losses, lstm_cell_7_layer_call_fn, lstm_cell_8_layer_call_and_return_conditional_losses, lstm_cell_8_layer_call_fn, lstm_cell_10_layer_call_and_return_conditional_losses while saving (showing 5 of 20). These functions will not be directly callable after loading.\n",
      "WARNING:absl:Found untraced functions such as lstm_cell_7_layer_call_and_return_conditional_losses, lstm_cell_7_layer_call_fn, lstm_cell_8_layer_call_and_return_conditional_losses, lstm_cell_8_layer_call_fn, lstm_cell_10_layer_call_and_return_conditional_losses while saving (showing 5 of 20). These functions will not be directly callable after loading.\n"
     ]
    },
    {
     "name": "stdout",
     "output_type": "stream",
     "text": [
      "INFO:tensorflow:Assets written to: /Users/pratiksayanekar/Documents/DL_20200161/checkpoints/BiLSTM/assets\n"
     ]
    },
    {
     "name": "stderr",
     "output_type": "stream",
     "text": [
      "INFO:tensorflow:Assets written to: /Users/pratiksayanekar/Documents/DL_20200161/checkpoints/BiLSTM/assets\n"
     ]
    },
    {
     "name": "stdout",
     "output_type": "stream",
     "text": [
      "Epoch 2/10\n",
      "726/726 [==============================] - 1612s 2s/step - loss: 0.2778 - acc: 0.8785 - val_loss: 0.2435 - val_acc: 0.8934\n",
      "\n",
      "Epoch 00002: val_loss improved from 0.24804 to 0.24353, saving model to /Users/pratiksayanekar/Documents/DL_20200161/checkpoints/BiLSTM/\n"
     ]
    },
    {
     "name": "stderr",
     "output_type": "stream",
     "text": [
      "WARNING:absl:Found untraced functions such as lstm_cell_7_layer_call_and_return_conditional_losses, lstm_cell_7_layer_call_fn, lstm_cell_8_layer_call_and_return_conditional_losses, lstm_cell_8_layer_call_fn, lstm_cell_10_layer_call_and_return_conditional_losses while saving (showing 5 of 20). These functions will not be directly callable after loading.\n",
      "WARNING:absl:Found untraced functions such as lstm_cell_7_layer_call_and_return_conditional_losses, lstm_cell_7_layer_call_fn, lstm_cell_8_layer_call_and_return_conditional_losses, lstm_cell_8_layer_call_fn, lstm_cell_10_layer_call_and_return_conditional_losses while saving (showing 5 of 20). These functions will not be directly callable after loading.\n"
     ]
    },
    {
     "name": "stdout",
     "output_type": "stream",
     "text": [
      "INFO:tensorflow:Assets written to: /Users/pratiksayanekar/Documents/DL_20200161/checkpoints/BiLSTM/assets\n"
     ]
    },
    {
     "name": "stderr",
     "output_type": "stream",
     "text": [
      "INFO:tensorflow:Assets written to: /Users/pratiksayanekar/Documents/DL_20200161/checkpoints/BiLSTM/assets\n"
     ]
    },
    {
     "name": "stdout",
     "output_type": "stream",
     "text": [
      "Epoch 3/10\n",
      "726/726 [==============================] - 1444s 2s/step - loss: 0.2624 - acc: 0.8838 - val_loss: 0.2376 - val_acc: 0.8948\n",
      "\n",
      "Epoch 00003: val_loss improved from 0.24353 to 0.23755, saving model to /Users/pratiksayanekar/Documents/DL_20200161/checkpoints/BiLSTM/\n"
     ]
    },
    {
     "name": "stderr",
     "output_type": "stream",
     "text": [
      "WARNING:absl:Found untraced functions such as lstm_cell_7_layer_call_and_return_conditional_losses, lstm_cell_7_layer_call_fn, lstm_cell_8_layer_call_and_return_conditional_losses, lstm_cell_8_layer_call_fn, lstm_cell_10_layer_call_and_return_conditional_losses while saving (showing 5 of 20). These functions will not be directly callable after loading.\n",
      "WARNING:absl:Found untraced functions such as lstm_cell_7_layer_call_and_return_conditional_losses, lstm_cell_7_layer_call_fn, lstm_cell_8_layer_call_and_return_conditional_losses, lstm_cell_8_layer_call_fn, lstm_cell_10_layer_call_and_return_conditional_losses while saving (showing 5 of 20). These functions will not be directly callable after loading.\n"
     ]
    },
    {
     "name": "stdout",
     "output_type": "stream",
     "text": [
      "INFO:tensorflow:Assets written to: /Users/pratiksayanekar/Documents/DL_20200161/checkpoints/BiLSTM/assets\n"
     ]
    },
    {
     "name": "stderr",
     "output_type": "stream",
     "text": [
      "INFO:tensorflow:Assets written to: /Users/pratiksayanekar/Documents/DL_20200161/checkpoints/BiLSTM/assets\n"
     ]
    },
    {
     "name": "stdout",
     "output_type": "stream",
     "text": [
      "Epoch 4/10\n",
      "726/726 [==============================] - 1378s 2s/step - loss: 0.2500 - acc: 0.8891 - val_loss: 0.2330 - val_acc: 0.8967\n",
      "\n",
      "Epoch 00004: val_loss improved from 0.23755 to 0.23299, saving model to /Users/pratiksayanekar/Documents/DL_20200161/checkpoints/BiLSTM/\n"
     ]
    },
    {
     "name": "stderr",
     "output_type": "stream",
     "text": [
      "WARNING:absl:Found untraced functions such as lstm_cell_7_layer_call_and_return_conditional_losses, lstm_cell_7_layer_call_fn, lstm_cell_8_layer_call_and_return_conditional_losses, lstm_cell_8_layer_call_fn, lstm_cell_10_layer_call_and_return_conditional_losses while saving (showing 5 of 20). These functions will not be directly callable after loading.\n",
      "WARNING:absl:Found untraced functions such as lstm_cell_7_layer_call_and_return_conditional_losses, lstm_cell_7_layer_call_fn, lstm_cell_8_layer_call_and_return_conditional_losses, lstm_cell_8_layer_call_fn, lstm_cell_10_layer_call_and_return_conditional_losses while saving (showing 5 of 20). These functions will not be directly callable after loading.\n"
     ]
    },
    {
     "name": "stdout",
     "output_type": "stream",
     "text": [
      "INFO:tensorflow:Assets written to: /Users/pratiksayanekar/Documents/DL_20200161/checkpoints/BiLSTM/assets\n"
     ]
    },
    {
     "name": "stderr",
     "output_type": "stream",
     "text": [
      "INFO:tensorflow:Assets written to: /Users/pratiksayanekar/Documents/DL_20200161/checkpoints/BiLSTM/assets\n"
     ]
    },
    {
     "name": "stdout",
     "output_type": "stream",
     "text": [
      "Epoch 5/10\n",
      "726/726 [==============================] - 1502s 2s/step - loss: 0.2446 - acc: 0.8908 - val_loss: 0.2299 - val_acc: 0.8975\n",
      "\n",
      "Epoch 00005: val_loss improved from 0.23299 to 0.22987, saving model to /Users/pratiksayanekar/Documents/DL_20200161/checkpoints/BiLSTM/\n"
     ]
    },
    {
     "name": "stderr",
     "output_type": "stream",
     "text": [
      "WARNING:absl:Found untraced functions such as lstm_cell_7_layer_call_and_return_conditional_losses, lstm_cell_7_layer_call_fn, lstm_cell_8_layer_call_and_return_conditional_losses, lstm_cell_8_layer_call_fn, lstm_cell_10_layer_call_and_return_conditional_losses while saving (showing 5 of 20). These functions will not be directly callable after loading.\n",
      "WARNING:absl:Found untraced functions such as lstm_cell_7_layer_call_and_return_conditional_losses, lstm_cell_7_layer_call_fn, lstm_cell_8_layer_call_and_return_conditional_losses, lstm_cell_8_layer_call_fn, lstm_cell_10_layer_call_and_return_conditional_losses while saving (showing 5 of 20). These functions will not be directly callable after loading.\n"
     ]
    },
    {
     "name": "stdout",
     "output_type": "stream",
     "text": [
      "INFO:tensorflow:Assets written to: /Users/pratiksayanekar/Documents/DL_20200161/checkpoints/BiLSTM/assets\n"
     ]
    },
    {
     "name": "stderr",
     "output_type": "stream",
     "text": [
      "INFO:tensorflow:Assets written to: /Users/pratiksayanekar/Documents/DL_20200161/checkpoints/BiLSTM/assets\n"
     ]
    },
    {
     "name": "stdout",
     "output_type": "stream",
     "text": [
      "Epoch 6/10\n",
      "726/726 [==============================] - 1434s 2s/step - loss: 0.2423 - acc: 0.8920 - val_loss: 0.2303 - val_acc: 0.8974\n",
      "\n",
      "Epoch 00006: val_loss did not improve from 0.22987\n",
      "Epoch 7/10\n",
      "726/726 [==============================] - 1365s 2s/step - loss: 0.2402 - acc: 0.8921 - val_loss: 0.2294 - val_acc: 0.8979\n",
      "\n",
      "Epoch 00007: val_loss improved from 0.22987 to 0.22938, saving model to /Users/pratiksayanekar/Documents/DL_20200161/checkpoints/BiLSTM/\n"
     ]
    },
    {
     "name": "stderr",
     "output_type": "stream",
     "text": [
      "WARNING:absl:Found untraced functions such as lstm_cell_7_layer_call_and_return_conditional_losses, lstm_cell_7_layer_call_fn, lstm_cell_8_layer_call_and_return_conditional_losses, lstm_cell_8_layer_call_fn, lstm_cell_10_layer_call_and_return_conditional_losses while saving (showing 5 of 20). These functions will not be directly callable after loading.\n",
      "WARNING:absl:Found untraced functions such as lstm_cell_7_layer_call_and_return_conditional_losses, lstm_cell_7_layer_call_fn, lstm_cell_8_layer_call_and_return_conditional_losses, lstm_cell_8_layer_call_fn, lstm_cell_10_layer_call_and_return_conditional_losses while saving (showing 5 of 20). These functions will not be directly callable after loading.\n"
     ]
    },
    {
     "name": "stdout",
     "output_type": "stream",
     "text": [
      "INFO:tensorflow:Assets written to: /Users/pratiksayanekar/Documents/DL_20200161/checkpoints/BiLSTM/assets\n"
     ]
    },
    {
     "name": "stderr",
     "output_type": "stream",
     "text": [
      "INFO:tensorflow:Assets written to: /Users/pratiksayanekar/Documents/DL_20200161/checkpoints/BiLSTM/assets\n"
     ]
    },
    {
     "name": "stdout",
     "output_type": "stream",
     "text": [
      "Epoch 8/10\n",
      "726/726 [==============================] - 1328s 2s/step - loss: 0.2369 - acc: 0.8941 - val_loss: 0.2287 - val_acc: 0.8990\n",
      "\n",
      "Epoch 00008: val_loss improved from 0.22938 to 0.22865, saving model to /Users/pratiksayanekar/Documents/DL_20200161/checkpoints/BiLSTM/\n"
     ]
    },
    {
     "name": "stderr",
     "output_type": "stream",
     "text": [
      "WARNING:absl:Found untraced functions such as lstm_cell_7_layer_call_and_return_conditional_losses, lstm_cell_7_layer_call_fn, lstm_cell_8_layer_call_and_return_conditional_losses, lstm_cell_8_layer_call_fn, lstm_cell_10_layer_call_and_return_conditional_losses while saving (showing 5 of 20). These functions will not be directly callable after loading.\n",
      "WARNING:absl:Found untraced functions such as lstm_cell_7_layer_call_and_return_conditional_losses, lstm_cell_7_layer_call_fn, lstm_cell_8_layer_call_and_return_conditional_losses, lstm_cell_8_layer_call_fn, lstm_cell_10_layer_call_and_return_conditional_losses while saving (showing 5 of 20). These functions will not be directly callable after loading.\n"
     ]
    },
    {
     "name": "stdout",
     "output_type": "stream",
     "text": [
      "INFO:tensorflow:Assets written to: /Users/pratiksayanekar/Documents/DL_20200161/checkpoints/BiLSTM/assets\n"
     ]
    },
    {
     "name": "stderr",
     "output_type": "stream",
     "text": [
      "INFO:tensorflow:Assets written to: /Users/pratiksayanekar/Documents/DL_20200161/checkpoints/BiLSTM/assets\n"
     ]
    },
    {
     "name": "stdout",
     "output_type": "stream",
     "text": [
      "Epoch 9/10\n",
      "726/726 [==============================] - 1325s 2s/step - loss: 0.2364 - acc: 0.8940 - val_loss: 0.2276 - val_acc: 0.8990\n",
      "\n",
      "Epoch 00009: val_loss improved from 0.22865 to 0.22756, saving model to /Users/pratiksayanekar/Documents/DL_20200161/checkpoints/BiLSTM/\n"
     ]
    },
    {
     "name": "stderr",
     "output_type": "stream",
     "text": [
      "WARNING:absl:Found untraced functions such as lstm_cell_7_layer_call_and_return_conditional_losses, lstm_cell_7_layer_call_fn, lstm_cell_8_layer_call_and_return_conditional_losses, lstm_cell_8_layer_call_fn, lstm_cell_10_layer_call_and_return_conditional_losses while saving (showing 5 of 20). These functions will not be directly callable after loading.\n",
      "WARNING:absl:Found untraced functions such as lstm_cell_7_layer_call_and_return_conditional_losses, lstm_cell_7_layer_call_fn, lstm_cell_8_layer_call_and_return_conditional_losses, lstm_cell_8_layer_call_fn, lstm_cell_10_layer_call_and_return_conditional_losses while saving (showing 5 of 20). These functions will not be directly callable after loading.\n"
     ]
    },
    {
     "name": "stdout",
     "output_type": "stream",
     "text": [
      "INFO:tensorflow:Assets written to: /Users/pratiksayanekar/Documents/DL_20200161/checkpoints/BiLSTM/assets\n"
     ]
    },
    {
     "name": "stderr",
     "output_type": "stream",
     "text": [
      "INFO:tensorflow:Assets written to: /Users/pratiksayanekar/Documents/DL_20200161/checkpoints/BiLSTM/assets\n"
     ]
    },
    {
     "name": "stdout",
     "output_type": "stream",
     "text": [
      "Epoch 10/10\n",
      "726/726 [==============================] - 1578s 2s/step - loss: 0.2354 - acc: 0.8951 - val_loss: 0.2261 - val_acc: 0.8993\n",
      "\n",
      "Epoch 00010: val_loss improved from 0.22756 to 0.22612, saving model to /Users/pratiksayanekar/Documents/DL_20200161/checkpoints/BiLSTM/\n"
     ]
    },
    {
     "name": "stderr",
     "output_type": "stream",
     "text": [
      "WARNING:absl:Found untraced functions such as lstm_cell_7_layer_call_and_return_conditional_losses, lstm_cell_7_layer_call_fn, lstm_cell_8_layer_call_and_return_conditional_losses, lstm_cell_8_layer_call_fn, lstm_cell_10_layer_call_and_return_conditional_losses while saving (showing 5 of 20). These functions will not be directly callable after loading.\n",
      "WARNING:absl:Found untraced functions such as lstm_cell_7_layer_call_and_return_conditional_losses, lstm_cell_7_layer_call_fn, lstm_cell_8_layer_call_and_return_conditional_losses, lstm_cell_8_layer_call_fn, lstm_cell_10_layer_call_and_return_conditional_losses while saving (showing 5 of 20). These functions will not be directly callable after loading.\n"
     ]
    },
    {
     "name": "stdout",
     "output_type": "stream",
     "text": [
      "INFO:tensorflow:Assets written to: /Users/pratiksayanekar/Documents/DL_20200161/checkpoints/BiLSTM/assets\n"
     ]
    },
    {
     "name": "stderr",
     "output_type": "stream",
     "text": [
      "INFO:tensorflow:Assets written to: /Users/pratiksayanekar/Documents/DL_20200161/checkpoints/BiLSTM/assets\n"
     ]
    }
   ],
   "source": [
    "history = model.fit(train_converted, target_converted_train, batch_size=BATCH_SIZE, epochs=EPOCH,\n",
    "                    validation_split=0.1, callbacks=bi_lstm.callbacks, verbose=1)"
   ]
  },
  {
   "cell_type": "markdown",
   "metadata": {
    "id": "WDDfiF1m2Ghr"
   },
   "source": [
    "# **Evaluation**"
   ]
  },
  {
   "cell_type": "code",
   "execution_count": 79,
   "metadata": {
    "id": "_nwt8aYA2cqX"
   },
   "outputs": [
    {
     "name": "stdout",
     "output_type": "stream",
     "text": [
      "Model: \"sequential_4\"\n",
      "_________________________________________________________________\n",
      "Layer (type)                 Output Shape              Param #   \n",
      "=================================================================\n",
      "embedding_4 (Embedding)      (None, 60, 100)           17021600  \n",
      "_________________________________________________________________\n",
      "bidirectional (Bidirectional (None, 60, 200)           160800    \n",
      "_________________________________________________________________\n",
      "bidirectional_1 (Bidirection (None, 60, 200)           240800    \n",
      "_________________________________________________________________\n",
      "conv1d_3 (Conv1D)            (None, 56, 100)           100100    \n",
      "_________________________________________________________________\n",
      "global_max_pooling1d_3 (Glob (None, 100)               0         \n",
      "_________________________________________________________________\n",
      "dense_6 (Dense)              (None, 16)                1616      \n",
      "_________________________________________________________________\n",
      "dense_7 (Dense)              (None, 3)                 51        \n",
      "=================================================================\n",
      "Total params: 17,524,967\n",
      "Trainable params: 17,524,967\n",
      "Non-trainable params: 0\n",
      "_________________________________________________________________\n",
      "None\n"
     ]
    }
   ],
   "source": [
    "model = bi_lstm.load_saved_model()\n",
    "print(model.summary())"
   ]
  },
  {
   "cell_type": "code",
   "execution_count": 80,
   "metadata": {
    "id": "V6hePvUv8F77"
   },
   "outputs": [
    {
     "name": "stdout",
     "output_type": "stream",
     "text": [
      "90/90 - 55s - loss: 0.2252 - acc: 0.8985\n",
      "The loss of this model: 0.23\n",
      "The accuracy of this model: 0.90\n"
     ]
    }
   ],
   "source": [
    "score, acc = model.evaluate(test_converted, target_converted_test, verbose = 2, batch_size = BATCH_SIZE)\n",
    "print(\"The loss of this model: %.2f\" % (score))\n",
    "print(\"The accuracy of this model: %.2f\" % (acc))"
   ]
  },
  {
   "cell_type": "code",
   "execution_count": 81,
   "metadata": {
    "id": "WU8XVaL_2Ghs"
   },
   "outputs": [
    {
     "data": {
      "image/png": "[encoded data removed]",
      "text/plain": [
       "<Figure size 1080x576 with 2 Axes>"
      ]
     },
     "metadata": {},
     "output_type": "display_data"
    }
   ],
   "source": [
    "util.plot_accuracy_loss(history, 'BiLSTM')"
   ]
  },
  {
   "cell_type": "markdown",
   "metadata": {
    "id": "QCDslDeU2YyX"
   },
   "source": [
    "# **Prediction** "
   ]
  },
  {
   "cell_type": "code",
   "execution_count": 82,
   "metadata": {
    "id": "p0ESOLwC2YyY"
   },
   "outputs": [],
   "source": [
    "y_pred = model.predict(test_converted)"
   ]
  },
  {
   "cell_type": "code",
   "execution_count": 83,
   "metadata": {
    "id": "q5qmWSKY2YyZ"
   },
   "outputs": [
    {
     "name": "stdout",
     "output_type": "stream",
     "text": [
      "Confusion Matrix: \n",
      " [[27316  4306  1250]\n",
      " [ 2543 26791   687]\n",
      " [  240   275 28250]]\n"
     ]
    },
    {
     "data": {
      "image/png": "[encoded data removed]",
      "text/plain": [
       "<Figure size 864x432 with 2 Axes>"
      ]
     },
     "metadata": {},
     "output_type": "display_data"
    }
   ],
   "source": [
    "test, pred = util.plot_confusion_matrix(y_pred, target_converted_test, 'BiLSTM')"
   ]
  },
  {
   "cell_type": "code",
   "execution_count": 84,
   "metadata": {
    "id": "7svgO38x2Yya"
   },
   "outputs": [
    {
     "name": "stdout",
     "output_type": "stream",
     "text": [
      "Classification Report:                precision    recall  f1-score   support\n",
      "\n",
      "           0       0.91      0.83      0.87     32872\n",
      "           1       0.85      0.89      0.87     30021\n",
      "           2       0.94      0.98      0.96     28765\n",
      "\n",
      "    accuracy                           0.90     91658\n",
      "   macro avg       0.90      0.90      0.90     91658\n",
      "weighted avg       0.90      0.90      0.90     91658\n",
      "\n"
     ]
    }
   ],
   "source": [
    "print(\"Classification Report: \", classification_report(test, pred))"
   ]
  }
 ],
 "metadata": {
  "accelerator": "GPU",
  "colab": {
   "authorship_tag": "ABX9TyMu9jkCBbp3LzKHr2ENmGGn",
   "collapsed_sections": [],
   "mount_file_id": "1sFa-J96f-q8Vl2x8CBoXoYbM4j7pczd9",
   "name": "Deep_Learning_models.ipynb",
   "provenance": []
  },
  "kernelspec": {
   "display_name": "Python 3",
   "language": "python",
   "name": "python3"
  },
  "language_info": {
   "codemirror_mode": {
    "name": "ipython",
    "version": 3
   },
   "file_extension": ".py",
   "mimetype": "text/x-python",
   "name": "python",
   "nbconvert_exporter": "python",
   "pygments_lexer": "ipython3",
   "version": "3.8.3"
  }
 },
 "nbformat": 4,
 "nbformat_minor": 1
}
