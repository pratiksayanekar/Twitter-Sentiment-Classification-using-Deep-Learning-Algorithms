{
 "cells": [
  {
   "cell_type": "markdown",
   "metadata": {},
   "source": [
    "***\n",
    "# Name: Pratik Sayanekar | Student ID: 20200161\n",
    "## COMP47650 Deep Learning Project\n",
    "## Dataset -  B1: Twitter Sentiment Classification\n",
    "***"
   ]
  },
  {
   "cell_type": "markdown",
   "metadata": {},
   "source": [
    "### Directory Structure\n",
    "```\n",
    "sample_project\n",
    "-checkpoints  # Models with minimum validation loss are saved here </b>\n",
    "   |\n",
    "    ----> cnn \n",
    "    ----> LSTM\n",
    "    ----> BiLSTM\n",
    "    \n",
    "- Data        # csv files are stored here.\n",
    "    |\n",
    "     ---> dataset(clean).csv   \n",
    "     ---> preprocessed_data.csv\n",
    "     ---> glove.6B.100d.txt\n",
    "\n",
    "- figs        # Visualization related to dataset and model evaluations\n",
    "    |\n",
    "     ---> Dataset\n",
    "             |\n",
    "              ---> Dataset related visualizations\n",
    "     ---> Models\n",
    "             |\n",
    "              ---> Deep Learning model evaluation visualizations\n",
    "\n",
    "- models     # Custom python classes with model specific utilities\n",
    "    |\n",
    "    ----> BiLSTM.py\n",
    "    ----> CNN_1.py\n",
    "    ----> LSTM_1.py\n",
    "    ----> Word2Vec_1.py\n",
    "\n",
    "- SavedNotebooks   # as a part of experiment, several other approaches and results are saved here\n",
    "    |\n",
    "    ----> GPU_Notebooks/\n",
    "    ----> Deep_Learning_models_dropout_0.5.ipynb\n",
    "    ----> Deep_Learning_models_dropout_0.8.ipynb\n",
    "    ----> Deep_Learning_models_dropout_Glove.ipynb\n",
    "\n",
    "- utils    \n",
    "    ---> basic_utilities.py   # this file incorporates utilites required for deep neural network modeling.\n",
    "\n",
    "- Data_Preprocessing.ipynb    # Preprocessing file \n",
    "- Deep_Learning_Models.ipynb  # Deep Learning model implementation\n",
    "- README.ipynb\n",
    "- requirements.txt\n",
    "```"
   ]
  },
  {
   "cell_type": "markdown",
   "metadata": {},
   "source": [
    "***\n",
    "# Requirements\n",
    "\n",
    "Requirement of this project is generated using below command.\n",
    "\n",
    " - pip install pipreqs\n",
    " - pipreqs /path/to/project\n",
    " \n",
    "There are multiple lines of requirement.txt is generated. So for any version mismatch, requesting to execute below commented cell."
   ]
  },
  {
   "cell_type": "code",
   "execution_count": 1,
   "metadata": {},
   "outputs": [],
   "source": [
    "# Specified requirements can be installed with below command.\n",
    "# pip install -r requirements.txt"
   ]
  },
  {
   "cell_type": "markdown",
   "metadata": {},
   "source": [
    "\n",
    "***\n",
    "# Instructions to execute this project.\n",
    "\n",
    "\n",
    "<ol>\n",
    "<b> <li>Setting up filePath variable: </li></b>\n",
    "    Find filePath variable and change the value as per the project location in file system.\n",
    "    filePath variable can be found in below files, <br>\n",
    "    - Data_Preprocessing.ipynb <br>\n",
    "    - Deep_Learning_models.ipynb<br>\n",
    "    - /utils/basic_utilities.py<br>\n",
    "    - /models/BiLSTM.py<br>\n",
    "    - /models/CNN_1.py<br>\n",
    "    - /models/LSTM_1.py<br>\n",
    "<b><li>Execute Data_Preprocessing.ipynb file:</li></b>\n",
    "    This notebook process the csv file stored at '/Data/dataset(clean).csv'. <br>\n",
    "    Please make sure that the file present at specified location or change the filePath accordingly.<br>\n",
    "    It will generate the preprocessed file at '/Data/preprocessed_data.csv'.<br>\n",
    "<b><li>Execute Deep_Learning_models.ipynb: file</li></b>\n",
    "    The preprocessed data of previous step is loaded here and further deep neural network modeling is performed. <br>\n",
    "    There are 5 python files created for utility purposes of respective models. These files are imported in import section.<br>\n",
    "    Section 3 describes the word embedding and there are two approaches discussed there, Word2Vec and GloVe.<br>\n",
    "    Execute either 3.1 or 3.2 section to perform specified word embeddings.<br>\n",
    "    glove requires the the source file stored at 'Data/glove.6B.100d.txt'. This file is of 350mb, as per space availability this file will be uploaded. If not present requesting you to store one at specified location. <br>\n",
    "    <b>For model evaluation purpose, only execute evalution part specified in each model, this will load the previously saved trained model and evaluate on it.</b><br>\n",
    "    Model training is done on Macbook pro CPU, so the time taken to execute each batch is tremendously high. <br>\n",
    "<ol>"
   ]
  },
  {
   "cell_type": "markdown",
   "metadata": {},
   "source": [
    "***\n",
    "# Project Overview: \n",
    "![title](./figs/DL_models.png)"
   ]
  },
  {
   "cell_type": "markdown",
   "metadata": {},
   "source": [
    "# Evaluation Metric - Accuracy: \n",
    "\n",
    "Models are tuned on the basis of values provided as filter length, kernal length, max_len and dropout. As per computing power batch size and number of epochs can be changed. Initially the model is trained on batch size of 516 and 1024 as well to analyse the results, these results are stored at SavedNotebooks directory. \n",
    "\n",
    "*** \n",
    "\n",
    "## CNN Model\n",
    "![title](./figs/cnn_v1.png)\n",
    "### Accuracy and Loss trend of training and validation data\n",
    "![title](./figs/Models/CNN_acc_loss.png)\n",
    "### Confusion Matrix of testing data\n",
    "![title](./figs/Models/CNN_confusion_matrix.png)\n",
    "***\n",
    "\n",
    "## CNN_v2 Model\n",
    "![title](./figs/cnn_v2.png)\n",
    "### Accuracy and Loss trend of training and validation data\n",
    "![title](./figs/Models/CNN_V2_acc_loss.png)\n",
    "### Confusion Matrix of testing data\n",
    "![title](./figs/Models/CNN_V2_confusion_matrix.png)\n",
    "\n",
    "***\n",
    "\n",
    "## LSTM Model\n",
    "![title](./figs/lstm_v1.png)\n",
    "### Accuracy and Loss trend of training and validation data\n",
    "![title](./figs/Models/LSTM_acc_loss.png)\n",
    "### Confusion Matrix of testing data\n",
    "![title](./figs/Models/LSTM_confusion_matrix.png)\n",
    "\n",
    "***\n",
    "\n",
    "## LSTM_v2 Model\n",
    "![title](./figs/lstm_v2.png)\n",
    "### Accuracy and Loss trend of training and validation data\n",
    "![title](./figs/Models/LSTM_V2_acc_loss.png)\n",
    "### Confusion Matrix of testing data\n",
    "![title](./figs/Models/LSTM_V2_confusion_matrix.png)\n",
    "\n",
    "***\n",
    "\n",
    "## BiLSTM + CNN Model\n",
    "\n",
    "![title](figs/BiLSTM.png)\n",
    "### Accuracy and Loss trend of training and validation data\n",
    "![title](figs/Models/BiLSTM_acc_loss.png)\n",
    "### Confusion Matrix of testing data\n",
    "![title](figs/Models/BiLSTM_confusion_matrix.png)\n",
    "\n",
    "***"
   ]
  },
  {
   "cell_type": "markdown",
   "metadata": {},
   "source": [
    "<b> Insights:\n",
    "    <li>The testing accuracy of above model is 90%, the accuracy of angry and disappointed is comparatively less as model is perfectly distinguishing tweets with happy emotion.</li>\n",
    "    <li>The loss of training and validation curve shows no overfitting, provided that the accuracy on unseen data matches the accuracy of validation data.</li>\n",
    "    <li>Model is performing poor, not actually poor but less efficient while predicting between 'angry' and 'disappointed' tweets. The confusion matrix of all models shows similar results.</li>\n",
    "    <li>The execution time of epochs can be reduced by adding several layers of dropout but this is avoided as it results in increase of loss.</li>\n",
    "    <li>The batch size can be increase more than 1024. for example in last saved notebook by increasing batch size to 2048 reduces the number of steps to run one epoch, 587776 samples were trained in 287 steps. On CPU one epoch of BiLSTM takes almost an hour to execute.</li>\n",
    "    <li>Due to Google collab time limit exhaustion, the latest run is executed on Macbook pro CPU with increased batch size.</li>\n",
    "</b>    "
   ]
  }
 ],
 "metadata": {
  "kernelspec": {
   "display_name": "Python 3",
   "language": "python",
   "name": "python3"
  },
  "language_info": {
   "codemirror_mode": {
    "name": "ipython",
    "version": 3
   },
   "file_extension": ".py",
   "mimetype": "text/x-python",
   "name": "python",
   "nbconvert_exporter": "python",
   "pygments_lexer": "ipython3",
   "version": "3.8.3"
  }
 },
 "nbformat": 4,
 "nbformat_minor": 4
}
